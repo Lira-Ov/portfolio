{
 "cells": [
  {
   "cell_type": "markdown",
   "id": "07f0f248",
   "metadata": {},
   "source": [
    "# Предсказание температуры стали"
   ]
  },
  {
   "cell_type": "markdown",
   "id": "fe53e2d7",
   "metadata": {},
   "source": [
    "Чтобы оптимизировать производственные расходы, металлургический комбинат ООО «Так закаляем сталь» решил уменьшить потребление электроэнергии на этапе обработки стали. Нам предстоит построить модель, которая предскажет температуру стали.\n",
    "\n"
   ]
  },
  {
   "cell_type": "markdown",
   "id": "f45ccd88",
   "metadata": {},
   "source": [
    "# Описание этапа обработки"
   ]
  },
  {
   "cell_type": "markdown",
   "id": "a1731864",
   "metadata": {},
   "source": [
    "Сталь обрабатывают в металлическом ковше вместимостью около 100 тонн. Чтобы ковш выдерживал высокие температуры, изнутри его облицовывают огнеупорным кирпичом. Расплавленную сталь заливают в ковш и подогревают до нужной температуры графитовыми электродами. Они установлены в крышке ковша. \n",
    "\n",
    "Из сплава выводится сера (десульфурация), добавлением примесей корректируется химический состав и отбираются пробы. Сталь легируют — изменяют её состав — подавая куски сплава из бункера для сыпучих материалов или проволоку через специальный трайб-аппарат (англ. tribe, «масса»).\n",
    "\n",
    "Перед тем как первый раз ввести легирующие добавки, измеряют температуру стали и производят её химический анализ. Потом температуру на несколько минут повышают, добавляют легирующие материалы и продувают сплав инертным газом. Затем его перемешивают и снова проводят измерения. Такой цикл повторяется до достижения целевого химического состава и оптимальной температуры плавки.\n",
    "\n",
    "Тогда расплавленная сталь отправляется на доводку металла или поступает в машину непрерывной разливки. Оттуда готовый продукт выходит в виде заготовок-слябов (англ. slab, «плита»)."
   ]
  },
  {
   "cell_type": "markdown",
   "id": "a5287b0d",
   "metadata": {},
   "source": [
    "# Описание данных"
   ]
  },
  {
   "cell_type": "markdown",
   "id": "a5afb329",
   "metadata": {},
   "source": [
    "Данные состоят из файлов, полученных из разных источников:\n",
    "- data_arc_new.csv — данные об электродах;\n",
    "- data_bulk_new.csv — данные о подаче сыпучих материалов (объём);\n",
    "- data_bulk_time_new.csv — данные о подаче сыпучих материалов (время);\n",
    "- data_gas_new.csv — данные о продувке сплава газом;\n",
    "- data_temp_new.csv — результаты измерения температуры;\n",
    "- data_wire_new.csv — данные о проволочных материалах (объём);\n",
    "- data_wire_time_new.csv — данные о проволочных материалах (время).\n",
    "\n",
    "Во всех файлах столбец key содержит номер партии. В файлах может быть несколько строк с одинаковым значением key: они соответствуют разным итерациям обработки."
   ]
  },
  {
   "cell_type": "markdown",
   "id": "20db8b41",
   "metadata": {},
   "source": [
    "## Исследовательский анализ данных"
   ]
  },
  {
   "cell_type": "markdown",
   "id": "f445a315",
   "metadata": {},
   "source": [
    "### Откроем и изучим файлы"
   ]
  },
  {
   "cell_type": "code",
   "execution_count": 1,
   "id": "93b62c81",
   "metadata": {},
   "outputs": [
    {
     "name": "stderr",
     "output_type": "stream",
     "text": [
      "\"grep\" ­Ґ пў«пҐвбп ў­гваҐ­­Ґ© Ё«Ё ў­Ґи­Ґ©\n",
      "Є®¬ ­¤®©, ЁбЇ®«­пҐ¬®© Їа®Ја ¬¬®© Ё«Ё Ї ЄҐв­л¬ д ©«®¬.\n"
     ]
    }
   ],
   "source": [
    "! pip list | grep matplotlib"
   ]
  },
  {
   "cell_type": "code",
   "execution_count": 2,
   "id": "8f0715b4",
   "metadata": {},
   "outputs": [],
   "source": [
    "# импортируем необходимые библиотеки\n",
    "import matplotlib.pyplot as plt\n",
    "import numpy as np\n",
    "import pandas as pd\n",
    "import seaborn as sns\n",
    "import time \n",
    "#import matplotlib.font_manager\n",
    "\n",
    "from catboost import CatBoostRegressor\n",
    "from lightgbm import LGBMRegressor\n",
    "from sklearn.ensemble import RandomForestRegressor\n",
    "from sklearn.tree import DecisionTreeRegressor\n",
    "from sklearn.linear_model import LinearRegression\n",
    "from sklearn.model_selection import RandomizedSearchCV\n",
    "from sklearn.metrics import mean_absolute_error\n",
    "from sklearn.model_selection import train_test_split, cross_val_score\n",
    "from sklearn.preprocessing import StandardScaler\n",
    "from sklearn.dummy import DummyRegressor\n",
    "#from matplotlib.font_manager import get_font_names\n",
    "from sklearn.metrics import r2_score\n",
    "\n",
    "import warnings\n",
    "warnings.filterwarnings(\"ignore\")"
   ]
  },
  {
   "cell_type": "markdown",
   "id": "0afc6149",
   "metadata": {},
   "source": [
    "#### Данные об электродах"
   ]
  },
  {
   "cell_type": "code",
   "execution_count": 3,
   "id": "b3c83793",
   "metadata": {},
   "outputs": [],
   "source": [
    "# открываем файл\n",
    "data_arc = pd.read_csv('https://code.s3.yandex.net/datasets/data_arc_new.csv')"
   ]
  },
  {
   "cell_type": "code",
   "execution_count": 4,
   "id": "2cb67499",
   "metadata": {},
   "outputs": [
    {
     "data": {
      "text/html": [
       "<div>\n",
       "<style scoped>\n",
       "    .dataframe tbody tr th:only-of-type {\n",
       "        vertical-align: middle;\n",
       "    }\n",
       "\n",
       "    .dataframe tbody tr th {\n",
       "        vertical-align: top;\n",
       "    }\n",
       "\n",
       "    .dataframe thead th {\n",
       "        text-align: right;\n",
       "    }\n",
       "</style>\n",
       "<table border=\"1\" class=\"dataframe\">\n",
       "  <thead>\n",
       "    <tr style=\"text-align: right;\">\n",
       "      <th></th>\n",
       "      <th>key</th>\n",
       "      <th>Начало нагрева дугой</th>\n",
       "      <th>Конец нагрева дугой</th>\n",
       "      <th>Активная мощность</th>\n",
       "      <th>Реактивная мощность</th>\n",
       "    </tr>\n",
       "  </thead>\n",
       "  <tbody>\n",
       "    <tr>\n",
       "      <th>0</th>\n",
       "      <td>1</td>\n",
       "      <td>2019-05-03 11:02:14</td>\n",
       "      <td>2019-05-03 11:06:02</td>\n",
       "      <td>0.305130</td>\n",
       "      <td>0.211253</td>\n",
       "    </tr>\n",
       "    <tr>\n",
       "      <th>1</th>\n",
       "      <td>1</td>\n",
       "      <td>2019-05-03 11:07:28</td>\n",
       "      <td>2019-05-03 11:10:33</td>\n",
       "      <td>0.765658</td>\n",
       "      <td>0.477438</td>\n",
       "    </tr>\n",
       "    <tr>\n",
       "      <th>2</th>\n",
       "      <td>1</td>\n",
       "      <td>2019-05-03 11:11:44</td>\n",
       "      <td>2019-05-03 11:14:36</td>\n",
       "      <td>0.580313</td>\n",
       "      <td>0.430460</td>\n",
       "    </tr>\n",
       "    <tr>\n",
       "      <th>3</th>\n",
       "      <td>1</td>\n",
       "      <td>2019-05-03 11:18:14</td>\n",
       "      <td>2019-05-03 11:24:19</td>\n",
       "      <td>0.518496</td>\n",
       "      <td>0.379979</td>\n",
       "    </tr>\n",
       "    <tr>\n",
       "      <th>4</th>\n",
       "      <td>1</td>\n",
       "      <td>2019-05-03 11:26:09</td>\n",
       "      <td>2019-05-03 11:28:37</td>\n",
       "      <td>0.867133</td>\n",
       "      <td>0.643691</td>\n",
       "    </tr>\n",
       "  </tbody>\n",
       "</table>\n",
       "</div>"
      ],
      "text/plain": [
       "   key Начало нагрева дугой  Конец нагрева дугой  Активная мощность  \\\n",
       "0    1  2019-05-03 11:02:14  2019-05-03 11:06:02           0.305130   \n",
       "1    1  2019-05-03 11:07:28  2019-05-03 11:10:33           0.765658   \n",
       "2    1  2019-05-03 11:11:44  2019-05-03 11:14:36           0.580313   \n",
       "3    1  2019-05-03 11:18:14  2019-05-03 11:24:19           0.518496   \n",
       "4    1  2019-05-03 11:26:09  2019-05-03 11:28:37           0.867133   \n",
       "\n",
       "   Реактивная мощность  \n",
       "0             0.211253  \n",
       "1             0.477438  \n",
       "2             0.430460  \n",
       "3             0.379979  \n",
       "4             0.643691  "
      ]
     },
     "execution_count": 4,
     "metadata": {},
     "output_type": "execute_result"
    }
   ],
   "source": [
    "# выводим первые 5 строк\n",
    "data_arc.head(5)"
   ]
  },
  {
   "cell_type": "code",
   "execution_count": 5,
   "id": "b18d1481",
   "metadata": {},
   "outputs": [
    {
     "data": {
      "text/plain": [
       "2108    16\n",
       "1513    15\n",
       "1689    15\n",
       "2567    14\n",
       "46      13\n",
       "        ..\n",
       "112      1\n",
       "2472     1\n",
       "2025     1\n",
       "3059     1\n",
       "1615     1\n",
       "Name: key, Length: 3214, dtype: int64"
      ]
     },
     "execution_count": 5,
     "metadata": {},
     "output_type": "execute_result"
    }
   ],
   "source": [
    "# смотрим частоту итераций в партии\n",
    "data_arc['key'].value_counts()"
   ]
  },
  {
   "cell_type": "markdown",
   "id": "99303a51",
   "metadata": {},
   "source": [
    "Видим что значения партии - key повторяются, этот показатель означает количество итериаций обработки материала в одной партии.\n",
    "Видим что количество итераций в партиях разнится, полагаю на этапе предобработки нужна будет группировка по данному признаку."
   ]
  },
  {
   "cell_type": "code",
   "execution_count": 6,
   "id": "a369e615",
   "metadata": {},
   "outputs": [
    {
     "name": "stdout",
     "output_type": "stream",
     "text": [
      "<class 'pandas.core.frame.DataFrame'>\n",
      "RangeIndex: 14876 entries, 0 to 14875\n",
      "Data columns (total 5 columns):\n",
      " #   Column                Non-Null Count  Dtype  \n",
      "---  ------                --------------  -----  \n",
      " 0   key                   14876 non-null  int64  \n",
      " 1   Начало нагрева дугой  14876 non-null  object \n",
      " 2   Конец нагрева дугой   14876 non-null  object \n",
      " 3   Активная мощность     14876 non-null  float64\n",
      " 4   Реактивная мощность   14876 non-null  float64\n",
      "dtypes: float64(2), int64(1), object(2)\n",
      "memory usage: 581.2+ KB\n"
     ]
    }
   ],
   "source": [
    "# вывод общей информации\n",
    "data_arc.info()"
   ]
  },
  {
   "cell_type": "markdown",
   "id": "eca71bc0",
   "metadata": {},
   "source": [
    "Видим что пропуски отсутствуют, тип данных в столбцах с временем начала и конца нагрева дугой необходимо изменить"
   ]
  },
  {
   "cell_type": "code",
   "execution_count": 7,
   "id": "7e1dc436",
   "metadata": {},
   "outputs": [
    {
     "data": {
      "text/html": [
       "<div>\n",
       "<style scoped>\n",
       "    .dataframe tbody tr th:only-of-type {\n",
       "        vertical-align: middle;\n",
       "    }\n",
       "\n",
       "    .dataframe tbody tr th {\n",
       "        vertical-align: top;\n",
       "    }\n",
       "\n",
       "    .dataframe thead th {\n",
       "        text-align: right;\n",
       "    }\n",
       "</style>\n",
       "<table border=\"1\" class=\"dataframe\">\n",
       "  <thead>\n",
       "    <tr style=\"text-align: right;\">\n",
       "      <th></th>\n",
       "      <th>count</th>\n",
       "      <th>mean</th>\n",
       "      <th>std</th>\n",
       "      <th>min</th>\n",
       "      <th>25%</th>\n",
       "      <th>50%</th>\n",
       "      <th>75%</th>\n",
       "      <th>max</th>\n",
       "    </tr>\n",
       "  </thead>\n",
       "  <tbody>\n",
       "    <tr>\n",
       "      <th>key</th>\n",
       "      <td>14876.0</td>\n",
       "      <td>1615.220422</td>\n",
       "      <td>934.571502</td>\n",
       "      <td>1.000000</td>\n",
       "      <td>806.000000</td>\n",
       "      <td>1617.000000</td>\n",
       "      <td>2429.000000</td>\n",
       "      <td>3241.000000</td>\n",
       "    </tr>\n",
       "    <tr>\n",
       "      <th>Активная мощность</th>\n",
       "      <td>14876.0</td>\n",
       "      <td>0.662752</td>\n",
       "      <td>0.258885</td>\n",
       "      <td>0.223120</td>\n",
       "      <td>0.467115</td>\n",
       "      <td>0.599587</td>\n",
       "      <td>0.830070</td>\n",
       "      <td>1.463773</td>\n",
       "    </tr>\n",
       "    <tr>\n",
       "      <th>Реактивная мощность</th>\n",
       "      <td>14876.0</td>\n",
       "      <td>0.438986</td>\n",
       "      <td>5.873485</td>\n",
       "      <td>-715.479924</td>\n",
       "      <td>0.337175</td>\n",
       "      <td>0.441639</td>\n",
       "      <td>0.608201</td>\n",
       "      <td>1.270284</td>\n",
       "    </tr>\n",
       "  </tbody>\n",
       "</table>\n",
       "</div>"
      ],
      "text/plain": [
       "                       count         mean         std         min         25%  \\\n",
       "key                  14876.0  1615.220422  934.571502    1.000000  806.000000   \n",
       "Активная мощность    14876.0     0.662752    0.258885    0.223120    0.467115   \n",
       "Реактивная мощность  14876.0     0.438986    5.873485 -715.479924    0.337175   \n",
       "\n",
       "                             50%          75%          max  \n",
       "key                  1617.000000  2429.000000  3241.000000  \n",
       "Активная мощность       0.599587     0.830070     1.463773  \n",
       "Реактивная мощность     0.441639     0.608201     1.270284  "
      ]
     },
     "execution_count": 7,
     "metadata": {},
     "output_type": "execute_result"
    }
   ],
   "source": [
    "# посмотри описательную статистику\n",
    "data_arc.describe().T"
   ]
  },
  {
   "cell_type": "code",
   "execution_count": 8,
   "id": "44127113",
   "metadata": {},
   "outputs": [
    {
     "data": {
      "text/html": [
       "<div>\n",
       "<style scoped>\n",
       "    .dataframe tbody tr th:only-of-type {\n",
       "        vertical-align: middle;\n",
       "    }\n",
       "\n",
       "    .dataframe tbody tr th {\n",
       "        vertical-align: top;\n",
       "    }\n",
       "\n",
       "    .dataframe thead th {\n",
       "        text-align: right;\n",
       "    }\n",
       "</style>\n",
       "<table border=\"1\" class=\"dataframe\">\n",
       "  <thead>\n",
       "    <tr style=\"text-align: right;\">\n",
       "      <th></th>\n",
       "      <th>key</th>\n",
       "      <th>Начало нагрева дугой</th>\n",
       "      <th>Конец нагрева дугой</th>\n",
       "      <th>Активная мощность</th>\n",
       "      <th>Реактивная мощность</th>\n",
       "    </tr>\n",
       "  </thead>\n",
       "  <tbody>\n",
       "    <tr>\n",
       "      <th>9780</th>\n",
       "      <td>2116</td>\n",
       "      <td>2019-07-28 02:22:08</td>\n",
       "      <td>2019-07-28 02:23:57</td>\n",
       "      <td>0.705344</td>\n",
       "      <td>-715.479924</td>\n",
       "    </tr>\n",
       "  </tbody>\n",
       "</table>\n",
       "</div>"
      ],
      "text/plain": [
       "       key Начало нагрева дугой  Конец нагрева дугой  Активная мощность  \\\n",
       "9780  2116  2019-07-28 02:22:08  2019-07-28 02:23:57           0.705344   \n",
       "\n",
       "      Реактивная мощность  \n",
       "9780          -715.479924  "
      ]
     },
     "execution_count": 8,
     "metadata": {},
     "output_type": "execute_result"
    }
   ],
   "source": [
    "#вывод строк в которых реактивная мощность меньше нуля\n",
    "data_arc[data_arc['Реактивная мощность'] <= 0]"
   ]
  },
  {
   "cell_type": "markdown",
   "id": "6935ddf4",
   "metadata": {},
   "source": [
    "Видим что отрицательное значение в столбце с реактивной мощностью всего одно, предлагаю удалить его на этапе предобработки"
   ]
  },
  {
   "cell_type": "code",
   "execution_count": 9,
   "id": "369e01a4",
   "metadata": {},
   "outputs": [
    {
     "data": {
      "image/png": "[encoded data removed]",
      "text/plain": [
       "<Figure size 1500x500 with 1 Axes>"
      ]
     },
     "metadata": {},
     "output_type": "display_data"
    }
   ],
   "source": [
    "# посмотрим распределение признака Активная мощность\n",
    "data_arc['Активная мощность'].hist(bins=100,figsize=(15, 5))\n",
    "plt.title('График распределения активной мощности')\n",
    "plt.xlabel(\"Мощность\")\n",
    "plt.ylabel(\"Количествово показателеей\")\n",
    "plt.show()"
   ]
  },
  {
   "cell_type": "markdown",
   "id": "31f5fd53",
   "metadata": {},
   "source": [
    "Нормальное распределение активной мощности"
   ]
  },
  {
   "cell_type": "code",
   "execution_count": 10,
   "id": "8a2af4fe",
   "metadata": {
    "scrolled": true
   },
   "outputs": [
    {
     "data": {
      "image/png": "[encoded data removed]",
      "text/plain": [
       "<Figure size 1500x500 with 1 Axes>"
      ]
     },
     "metadata": {},
     "output_type": "display_data"
    }
   ],
   "source": [
    "# посмотрим распределение признака Реактивная мощность\n",
    "data_arc[data_arc['Реактивная мощность'] > 0]['Реактивная мощность'].hist(bins=100,figsize=(15, 5))\n",
    "plt.title('График распределения реактивной мощности')\n",
    "plt.xlabel(\"Мощность\")\n",
    "plt.ylabel(\"Количествово показателеей\")\n",
    "plt.show()"
   ]
  },
  {
   "cell_type": "markdown",
   "id": "418c7b15",
   "metadata": {},
   "source": [
    "В таблице с данными об электродах:\n",
    "- отстутствуют пропуски\n",
    "- необходимо агрегирование данных по признаку key\n",
    "- имеется отрицательное значение по признаку рекативная мощность, предлагаю избавиться\n",
    "- необходимо именить тип данных в стобцах с временем начала и окончания нагрева дугой"
   ]
  },
  {
   "cell_type": "markdown",
   "id": "1db591fb",
   "metadata": {},
   "source": [
    "#### Данные о подаче сыпучих материалов"
   ]
  },
  {
   "cell_type": "markdown",
   "id": "8b5edab7",
   "metadata": {},
   "source": [
    "##### Объем подачи сыпучих материалов"
   ]
  },
  {
   "cell_type": "code",
   "execution_count": 11,
   "id": "b826a87a",
   "metadata": {},
   "outputs": [],
   "source": [
    "# открываем файл\n",
    "data_bulk = pd.read_csv('https://code.s3.yandex.net/datasets/data_bulk_new.csv')"
   ]
  },
  {
   "cell_type": "code",
   "execution_count": 12,
   "id": "deb03920",
   "metadata": {},
   "outputs": [
    {
     "data": {
      "text/html": [
       "<div>\n",
       "<style scoped>\n",
       "    .dataframe tbody tr th:only-of-type {\n",
       "        vertical-align: middle;\n",
       "    }\n",
       "\n",
       "    .dataframe tbody tr th {\n",
       "        vertical-align: top;\n",
       "    }\n",
       "\n",
       "    .dataframe thead th {\n",
       "        text-align: right;\n",
       "    }\n",
       "</style>\n",
       "<table border=\"1\" class=\"dataframe\">\n",
       "  <thead>\n",
       "    <tr style=\"text-align: right;\">\n",
       "      <th></th>\n",
       "      <th>key</th>\n",
       "      <th>Bulk 1</th>\n",
       "      <th>Bulk 2</th>\n",
       "      <th>Bulk 3</th>\n",
       "      <th>Bulk 4</th>\n",
       "      <th>Bulk 5</th>\n",
       "      <th>Bulk 6</th>\n",
       "      <th>Bulk 7</th>\n",
       "      <th>Bulk 8</th>\n",
       "      <th>Bulk 9</th>\n",
       "      <th>Bulk 10</th>\n",
       "      <th>Bulk 11</th>\n",
       "      <th>Bulk 12</th>\n",
       "      <th>Bulk 13</th>\n",
       "      <th>Bulk 14</th>\n",
       "      <th>Bulk 15</th>\n",
       "    </tr>\n",
       "  </thead>\n",
       "  <tbody>\n",
       "    <tr>\n",
       "      <th>0</th>\n",
       "      <td>1</td>\n",
       "      <td>NaN</td>\n",
       "      <td>NaN</td>\n",
       "      <td>NaN</td>\n",
       "      <td>43.0</td>\n",
       "      <td>NaN</td>\n",
       "      <td>NaN</td>\n",
       "      <td>NaN</td>\n",
       "      <td>NaN</td>\n",
       "      <td>NaN</td>\n",
       "      <td>NaN</td>\n",
       "      <td>NaN</td>\n",
       "      <td>206.0</td>\n",
       "      <td>NaN</td>\n",
       "      <td>150.0</td>\n",
       "      <td>154.0</td>\n",
       "    </tr>\n",
       "    <tr>\n",
       "      <th>1</th>\n",
       "      <td>2</td>\n",
       "      <td>NaN</td>\n",
       "      <td>NaN</td>\n",
       "      <td>NaN</td>\n",
       "      <td>73.0</td>\n",
       "      <td>NaN</td>\n",
       "      <td>NaN</td>\n",
       "      <td>NaN</td>\n",
       "      <td>NaN</td>\n",
       "      <td>NaN</td>\n",
       "      <td>NaN</td>\n",
       "      <td>NaN</td>\n",
       "      <td>206.0</td>\n",
       "      <td>NaN</td>\n",
       "      <td>149.0</td>\n",
       "      <td>154.0</td>\n",
       "    </tr>\n",
       "    <tr>\n",
       "      <th>2</th>\n",
       "      <td>3</td>\n",
       "      <td>NaN</td>\n",
       "      <td>NaN</td>\n",
       "      <td>NaN</td>\n",
       "      <td>34.0</td>\n",
       "      <td>NaN</td>\n",
       "      <td>NaN</td>\n",
       "      <td>NaN</td>\n",
       "      <td>NaN</td>\n",
       "      <td>NaN</td>\n",
       "      <td>NaN</td>\n",
       "      <td>NaN</td>\n",
       "      <td>205.0</td>\n",
       "      <td>NaN</td>\n",
       "      <td>152.0</td>\n",
       "      <td>153.0</td>\n",
       "    </tr>\n",
       "    <tr>\n",
       "      <th>3</th>\n",
       "      <td>4</td>\n",
       "      <td>NaN</td>\n",
       "      <td>NaN</td>\n",
       "      <td>NaN</td>\n",
       "      <td>81.0</td>\n",
       "      <td>NaN</td>\n",
       "      <td>NaN</td>\n",
       "      <td>NaN</td>\n",
       "      <td>NaN</td>\n",
       "      <td>NaN</td>\n",
       "      <td>NaN</td>\n",
       "      <td>NaN</td>\n",
       "      <td>207.0</td>\n",
       "      <td>NaN</td>\n",
       "      <td>153.0</td>\n",
       "      <td>154.0</td>\n",
       "    </tr>\n",
       "    <tr>\n",
       "      <th>4</th>\n",
       "      <td>5</td>\n",
       "      <td>NaN</td>\n",
       "      <td>NaN</td>\n",
       "      <td>NaN</td>\n",
       "      <td>78.0</td>\n",
       "      <td>NaN</td>\n",
       "      <td>NaN</td>\n",
       "      <td>NaN</td>\n",
       "      <td>NaN</td>\n",
       "      <td>NaN</td>\n",
       "      <td>NaN</td>\n",
       "      <td>NaN</td>\n",
       "      <td>203.0</td>\n",
       "      <td>NaN</td>\n",
       "      <td>151.0</td>\n",
       "      <td>152.0</td>\n",
       "    </tr>\n",
       "  </tbody>\n",
       "</table>\n",
       "</div>"
      ],
      "text/plain": [
       "   key  Bulk 1  Bulk 2  Bulk 3  Bulk 4  Bulk 5  Bulk 6  Bulk 7  Bulk 8  \\\n",
       "0    1     NaN     NaN     NaN    43.0     NaN     NaN     NaN     NaN   \n",
       "1    2     NaN     NaN     NaN    73.0     NaN     NaN     NaN     NaN   \n",
       "2    3     NaN     NaN     NaN    34.0     NaN     NaN     NaN     NaN   \n",
       "3    4     NaN     NaN     NaN    81.0     NaN     NaN     NaN     NaN   \n",
       "4    5     NaN     NaN     NaN    78.0     NaN     NaN     NaN     NaN   \n",
       "\n",
       "   Bulk 9  Bulk 10  Bulk 11  Bulk 12  Bulk 13  Bulk 14  Bulk 15  \n",
       "0     NaN      NaN      NaN    206.0      NaN    150.0    154.0  \n",
       "1     NaN      NaN      NaN    206.0      NaN    149.0    154.0  \n",
       "2     NaN      NaN      NaN    205.0      NaN    152.0    153.0  \n",
       "3     NaN      NaN      NaN    207.0      NaN    153.0    154.0  \n",
       "4     NaN      NaN      NaN    203.0      NaN    151.0    152.0  "
      ]
     },
     "execution_count": 12,
     "metadata": {},
     "output_type": "execute_result"
    }
   ],
   "source": [
    "# выводим первые 5 строк\n",
    "data_bulk.head(5)"
   ]
  },
  {
   "cell_type": "code",
   "execution_count": 13,
   "id": "19a2a293",
   "metadata": {},
   "outputs": [
    {
     "name": "stdout",
     "output_type": "stream",
     "text": [
      "<class 'pandas.core.frame.DataFrame'>\n",
      "RangeIndex: 3129 entries, 0 to 3128\n",
      "Data columns (total 16 columns):\n",
      " #   Column   Non-Null Count  Dtype  \n",
      "---  ------   --------------  -----  \n",
      " 0   key      3129 non-null   int64  \n",
      " 1   Bulk 1   252 non-null    float64\n",
      " 2   Bulk 2   22 non-null     float64\n",
      " 3   Bulk 3   1298 non-null   float64\n",
      " 4   Bulk 4   1014 non-null   float64\n",
      " 5   Bulk 5   77 non-null     float64\n",
      " 6   Bulk 6   576 non-null    float64\n",
      " 7   Bulk 7   25 non-null     float64\n",
      " 8   Bulk 8   1 non-null      float64\n",
      " 9   Bulk 9   19 non-null     float64\n",
      " 10  Bulk 10  176 non-null    float64\n",
      " 11  Bulk 11  177 non-null    float64\n",
      " 12  Bulk 12  2450 non-null   float64\n",
      " 13  Bulk 13  18 non-null     float64\n",
      " 14  Bulk 14  2806 non-null   float64\n",
      " 15  Bulk 15  2248 non-null   float64\n",
      "dtypes: float64(15), int64(1)\n",
      "memory usage: 391.2 KB\n"
     ]
    }
   ],
   "source": [
    "# вывод общей информации\n",
    "data_bulk.info()"
   ]
  },
  {
   "cell_type": "markdown",
   "id": "cc19dc90",
   "metadata": {},
   "source": [
    "Видим достаточно большое количество пропусков, скорее всего просто на опредленном этапе не каждый материал добавлялся. Пропуски предлагаю заменить нулями на этапе предобработки, кроме того есть столбцы с маленьким количеством занчений, например Bulk 8 всего 1 значение, можно удалить данный столбец как неинформативный"
   ]
  },
  {
   "cell_type": "code",
   "execution_count": 14,
   "id": "6081b3b0",
   "metadata": {},
   "outputs": [
    {
     "data": {
      "text/plain": [
       "1       1\n",
       "2174    1\n",
       "2152    1\n",
       "2153    1\n",
       "2154    1\n",
       "       ..\n",
       "1092    1\n",
       "1093    1\n",
       "1094    1\n",
       "1095    1\n",
       "3241    1\n",
       "Name: key, Length: 3129, dtype: int64"
      ]
     },
     "execution_count": 14,
     "metadata": {},
     "output_type": "execute_result"
    }
   ],
   "source": [
    "# смотрим частоту итераций в партии\n",
    "data_bulk['key'].value_counts()"
   ]
  },
  {
   "cell_type": "markdown",
   "id": "e2b940ac",
   "metadata": {},
   "source": [
    "Видим что в данной таблице нет повторяющихся значений"
   ]
  },
  {
   "cell_type": "markdown",
   "id": "f66764fa",
   "metadata": {},
   "source": [
    "В таблице с данными об объеме подачи сыпучих материалов:\n",
    "- большое количество пропусков, предлагаю заменить их 0\n",
    "- есть неинформативные столбцы, в которых очень маленькое количесвто значений\n",
    "- данные в стобце key уникальны"
   ]
  },
  {
   "cell_type": "markdown",
   "id": "84f006cd",
   "metadata": {},
   "source": [
    "##### Время подачи сыпучих материалов"
   ]
  },
  {
   "cell_type": "code",
   "execution_count": 15,
   "id": "c69e8898",
   "metadata": {},
   "outputs": [],
   "source": [
    "# открываем файл\n",
    "data_bulk_time = pd.read_csv('https://code.s3.yandex.net/datasets/data_bulk_time_new.csv')"
   ]
  },
  {
   "cell_type": "code",
   "execution_count": 16,
   "id": "db3bd3e8",
   "metadata": {},
   "outputs": [
    {
     "data": {
      "text/html": [
       "<div>\n",
       "<style scoped>\n",
       "    .dataframe tbody tr th:only-of-type {\n",
       "        vertical-align: middle;\n",
       "    }\n",
       "\n",
       "    .dataframe tbody tr th {\n",
       "        vertical-align: top;\n",
       "    }\n",
       "\n",
       "    .dataframe thead th {\n",
       "        text-align: right;\n",
       "    }\n",
       "</style>\n",
       "<table border=\"1\" class=\"dataframe\">\n",
       "  <thead>\n",
       "    <tr style=\"text-align: right;\">\n",
       "      <th></th>\n",
       "      <th>key</th>\n",
       "      <th>Bulk 1</th>\n",
       "      <th>Bulk 2</th>\n",
       "      <th>Bulk 3</th>\n",
       "      <th>Bulk 4</th>\n",
       "      <th>Bulk 5</th>\n",
       "      <th>Bulk 6</th>\n",
       "      <th>Bulk 7</th>\n",
       "      <th>Bulk 8</th>\n",
       "      <th>Bulk 9</th>\n",
       "      <th>Bulk 10</th>\n",
       "      <th>Bulk 11</th>\n",
       "      <th>Bulk 12</th>\n",
       "      <th>Bulk 13</th>\n",
       "      <th>Bulk 14</th>\n",
       "      <th>Bulk 15</th>\n",
       "    </tr>\n",
       "  </thead>\n",
       "  <tbody>\n",
       "    <tr>\n",
       "      <th>0</th>\n",
       "      <td>1</td>\n",
       "      <td>NaN</td>\n",
       "      <td>NaN</td>\n",
       "      <td>NaN</td>\n",
       "      <td>2019-05-03 11:28:48</td>\n",
       "      <td>NaN</td>\n",
       "      <td>NaN</td>\n",
       "      <td>NaN</td>\n",
       "      <td>NaN</td>\n",
       "      <td>NaN</td>\n",
       "      <td>NaN</td>\n",
       "      <td>NaN</td>\n",
       "      <td>2019-05-03 11:24:31</td>\n",
       "      <td>NaN</td>\n",
       "      <td>2019-05-03 11:14:50</td>\n",
       "      <td>2019-05-03 11:10:43</td>\n",
       "    </tr>\n",
       "    <tr>\n",
       "      <th>1</th>\n",
       "      <td>2</td>\n",
       "      <td>NaN</td>\n",
       "      <td>NaN</td>\n",
       "      <td>NaN</td>\n",
       "      <td>2019-05-03 11:36:50</td>\n",
       "      <td>NaN</td>\n",
       "      <td>NaN</td>\n",
       "      <td>NaN</td>\n",
       "      <td>NaN</td>\n",
       "      <td>NaN</td>\n",
       "      <td>NaN</td>\n",
       "      <td>NaN</td>\n",
       "      <td>2019-05-03 11:53:30</td>\n",
       "      <td>NaN</td>\n",
       "      <td>2019-05-03 11:48:37</td>\n",
       "      <td>2019-05-03 11:44:39</td>\n",
       "    </tr>\n",
       "    <tr>\n",
       "      <th>2</th>\n",
       "      <td>3</td>\n",
       "      <td>NaN</td>\n",
       "      <td>NaN</td>\n",
       "      <td>NaN</td>\n",
       "      <td>2019-05-03 12:32:39</td>\n",
       "      <td>NaN</td>\n",
       "      <td>NaN</td>\n",
       "      <td>NaN</td>\n",
       "      <td>NaN</td>\n",
       "      <td>NaN</td>\n",
       "      <td>NaN</td>\n",
       "      <td>NaN</td>\n",
       "      <td>2019-05-03 12:27:13</td>\n",
       "      <td>NaN</td>\n",
       "      <td>2019-05-03 12:21:01</td>\n",
       "      <td>2019-05-03 12:16:16</td>\n",
       "    </tr>\n",
       "    <tr>\n",
       "      <th>3</th>\n",
       "      <td>4</td>\n",
       "      <td>NaN</td>\n",
       "      <td>NaN</td>\n",
       "      <td>NaN</td>\n",
       "      <td>2019-05-03 12:43:22</td>\n",
       "      <td>NaN</td>\n",
       "      <td>NaN</td>\n",
       "      <td>NaN</td>\n",
       "      <td>NaN</td>\n",
       "      <td>NaN</td>\n",
       "      <td>NaN</td>\n",
       "      <td>NaN</td>\n",
       "      <td>2019-05-03 12:58:00</td>\n",
       "      <td>NaN</td>\n",
       "      <td>2019-05-03 12:51:11</td>\n",
       "      <td>2019-05-03 12:46:36</td>\n",
       "    </tr>\n",
       "    <tr>\n",
       "      <th>4</th>\n",
       "      <td>5</td>\n",
       "      <td>NaN</td>\n",
       "      <td>NaN</td>\n",
       "      <td>NaN</td>\n",
       "      <td>2019-05-03 13:30:47</td>\n",
       "      <td>NaN</td>\n",
       "      <td>NaN</td>\n",
       "      <td>NaN</td>\n",
       "      <td>NaN</td>\n",
       "      <td>NaN</td>\n",
       "      <td>NaN</td>\n",
       "      <td>NaN</td>\n",
       "      <td>2019-05-03 13:30:47</td>\n",
       "      <td>NaN</td>\n",
       "      <td>2019-05-03 13:34:12</td>\n",
       "      <td>2019-05-03 13:30:47</td>\n",
       "    </tr>\n",
       "  </tbody>\n",
       "</table>\n",
       "</div>"
      ],
      "text/plain": [
       "   key Bulk 1 Bulk 2 Bulk 3               Bulk 4 Bulk 5 Bulk 6 Bulk 7 Bulk 8  \\\n",
       "0    1    NaN    NaN    NaN  2019-05-03 11:28:48    NaN    NaN    NaN    NaN   \n",
       "1    2    NaN    NaN    NaN  2019-05-03 11:36:50    NaN    NaN    NaN    NaN   \n",
       "2    3    NaN    NaN    NaN  2019-05-03 12:32:39    NaN    NaN    NaN    NaN   \n",
       "3    4    NaN    NaN    NaN  2019-05-03 12:43:22    NaN    NaN    NaN    NaN   \n",
       "4    5    NaN    NaN    NaN  2019-05-03 13:30:47    NaN    NaN    NaN    NaN   \n",
       "\n",
       "  Bulk 9 Bulk 10 Bulk 11              Bulk 12 Bulk 13              Bulk 14  \\\n",
       "0    NaN     NaN     NaN  2019-05-03 11:24:31     NaN  2019-05-03 11:14:50   \n",
       "1    NaN     NaN     NaN  2019-05-03 11:53:30     NaN  2019-05-03 11:48:37   \n",
       "2    NaN     NaN     NaN  2019-05-03 12:27:13     NaN  2019-05-03 12:21:01   \n",
       "3    NaN     NaN     NaN  2019-05-03 12:58:00     NaN  2019-05-03 12:51:11   \n",
       "4    NaN     NaN     NaN  2019-05-03 13:30:47     NaN  2019-05-03 13:34:12   \n",
       "\n",
       "               Bulk 15  \n",
       "0  2019-05-03 11:10:43  \n",
       "1  2019-05-03 11:44:39  \n",
       "2  2019-05-03 12:16:16  \n",
       "3  2019-05-03 12:46:36  \n",
       "4  2019-05-03 13:30:47  "
      ]
     },
     "execution_count": 16,
     "metadata": {},
     "output_type": "execute_result"
    }
   ],
   "source": [
    "# выводим первые 5 строк\n",
    "data_bulk_time.head(5)"
   ]
  },
  {
   "cell_type": "code",
   "execution_count": 17,
   "id": "d8f53ae4",
   "metadata": {},
   "outputs": [
    {
     "name": "stdout",
     "output_type": "stream",
     "text": [
      "<class 'pandas.core.frame.DataFrame'>\n",
      "RangeIndex: 3129 entries, 0 to 3128\n",
      "Data columns (total 16 columns):\n",
      " #   Column   Non-Null Count  Dtype \n",
      "---  ------   --------------  ----- \n",
      " 0   key      3129 non-null   int64 \n",
      " 1   Bulk 1   252 non-null    object\n",
      " 2   Bulk 2   22 non-null     object\n",
      " 3   Bulk 3   1298 non-null   object\n",
      " 4   Bulk 4   1014 non-null   object\n",
      " 5   Bulk 5   77 non-null     object\n",
      " 6   Bulk 6   576 non-null    object\n",
      " 7   Bulk 7   25 non-null     object\n",
      " 8   Bulk 8   1 non-null      object\n",
      " 9   Bulk 9   19 non-null     object\n",
      " 10  Bulk 10  176 non-null    object\n",
      " 11  Bulk 11  177 non-null    object\n",
      " 12  Bulk 12  2450 non-null   object\n",
      " 13  Bulk 13  18 non-null     object\n",
      " 14  Bulk 14  2806 non-null   object\n",
      " 15  Bulk 15  2248 non-null   object\n",
      "dtypes: int64(1), object(15)\n",
      "memory usage: 391.2+ KB\n"
     ]
    }
   ],
   "source": [
    "# вывод общей информации\n",
    "data_bulk_time.info()"
   ]
  },
  {
   "cell_type": "markdown",
   "id": "55fed487",
   "metadata": {},
   "source": [
    "Тип данных в столбцах с временем подачи сыпучих материалов необходимо изменить"
   ]
  },
  {
   "cell_type": "markdown",
   "id": "279489f7",
   "metadata": {},
   "source": [
    "В таблице с данными о времени подачи сыпучих материалов:\n",
    "- большое количество пропусков\n",
    "- есть неинформативные столбцы, в которых очень маленькое количесвто значений\n",
    "- необходимо именить тип данных \n",
    "\n",
    "Таблица носит ознакомительный характер, для дальнейшей работы она нам не потребуется"
   ]
  },
  {
   "cell_type": "markdown",
   "id": "a8d678a7",
   "metadata": {},
   "source": [
    "#### Данные о продувке сплава газом"
   ]
  },
  {
   "cell_type": "code",
   "execution_count": 18,
   "id": "34235b23",
   "metadata": {},
   "outputs": [],
   "source": [
    "# открываем файл\n",
    "data_gas = pd.read_csv('https://code.s3.yandex.net/datasets/data_gas_new.csv')"
   ]
  },
  {
   "cell_type": "code",
   "execution_count": 19,
   "id": "f563a25f",
   "metadata": {},
   "outputs": [
    {
     "data": {
      "text/html": [
       "<div>\n",
       "<style scoped>\n",
       "    .dataframe tbody tr th:only-of-type {\n",
       "        vertical-align: middle;\n",
       "    }\n",
       "\n",
       "    .dataframe tbody tr th {\n",
       "        vertical-align: top;\n",
       "    }\n",
       "\n",
       "    .dataframe thead th {\n",
       "        text-align: right;\n",
       "    }\n",
       "</style>\n",
       "<table border=\"1\" class=\"dataframe\">\n",
       "  <thead>\n",
       "    <tr style=\"text-align: right;\">\n",
       "      <th></th>\n",
       "      <th>key</th>\n",
       "      <th>Газ 1</th>\n",
       "    </tr>\n",
       "  </thead>\n",
       "  <tbody>\n",
       "    <tr>\n",
       "      <th>0</th>\n",
       "      <td>1</td>\n",
       "      <td>29.749986</td>\n",
       "    </tr>\n",
       "    <tr>\n",
       "      <th>1</th>\n",
       "      <td>2</td>\n",
       "      <td>12.555561</td>\n",
       "    </tr>\n",
       "    <tr>\n",
       "      <th>2</th>\n",
       "      <td>3</td>\n",
       "      <td>28.554793</td>\n",
       "    </tr>\n",
       "    <tr>\n",
       "      <th>3</th>\n",
       "      <td>4</td>\n",
       "      <td>18.841219</td>\n",
       "    </tr>\n",
       "    <tr>\n",
       "      <th>4</th>\n",
       "      <td>5</td>\n",
       "      <td>5.413692</td>\n",
       "    </tr>\n",
       "  </tbody>\n",
       "</table>\n",
       "</div>"
      ],
      "text/plain": [
       "   key      Газ 1\n",
       "0    1  29.749986\n",
       "1    2  12.555561\n",
       "2    3  28.554793\n",
       "3    4  18.841219\n",
       "4    5   5.413692"
      ]
     },
     "execution_count": 19,
     "metadata": {},
     "output_type": "execute_result"
    }
   ],
   "source": [
    "# выводим первые 5 строк\n",
    "data_gas.head(5)"
   ]
  },
  {
   "cell_type": "code",
   "execution_count": 20,
   "id": "3ae4cb87",
   "metadata": {},
   "outputs": [
    {
     "name": "stdout",
     "output_type": "stream",
     "text": [
      "<class 'pandas.core.frame.DataFrame'>\n",
      "RangeIndex: 3239 entries, 0 to 3238\n",
      "Data columns (total 2 columns):\n",
      " #   Column  Non-Null Count  Dtype  \n",
      "---  ------  --------------  -----  \n",
      " 0   key     3239 non-null   int64  \n",
      " 1   Газ 1   3239 non-null   float64\n",
      "dtypes: float64(1), int64(1)\n",
      "memory usage: 50.7 KB\n"
     ]
    }
   ],
   "source": [
    "# вывод общей информации\n",
    "data_gas.info()"
   ]
  },
  {
   "cell_type": "code",
   "execution_count": 21,
   "id": "4e4170f8",
   "metadata": {},
   "outputs": [
    {
     "data": {
      "text/plain": [
       "1       1\n",
       "2166    1\n",
       "2156    1\n",
       "2157    1\n",
       "2158    1\n",
       "       ..\n",
       "1086    1\n",
       "1087    1\n",
       "1088    1\n",
       "1089    1\n",
       "3241    1\n",
       "Name: key, Length: 3239, dtype: int64"
      ]
     },
     "execution_count": 21,
     "metadata": {},
     "output_type": "execute_result"
    }
   ],
   "source": [
    "# смотрим частоту итераций в партии\n",
    "data_gas['key'].value_counts()"
   ]
  },
  {
   "cell_type": "code",
   "execution_count": 22,
   "id": "c4c5f019",
   "metadata": {},
   "outputs": [
    {
     "data": {
      "image/png": "[encoded data removed]",
      "text/plain": [
       "<Figure size 1500x500 with 1 Axes>"
      ]
     },
     "metadata": {},
     "output_type": "display_data"
    }
   ],
   "source": [
    "# посмотрим распределение признака Активная мощность\n",
    "data_gas['Газ 1'].hist(bins=100,figsize=(15, 5))\n",
    "plt.title('График распределения продувки сплава газом')\n",
    "plt.xlabel(\"Значение\")\n",
    "plt.ylabel(\"Количествово показателеей\")\n",
    "plt.show()"
   ]
  },
  {
   "cell_type": "markdown",
   "id": "29ecfe86",
   "metadata": {},
   "source": [
    "В таблице с данными о продувке спалава газом:\n",
    "- пропуски отсутствуют\n",
    "- данные в стобце key уникальны"
   ]
  },
  {
   "cell_type": "markdown",
   "id": "219c6b4e",
   "metadata": {},
   "source": [
    "####  Результаты измерения температуры"
   ]
  },
  {
   "cell_type": "code",
   "execution_count": 23,
   "id": "b58aedb8",
   "metadata": {},
   "outputs": [],
   "source": [
    "# открываем файл\n",
    "data_temp = pd.read_csv('https://code.s3.yandex.net/datasets/data_temp_new.csv')"
   ]
  },
  {
   "cell_type": "code",
   "execution_count": 24,
   "id": "48182e1f",
   "metadata": {},
   "outputs": [
    {
     "data": {
      "text/html": [
       "<div>\n",
       "<style scoped>\n",
       "    .dataframe tbody tr th:only-of-type {\n",
       "        vertical-align: middle;\n",
       "    }\n",
       "\n",
       "    .dataframe tbody tr th {\n",
       "        vertical-align: top;\n",
       "    }\n",
       "\n",
       "    .dataframe thead th {\n",
       "        text-align: right;\n",
       "    }\n",
       "</style>\n",
       "<table border=\"1\" class=\"dataframe\">\n",
       "  <thead>\n",
       "    <tr style=\"text-align: right;\">\n",
       "      <th></th>\n",
       "      <th>key</th>\n",
       "      <th>Время замера</th>\n",
       "      <th>Температура</th>\n",
       "    </tr>\n",
       "  </thead>\n",
       "  <tbody>\n",
       "    <tr>\n",
       "      <th>0</th>\n",
       "      <td>1</td>\n",
       "      <td>2019-05-03 11:02:04</td>\n",
       "      <td>1571.0</td>\n",
       "    </tr>\n",
       "    <tr>\n",
       "      <th>1</th>\n",
       "      <td>1</td>\n",
       "      <td>2019-05-03 11:07:18</td>\n",
       "      <td>1604.0</td>\n",
       "    </tr>\n",
       "    <tr>\n",
       "      <th>2</th>\n",
       "      <td>1</td>\n",
       "      <td>2019-05-03 11:11:34</td>\n",
       "      <td>1618.0</td>\n",
       "    </tr>\n",
       "    <tr>\n",
       "      <th>3</th>\n",
       "      <td>1</td>\n",
       "      <td>2019-05-03 11:18:04</td>\n",
       "      <td>1601.0</td>\n",
       "    </tr>\n",
       "    <tr>\n",
       "      <th>4</th>\n",
       "      <td>1</td>\n",
       "      <td>2019-05-03 11:25:59</td>\n",
       "      <td>1606.0</td>\n",
       "    </tr>\n",
       "  </tbody>\n",
       "</table>\n",
       "</div>"
      ],
      "text/plain": [
       "   key         Время замера  Температура\n",
       "0    1  2019-05-03 11:02:04       1571.0\n",
       "1    1  2019-05-03 11:07:18       1604.0\n",
       "2    1  2019-05-03 11:11:34       1618.0\n",
       "3    1  2019-05-03 11:18:04       1601.0\n",
       "4    1  2019-05-03 11:25:59       1606.0"
      ]
     },
     "execution_count": 24,
     "metadata": {},
     "output_type": "execute_result"
    }
   ],
   "source": [
    "# выводим первые 5 строк\n",
    "data_temp.head(5)"
   ]
  },
  {
   "cell_type": "code",
   "execution_count": 25,
   "id": "c7e7c1a3",
   "metadata": {},
   "outputs": [
    {
     "name": "stdout",
     "output_type": "stream",
     "text": [
      "<class 'pandas.core.frame.DataFrame'>\n",
      "RangeIndex: 18092 entries, 0 to 18091\n",
      "Data columns (total 3 columns):\n",
      " #   Column        Non-Null Count  Dtype  \n",
      "---  ------        --------------  -----  \n",
      " 0   key           18092 non-null  int64  \n",
      " 1   Время замера  18092 non-null  object \n",
      " 2   Температура   14665 non-null  float64\n",
      "dtypes: float64(1), int64(1), object(1)\n",
      "memory usage: 424.2+ KB\n"
     ]
    }
   ],
   "source": [
    "# вывод общей информации\n",
    "data_temp.info()"
   ]
  },
  {
   "cell_type": "markdown",
   "id": "0a335c8f",
   "metadata": {},
   "source": [
    "Можем наблюдать пропуски в столбце с данными температуры, кроме того тип данных в данном столбце необходимо изменить"
   ]
  },
  {
   "cell_type": "code",
   "execution_count": 26,
   "id": "30838d31",
   "metadata": {},
   "outputs": [
    {
     "data": {
      "text/plain": [
       "2108    17\n",
       "1513    16\n",
       "1689    16\n",
       "2567    15\n",
       "46      14\n",
       "        ..\n",
       "247      2\n",
       "1169     2\n",
       "246      2\n",
       "195      1\n",
       "279      1\n",
       "Name: key, Length: 3216, dtype: int64"
      ]
     },
     "execution_count": 26,
     "metadata": {},
     "output_type": "execute_result"
    }
   ],
   "source": [
    "# смотрим частоту итераций в партии\n",
    "data_temp['key'].value_counts()"
   ]
  },
  {
   "cell_type": "markdown",
   "id": "034220fa",
   "metadata": {},
   "source": [
    "Видим что значения партии - key повторяются, на этапе предобработки нужна будет группировка по данному признаку."
   ]
  },
  {
   "cell_type": "code",
   "execution_count": 27,
   "id": "185ed759",
   "metadata": {},
   "outputs": [
    {
     "data": {
      "text/html": [
       "<div>\n",
       "<style scoped>\n",
       "    .dataframe tbody tr th:only-of-type {\n",
       "        vertical-align: middle;\n",
       "    }\n",
       "\n",
       "    .dataframe tbody tr th {\n",
       "        vertical-align: top;\n",
       "    }\n",
       "\n",
       "    .dataframe thead th {\n",
       "        text-align: right;\n",
       "    }\n",
       "</style>\n",
       "<table border=\"1\" class=\"dataframe\">\n",
       "  <thead>\n",
       "    <tr style=\"text-align: right;\">\n",
       "      <th></th>\n",
       "      <th>count</th>\n",
       "      <th>mean</th>\n",
       "      <th>std</th>\n",
       "      <th>min</th>\n",
       "      <th>25%</th>\n",
       "      <th>50%</th>\n",
       "      <th>75%</th>\n",
       "      <th>max</th>\n",
       "    </tr>\n",
       "  </thead>\n",
       "  <tbody>\n",
       "    <tr>\n",
       "      <th>key</th>\n",
       "      <td>18092.0</td>\n",
       "      <td>1616.460977</td>\n",
       "      <td>934.641385</td>\n",
       "      <td>1.0</td>\n",
       "      <td>807.75</td>\n",
       "      <td>1618.0</td>\n",
       "      <td>2429.0</td>\n",
       "      <td>3241.0</td>\n",
       "    </tr>\n",
       "    <tr>\n",
       "      <th>Температура</th>\n",
       "      <td>14665.0</td>\n",
       "      <td>1590.722741</td>\n",
       "      <td>20.394381</td>\n",
       "      <td>1191.0</td>\n",
       "      <td>1580.00</td>\n",
       "      <td>1590.0</td>\n",
       "      <td>1599.0</td>\n",
       "      <td>1705.0</td>\n",
       "    </tr>\n",
       "  </tbody>\n",
       "</table>\n",
       "</div>"
      ],
      "text/plain": [
       "               count         mean         std     min      25%     50%  \\\n",
       "key          18092.0  1616.460977  934.641385     1.0   807.75  1618.0   \n",
       "Температура  14665.0  1590.722741   20.394381  1191.0  1580.00  1590.0   \n",
       "\n",
       "                75%     max  \n",
       "key          2429.0  3241.0  \n",
       "Температура  1599.0  1705.0  "
      ]
     },
     "execution_count": 27,
     "metadata": {},
     "output_type": "execute_result"
    }
   ],
   "source": [
    "# посмотри описательную статистику\n",
    "data_temp.describe().T"
   ]
  },
  {
   "cell_type": "markdown",
   "id": "d3f800ff",
   "metadata": {},
   "source": [
    "Температура плавления стали в диапазоне: 1450—1520 °C, мы видим что есть значения ниже этих показателей"
   ]
  },
  {
   "cell_type": "code",
   "execution_count": 28,
   "id": "5b70e09f",
   "metadata": {},
   "outputs": [
    {
     "data": {
      "text/html": [
       "<div>\n",
       "<style scoped>\n",
       "    .dataframe tbody tr th:only-of-type {\n",
       "        vertical-align: middle;\n",
       "    }\n",
       "\n",
       "    .dataframe tbody tr th {\n",
       "        vertical-align: top;\n",
       "    }\n",
       "\n",
       "    .dataframe thead th {\n",
       "        text-align: right;\n",
       "    }\n",
       "</style>\n",
       "<table border=\"1\" class=\"dataframe\">\n",
       "  <thead>\n",
       "    <tr style=\"text-align: right;\">\n",
       "      <th></th>\n",
       "      <th>key</th>\n",
       "      <th>Время замера</th>\n",
       "      <th>Температура</th>\n",
       "    </tr>\n",
       "  </thead>\n",
       "  <tbody>\n",
       "    <tr>\n",
       "      <th>4883</th>\n",
       "      <td>867</td>\n",
       "      <td>2019-06-06 08:03:39</td>\n",
       "      <td>1191.0</td>\n",
       "    </tr>\n",
       "    <tr>\n",
       "      <th>6784</th>\n",
       "      <td>1214</td>\n",
       "      <td>2019-06-18 08:01:03</td>\n",
       "      <td>1208.0</td>\n",
       "    </tr>\n",
       "    <tr>\n",
       "      <th>9050</th>\n",
       "      <td>1619</td>\n",
       "      <td>2019-07-03 02:34:41</td>\n",
       "      <td>1218.0</td>\n",
       "    </tr>\n",
       "    <tr>\n",
       "      <th>11495</th>\n",
       "      <td>2052</td>\n",
       "      <td>2019-07-25 08:49:15</td>\n",
       "      <td>1227.0</td>\n",
       "    </tr>\n",
       "    <tr>\n",
       "      <th>14283</th>\n",
       "      <td>2561</td>\n",
       "      <td>2019-08-12 18:49:29</td>\n",
       "      <td>1204.0</td>\n",
       "    </tr>\n",
       "  </tbody>\n",
       "</table>\n",
       "</div>"
      ],
      "text/plain": [
       "        key         Время замера  Температура\n",
       "4883    867  2019-06-06 08:03:39       1191.0\n",
       "6784   1214  2019-06-18 08:01:03       1208.0\n",
       "9050   1619  2019-07-03 02:34:41       1218.0\n",
       "11495  2052  2019-07-25 08:49:15       1227.0\n",
       "14283  2561  2019-08-12 18:49:29       1204.0"
      ]
     },
     "execution_count": 28,
     "metadata": {},
     "output_type": "execute_result"
    }
   ],
   "source": [
    "#вывод строк в которых температура плавления меньше нормативных значений\n",
    "data_temp[data_temp['Температура'] <= 1450]"
   ]
  },
  {
   "cell_type": "markdown",
   "id": "2a716b4b",
   "metadata": {},
   "source": [
    "Видим что аномальных значений в столбце с температурой плавления не так много, предлагаю удалить их на этапе предобработки"
   ]
  },
  {
   "cell_type": "code",
   "execution_count": 29,
   "id": "a7e64c4c",
   "metadata": {},
   "outputs": [
    {
     "data": {
      "image/png": "[encoded data removed]",
      "text/plain": [
       "<Figure size 1500x500 with 1 Axes>"
      ]
     },
     "metadata": {},
     "output_type": "display_data"
    }
   ],
   "source": [
    "# посмотрим распределение признака Температура\n",
    "data_temp['Температура'].hist(bins=100,figsize=(15, 5))\n",
    "plt.title('График распределения температуры')\n",
    "plt.xlabel(\"Температура\")\n",
    "plt.ylabel(\"Количествово показателеей\")\n",
    "plt.show()"
   ]
  },
  {
   "cell_type": "markdown",
   "id": "182b6e06",
   "metadata": {},
   "source": [
    "В таблице с данными о результатах измерения температуры:\n",
    "- имеются пропуски по температуре\n",
    "- необходимо агрегирование данных по признаку key\n",
    "- имеется аномально нгизкие температуры, предлагаю удалить данные партии на этапе предобработки\n",
    "- необходимо изменить тип данных в стоблце с временем замера"
   ]
  },
  {
   "cell_type": "markdown",
   "id": "a41c3038",
   "metadata": {},
   "source": [
    "#### Данные о проволочных материалах"
   ]
  },
  {
   "cell_type": "markdown",
   "id": "9d4b22b4",
   "metadata": {},
   "source": [
    "##### Объем подачи проволочных материалов"
   ]
  },
  {
   "cell_type": "code",
   "execution_count": 30,
   "id": "213ee6dc",
   "metadata": {},
   "outputs": [],
   "source": [
    "# открываем файл\n",
    "data_wire = pd.read_csv('https://code.s3.yandex.net/datasets/data_wire_new.csv')"
   ]
  },
  {
   "cell_type": "code",
   "execution_count": 31,
   "id": "fa469c08",
   "metadata": {},
   "outputs": [
    {
     "data": {
      "text/html": [
       "<div>\n",
       "<style scoped>\n",
       "    .dataframe tbody tr th:only-of-type {\n",
       "        vertical-align: middle;\n",
       "    }\n",
       "\n",
       "    .dataframe tbody tr th {\n",
       "        vertical-align: top;\n",
       "    }\n",
       "\n",
       "    .dataframe thead th {\n",
       "        text-align: right;\n",
       "    }\n",
       "</style>\n",
       "<table border=\"1\" class=\"dataframe\">\n",
       "  <thead>\n",
       "    <tr style=\"text-align: right;\">\n",
       "      <th></th>\n",
       "      <th>key</th>\n",
       "      <th>Wire 1</th>\n",
       "      <th>Wire 2</th>\n",
       "      <th>Wire 3</th>\n",
       "      <th>Wire 4</th>\n",
       "      <th>Wire 5</th>\n",
       "      <th>Wire 6</th>\n",
       "      <th>Wire 7</th>\n",
       "      <th>Wire 8</th>\n",
       "      <th>Wire 9</th>\n",
       "    </tr>\n",
       "  </thead>\n",
       "  <tbody>\n",
       "    <tr>\n",
       "      <th>0</th>\n",
       "      <td>1</td>\n",
       "      <td>60.059998</td>\n",
       "      <td>NaN</td>\n",
       "      <td>NaN</td>\n",
       "      <td>NaN</td>\n",
       "      <td>NaN</td>\n",
       "      <td>NaN</td>\n",
       "      <td>NaN</td>\n",
       "      <td>NaN</td>\n",
       "      <td>NaN</td>\n",
       "    </tr>\n",
       "    <tr>\n",
       "      <th>1</th>\n",
       "      <td>2</td>\n",
       "      <td>96.052315</td>\n",
       "      <td>NaN</td>\n",
       "      <td>NaN</td>\n",
       "      <td>NaN</td>\n",
       "      <td>NaN</td>\n",
       "      <td>NaN</td>\n",
       "      <td>NaN</td>\n",
       "      <td>NaN</td>\n",
       "      <td>NaN</td>\n",
       "    </tr>\n",
       "    <tr>\n",
       "      <th>2</th>\n",
       "      <td>3</td>\n",
       "      <td>91.160157</td>\n",
       "      <td>NaN</td>\n",
       "      <td>NaN</td>\n",
       "      <td>NaN</td>\n",
       "      <td>NaN</td>\n",
       "      <td>NaN</td>\n",
       "      <td>NaN</td>\n",
       "      <td>NaN</td>\n",
       "      <td>NaN</td>\n",
       "    </tr>\n",
       "    <tr>\n",
       "      <th>3</th>\n",
       "      <td>4</td>\n",
       "      <td>89.063515</td>\n",
       "      <td>NaN</td>\n",
       "      <td>NaN</td>\n",
       "      <td>NaN</td>\n",
       "      <td>NaN</td>\n",
       "      <td>NaN</td>\n",
       "      <td>NaN</td>\n",
       "      <td>NaN</td>\n",
       "      <td>NaN</td>\n",
       "    </tr>\n",
       "    <tr>\n",
       "      <th>4</th>\n",
       "      <td>5</td>\n",
       "      <td>89.238236</td>\n",
       "      <td>9.11456</td>\n",
       "      <td>NaN</td>\n",
       "      <td>NaN</td>\n",
       "      <td>NaN</td>\n",
       "      <td>NaN</td>\n",
       "      <td>NaN</td>\n",
       "      <td>NaN</td>\n",
       "      <td>NaN</td>\n",
       "    </tr>\n",
       "  </tbody>\n",
       "</table>\n",
       "</div>"
      ],
      "text/plain": [
       "   key     Wire 1   Wire 2  Wire 3  Wire 4  Wire 5  Wire 6  Wire 7  Wire 8  \\\n",
       "0    1  60.059998      NaN     NaN     NaN     NaN     NaN     NaN     NaN   \n",
       "1    2  96.052315      NaN     NaN     NaN     NaN     NaN     NaN     NaN   \n",
       "2    3  91.160157      NaN     NaN     NaN     NaN     NaN     NaN     NaN   \n",
       "3    4  89.063515      NaN     NaN     NaN     NaN     NaN     NaN     NaN   \n",
       "4    5  89.238236  9.11456     NaN     NaN     NaN     NaN     NaN     NaN   \n",
       "\n",
       "   Wire 9  \n",
       "0     NaN  \n",
       "1     NaN  \n",
       "2     NaN  \n",
       "3     NaN  \n",
       "4     NaN  "
      ]
     },
     "execution_count": 31,
     "metadata": {},
     "output_type": "execute_result"
    }
   ],
   "source": [
    "# выводим первые 5 строк\n",
    "data_wire.head(5)"
   ]
  },
  {
   "cell_type": "code",
   "execution_count": 32,
   "id": "a19604ce",
   "metadata": {},
   "outputs": [
    {
     "name": "stdout",
     "output_type": "stream",
     "text": [
      "<class 'pandas.core.frame.DataFrame'>\n",
      "RangeIndex: 3081 entries, 0 to 3080\n",
      "Data columns (total 10 columns):\n",
      " #   Column  Non-Null Count  Dtype  \n",
      "---  ------  --------------  -----  \n",
      " 0   key     3081 non-null   int64  \n",
      " 1   Wire 1  3055 non-null   float64\n",
      " 2   Wire 2  1079 non-null   float64\n",
      " 3   Wire 3  63 non-null     float64\n",
      " 4   Wire 4  14 non-null     float64\n",
      " 5   Wire 5  1 non-null      float64\n",
      " 6   Wire 6  73 non-null     float64\n",
      " 7   Wire 7  11 non-null     float64\n",
      " 8   Wire 8  19 non-null     float64\n",
      " 9   Wire 9  29 non-null     float64\n",
      "dtypes: float64(9), int64(1)\n",
      "memory usage: 240.8 KB\n"
     ]
    }
   ],
   "source": [
    "# вывод общей информации\n",
    "data_wire.info()"
   ]
  },
  {
   "cell_type": "markdown",
   "id": "d4703052",
   "metadata": {},
   "source": [
    "Видим достаточно большое количество пропусков, скорее всего материал не добавлялся. Пропуски предлагаю заменить нулями на этапе предобработки, кроме того есть столбцы с маленьким количеством занчений, например Wire 5 всего 1 значение, можно удалить данный столбец как неинформативный"
   ]
  },
  {
   "cell_type": "code",
   "execution_count": 33,
   "id": "de2775eb",
   "metadata": {},
   "outputs": [
    {
     "data": {
      "text/plain": [
       "1       1\n",
       "2226    1\n",
       "2146    1\n",
       "2147    1\n",
       "2148    1\n",
       "       ..\n",
       "1090    1\n",
       "1091    1\n",
       "1092    1\n",
       "1093    1\n",
       "3241    1\n",
       "Name: key, Length: 3081, dtype: int64"
      ]
     },
     "execution_count": 33,
     "metadata": {},
     "output_type": "execute_result"
    }
   ],
   "source": [
    "# смотрим частоту итераций в партии\n",
    "data_wire['key'].value_counts()"
   ]
  },
  {
   "cell_type": "markdown",
   "id": "7cf58cb3",
   "metadata": {},
   "source": [
    "В таблице с данными об объеме подачи проволочных материалов:\n",
    "- большое количество пропусков, предлагаю заменить их 0\n",
    "- есть неинформативные столбцы, в которых очень маленькое количесвто значений\n",
    "- данные в стобце key уникальны"
   ]
  },
  {
   "cell_type": "markdown",
   "id": "dd34654a",
   "metadata": {},
   "source": [
    "##### Время подачи проволочных материалов"
   ]
  },
  {
   "cell_type": "code",
   "execution_count": 34,
   "id": "7d1cad4d",
   "metadata": {},
   "outputs": [],
   "source": [
    "# открываем файл\n",
    "data_wire_time = pd.read_csv('https://code.s3.yandex.net/datasets/data_wire_time_new.csv')"
   ]
  },
  {
   "cell_type": "code",
   "execution_count": 35,
   "id": "629f2fdc",
   "metadata": {},
   "outputs": [
    {
     "data": {
      "text/html": [
       "<div>\n",
       "<style scoped>\n",
       "    .dataframe tbody tr th:only-of-type {\n",
       "        vertical-align: middle;\n",
       "    }\n",
       "\n",
       "    .dataframe tbody tr th {\n",
       "        vertical-align: top;\n",
       "    }\n",
       "\n",
       "    .dataframe thead th {\n",
       "        text-align: right;\n",
       "    }\n",
       "</style>\n",
       "<table border=\"1\" class=\"dataframe\">\n",
       "  <thead>\n",
       "    <tr style=\"text-align: right;\">\n",
       "      <th></th>\n",
       "      <th>key</th>\n",
       "      <th>Wire 1</th>\n",
       "      <th>Wire 2</th>\n",
       "      <th>Wire 3</th>\n",
       "      <th>Wire 4</th>\n",
       "      <th>Wire 5</th>\n",
       "      <th>Wire 6</th>\n",
       "      <th>Wire 7</th>\n",
       "      <th>Wire 8</th>\n",
       "      <th>Wire 9</th>\n",
       "    </tr>\n",
       "  </thead>\n",
       "  <tbody>\n",
       "    <tr>\n",
       "      <th>0</th>\n",
       "      <td>1</td>\n",
       "      <td>2019-05-03 11:06:19</td>\n",
       "      <td>NaN</td>\n",
       "      <td>NaN</td>\n",
       "      <td>NaN</td>\n",
       "      <td>NaN</td>\n",
       "      <td>NaN</td>\n",
       "      <td>NaN</td>\n",
       "      <td>NaN</td>\n",
       "      <td>NaN</td>\n",
       "    </tr>\n",
       "    <tr>\n",
       "      <th>1</th>\n",
       "      <td>2</td>\n",
       "      <td>2019-05-03 11:36:50</td>\n",
       "      <td>NaN</td>\n",
       "      <td>NaN</td>\n",
       "      <td>NaN</td>\n",
       "      <td>NaN</td>\n",
       "      <td>NaN</td>\n",
       "      <td>NaN</td>\n",
       "      <td>NaN</td>\n",
       "      <td>NaN</td>\n",
       "    </tr>\n",
       "    <tr>\n",
       "      <th>2</th>\n",
       "      <td>3</td>\n",
       "      <td>2019-05-03 12:11:46</td>\n",
       "      <td>NaN</td>\n",
       "      <td>NaN</td>\n",
       "      <td>NaN</td>\n",
       "      <td>NaN</td>\n",
       "      <td>NaN</td>\n",
       "      <td>NaN</td>\n",
       "      <td>NaN</td>\n",
       "      <td>NaN</td>\n",
       "    </tr>\n",
       "    <tr>\n",
       "      <th>3</th>\n",
       "      <td>4</td>\n",
       "      <td>2019-05-03 12:43:22</td>\n",
       "      <td>NaN</td>\n",
       "      <td>NaN</td>\n",
       "      <td>NaN</td>\n",
       "      <td>NaN</td>\n",
       "      <td>NaN</td>\n",
       "      <td>NaN</td>\n",
       "      <td>NaN</td>\n",
       "      <td>NaN</td>\n",
       "    </tr>\n",
       "    <tr>\n",
       "      <th>4</th>\n",
       "      <td>5</td>\n",
       "      <td>2019-05-03 13:20:44</td>\n",
       "      <td>2019-05-03 13:15:34</td>\n",
       "      <td>NaN</td>\n",
       "      <td>NaN</td>\n",
       "      <td>NaN</td>\n",
       "      <td>NaN</td>\n",
       "      <td>NaN</td>\n",
       "      <td>NaN</td>\n",
       "      <td>NaN</td>\n",
       "    </tr>\n",
       "  </tbody>\n",
       "</table>\n",
       "</div>"
      ],
      "text/plain": [
       "   key               Wire 1               Wire 2 Wire 3 Wire 4 Wire 5 Wire 6  \\\n",
       "0    1  2019-05-03 11:06:19                  NaN    NaN    NaN    NaN    NaN   \n",
       "1    2  2019-05-03 11:36:50                  NaN    NaN    NaN    NaN    NaN   \n",
       "2    3  2019-05-03 12:11:46                  NaN    NaN    NaN    NaN    NaN   \n",
       "3    4  2019-05-03 12:43:22                  NaN    NaN    NaN    NaN    NaN   \n",
       "4    5  2019-05-03 13:20:44  2019-05-03 13:15:34    NaN    NaN    NaN    NaN   \n",
       "\n",
       "  Wire 7 Wire 8 Wire 9  \n",
       "0    NaN    NaN    NaN  \n",
       "1    NaN    NaN    NaN  \n",
       "2    NaN    NaN    NaN  \n",
       "3    NaN    NaN    NaN  \n",
       "4    NaN    NaN    NaN  "
      ]
     },
     "execution_count": 35,
     "metadata": {},
     "output_type": "execute_result"
    }
   ],
   "source": [
    "# выводим первые 5 строк\n",
    "data_wire_time.head(5)"
   ]
  },
  {
   "cell_type": "code",
   "execution_count": 36,
   "id": "b2e34bab",
   "metadata": {},
   "outputs": [
    {
     "name": "stdout",
     "output_type": "stream",
     "text": [
      "<class 'pandas.core.frame.DataFrame'>\n",
      "RangeIndex: 3081 entries, 0 to 3080\n",
      "Data columns (total 10 columns):\n",
      " #   Column  Non-Null Count  Dtype \n",
      "---  ------  --------------  ----- \n",
      " 0   key     3081 non-null   int64 \n",
      " 1   Wire 1  3055 non-null   object\n",
      " 2   Wire 2  1079 non-null   object\n",
      " 3   Wire 3  63 non-null     object\n",
      " 4   Wire 4  14 non-null     object\n",
      " 5   Wire 5  1 non-null      object\n",
      " 6   Wire 6  73 non-null     object\n",
      " 7   Wire 7  11 non-null     object\n",
      " 8   Wire 8  19 non-null     object\n",
      " 9   Wire 9  29 non-null     object\n",
      "dtypes: int64(1), object(9)\n",
      "memory usage: 240.8+ KB\n"
     ]
    }
   ],
   "source": [
    "# вывод общей информации\n",
    "data_wire_time.info()"
   ]
  },
  {
   "cell_type": "markdown",
   "id": "8e1d558e",
   "metadata": {},
   "source": [
    "Тип данных в столбцах с временем подачи проволочных материалов необходимо изменить"
   ]
  },
  {
   "cell_type": "markdown",
   "id": "2c24dd27",
   "metadata": {},
   "source": [
    "В таблице с данными о времени подачи сыпучих материалов:\n",
    "- большое количество пропусков\n",
    "- есть неинформативные столбцы, в которых очень маленькое количесвто значений\n",
    "- необходимо именить тип данных \n",
    "\n",
    "Таблица носит ознакомительный характер, для дальнейшей работы она нам не потребуется"
   ]
  },
  {
   "cell_type": "markdown",
   "id": "1ec6ec7f",
   "metadata": {},
   "source": [
    "## Предобработка данных"
   ]
  },
  {
   "cell_type": "markdown",
   "id": "b5542f63",
   "metadata": {},
   "source": [
    "### Данные об электродах"
   ]
  },
  {
   "cell_type": "code",
   "execution_count": 37,
   "id": "d5b85e09",
   "metadata": {},
   "outputs": [],
   "source": [
    "# изменим тип данных в столбцах с временем начала и окончания нагрева дугой\n",
    "data_arc['Начало нагрева дугой'] = data_arc['Начало нагрева дугой'].astype(\"datetime64\")\n",
    "data_arc['Конец нагрева дугой'] = data_arc['Конец нагрева дугой'].astype(\"datetime64\")"
   ]
  },
  {
   "cell_type": "code",
   "execution_count": 38,
   "id": "5d7f3e16",
   "metadata": {},
   "outputs": [
    {
     "name": "stdout",
     "output_type": "stream",
     "text": [
      "<class 'pandas.core.frame.DataFrame'>\n",
      "RangeIndex: 14876 entries, 0 to 14875\n",
      "Data columns (total 5 columns):\n",
      " #   Column                Non-Null Count  Dtype         \n",
      "---  ------                --------------  -----         \n",
      " 0   key                   14876 non-null  int64         \n",
      " 1   Начало нагрева дугой  14876 non-null  datetime64[ns]\n",
      " 2   Конец нагрева дугой   14876 non-null  datetime64[ns]\n",
      " 3   Активная мощность     14876 non-null  float64       \n",
      " 4   Реактивная мощность   14876 non-null  float64       \n",
      "dtypes: datetime64[ns](2), float64(2), int64(1)\n",
      "memory usage: 581.2 KB\n"
     ]
    }
   ],
   "source": [
    "# проверка результата\n",
    "data_arc.info()"
   ]
  },
  {
   "cell_type": "code",
   "execution_count": 39,
   "id": "c14a1387",
   "metadata": {},
   "outputs": [],
   "source": [
    "# удаляем данные по всей партии где была отрицательная мощность\n",
    "data_arc = data_arc[data_arc['key'] != 2116]"
   ]
  },
  {
   "cell_type": "code",
   "execution_count": 40,
   "id": "99958205",
   "metadata": {},
   "outputs": [],
   "source": [
    "# сгенерируем новый признак - длительность нагрева\n",
    "data_arc['Длительность нагрева'] = (data_arc['Конец нагрева дугой'] - data_arc['Начало нагрева дугой']).dt.seconds"
   ]
  },
  {
   "cell_type": "code",
   "execution_count": 41,
   "id": "23ca58ea",
   "metadata": {},
   "outputs": [],
   "source": [
    "# сгенерируем новый признак - энергия\n",
    "data_arc['Энергия'] = data_arc['Активная мощность'] * data_arc['Длительность нагрева']"
   ]
  },
  {
   "cell_type": "code",
   "execution_count": 42,
   "id": "0039e01a",
   "metadata": {},
   "outputs": [
    {
     "name": "stdout",
     "output_type": "stream",
     "text": [
      "<class 'pandas.core.frame.DataFrame'>\n",
      "Int64Index: 3213 entries, 1 to 3241\n",
      "Data columns (total 2 columns):\n",
      " #   Column                Non-Null Count  Dtype  \n",
      "---  ------                --------------  -----  \n",
      " 0   Длительность нагрева  3213 non-null   int64  \n",
      " 1   Энергия               3213 non-null   float64\n",
      "dtypes: float64(1), int64(1)\n",
      "memory usage: 75.3 KB\n",
      "None\n"
     ]
    },
    {
     "data": {
      "text/html": [
       "<div>\n",
       "<style scoped>\n",
       "    .dataframe tbody tr th:only-of-type {\n",
       "        vertical-align: middle;\n",
       "    }\n",
       "\n",
       "    .dataframe tbody tr th {\n",
       "        vertical-align: top;\n",
       "    }\n",
       "\n",
       "    .dataframe thead th {\n",
       "        text-align: right;\n",
       "    }\n",
       "</style>\n",
       "<table border=\"1\" class=\"dataframe\">\n",
       "  <thead>\n",
       "    <tr style=\"text-align: right;\">\n",
       "      <th></th>\n",
       "      <th>Длительность нагрева</th>\n",
       "      <th>Энергия</th>\n",
       "    </tr>\n",
       "    <tr>\n",
       "      <th>key</th>\n",
       "      <th></th>\n",
       "      <th></th>\n",
       "    </tr>\n",
       "  </thead>\n",
       "  <tbody>\n",
       "    <tr>\n",
       "      <th>1</th>\n",
       "      <td>1098</td>\n",
       "      <td>628.616930</td>\n",
       "    </tr>\n",
       "    <tr>\n",
       "      <th>2</th>\n",
       "      <td>811</td>\n",
       "      <td>395.281800</td>\n",
       "    </tr>\n",
       "    <tr>\n",
       "      <th>3</th>\n",
       "      <td>655</td>\n",
       "      <td>581.774624</td>\n",
       "    </tr>\n",
       "    <tr>\n",
       "      <th>4</th>\n",
       "      <td>741</td>\n",
       "      <td>543.710274</td>\n",
       "    </tr>\n",
       "    <tr>\n",
       "      <th>5</th>\n",
       "      <td>869</td>\n",
       "      <td>412.180480</td>\n",
       "    </tr>\n",
       "  </tbody>\n",
       "</table>\n",
       "</div>"
      ],
      "text/plain": [
       "     Длительность нагрева     Энергия\n",
       "key                                  \n",
       "1                    1098  628.616930\n",
       "2                     811  395.281800\n",
       "3                     655  581.774624\n",
       "4                     741  543.710274\n",
       "5                     869  412.180480"
      ]
     },
     "execution_count": 42,
     "metadata": {},
     "output_type": "execute_result"
    }
   ],
   "source": [
    "# агрегируем данные по ключу key просуммировав значени, оставим только данные с длительностью нагрева и энергией\n",
    "data_arc_sum = data_arc.groupby('key').agg({'Длительность нагрева': 'sum', 'Энергия': 'sum'})\n",
    "print(data_arc_sum.info())\n",
    "data_arc_sum.head()"
   ]
  },
  {
   "cell_type": "markdown",
   "id": "c4e87f7f",
   "metadata": {},
   "source": [
    "### Данные о подаче сыпучих материралов"
   ]
  },
  {
   "cell_type": "code",
   "execution_count": 43,
   "id": "1999eb30",
   "metadata": {},
   "outputs": [],
   "source": [
    "# заменим пропуски на 0\n",
    "data_bulk.fillna(0, inplace=True)"
   ]
  },
  {
   "cell_type": "code",
   "execution_count": 44,
   "id": "9d8b19b5",
   "metadata": {},
   "outputs": [
    {
     "name": "stdout",
     "output_type": "stream",
     "text": [
      "<class 'pandas.core.frame.DataFrame'>\n",
      "RangeIndex: 3129 entries, 0 to 3128\n",
      "Data columns (total 15 columns):\n",
      " #   Column   Non-Null Count  Dtype  \n",
      "---  ------   --------------  -----  \n",
      " 0   key      3129 non-null   int64  \n",
      " 1   Bulk 1   3129 non-null   float64\n",
      " 2   Bulk 2   3129 non-null   float64\n",
      " 3   Bulk 3   3129 non-null   float64\n",
      " 4   Bulk 4   3129 non-null   float64\n",
      " 5   Bulk 5   3129 non-null   float64\n",
      " 6   Bulk 6   3129 non-null   float64\n",
      " 7   Bulk 7   3129 non-null   float64\n",
      " 8   Bulk 9   3129 non-null   float64\n",
      " 9   Bulk 10  3129 non-null   float64\n",
      " 10  Bulk 11  3129 non-null   float64\n",
      " 11  Bulk 12  3129 non-null   float64\n",
      " 12  Bulk 13  3129 non-null   float64\n",
      " 13  Bulk 14  3129 non-null   float64\n",
      " 14  Bulk 15  3129 non-null   float64\n",
      "dtypes: float64(14), int64(1)\n",
      "memory usage: 366.8 KB\n",
      "None\n"
     ]
    },
    {
     "data": {
      "text/html": [
       "<div>\n",
       "<style scoped>\n",
       "    .dataframe tbody tr th:only-of-type {\n",
       "        vertical-align: middle;\n",
       "    }\n",
       "\n",
       "    .dataframe tbody tr th {\n",
       "        vertical-align: top;\n",
       "    }\n",
       "\n",
       "    .dataframe thead th {\n",
       "        text-align: right;\n",
       "    }\n",
       "</style>\n",
       "<table border=\"1\" class=\"dataframe\">\n",
       "  <thead>\n",
       "    <tr style=\"text-align: right;\">\n",
       "      <th></th>\n",
       "      <th>key</th>\n",
       "      <th>Bulk 1</th>\n",
       "      <th>Bulk 2</th>\n",
       "      <th>Bulk 3</th>\n",
       "      <th>Bulk 4</th>\n",
       "      <th>Bulk 5</th>\n",
       "      <th>Bulk 6</th>\n",
       "      <th>Bulk 7</th>\n",
       "      <th>Bulk 9</th>\n",
       "      <th>Bulk 10</th>\n",
       "      <th>Bulk 11</th>\n",
       "      <th>Bulk 12</th>\n",
       "      <th>Bulk 13</th>\n",
       "      <th>Bulk 14</th>\n",
       "      <th>Bulk 15</th>\n",
       "    </tr>\n",
       "  </thead>\n",
       "  <tbody>\n",
       "    <tr>\n",
       "      <th>0</th>\n",
       "      <td>1</td>\n",
       "      <td>0.0</td>\n",
       "      <td>0.0</td>\n",
       "      <td>0.0</td>\n",
       "      <td>43.0</td>\n",
       "      <td>0.0</td>\n",
       "      <td>0.0</td>\n",
       "      <td>0.0</td>\n",
       "      <td>0.0</td>\n",
       "      <td>0.0</td>\n",
       "      <td>0.0</td>\n",
       "      <td>206.0</td>\n",
       "      <td>0.0</td>\n",
       "      <td>150.0</td>\n",
       "      <td>154.0</td>\n",
       "    </tr>\n",
       "    <tr>\n",
       "      <th>1</th>\n",
       "      <td>2</td>\n",
       "      <td>0.0</td>\n",
       "      <td>0.0</td>\n",
       "      <td>0.0</td>\n",
       "      <td>73.0</td>\n",
       "      <td>0.0</td>\n",
       "      <td>0.0</td>\n",
       "      <td>0.0</td>\n",
       "      <td>0.0</td>\n",
       "      <td>0.0</td>\n",
       "      <td>0.0</td>\n",
       "      <td>206.0</td>\n",
       "      <td>0.0</td>\n",
       "      <td>149.0</td>\n",
       "      <td>154.0</td>\n",
       "    </tr>\n",
       "    <tr>\n",
       "      <th>2</th>\n",
       "      <td>3</td>\n",
       "      <td>0.0</td>\n",
       "      <td>0.0</td>\n",
       "      <td>0.0</td>\n",
       "      <td>34.0</td>\n",
       "      <td>0.0</td>\n",
       "      <td>0.0</td>\n",
       "      <td>0.0</td>\n",
       "      <td>0.0</td>\n",
       "      <td>0.0</td>\n",
       "      <td>0.0</td>\n",
       "      <td>205.0</td>\n",
       "      <td>0.0</td>\n",
       "      <td>152.0</td>\n",
       "      <td>153.0</td>\n",
       "    </tr>\n",
       "    <tr>\n",
       "      <th>3</th>\n",
       "      <td>4</td>\n",
       "      <td>0.0</td>\n",
       "      <td>0.0</td>\n",
       "      <td>0.0</td>\n",
       "      <td>81.0</td>\n",
       "      <td>0.0</td>\n",
       "      <td>0.0</td>\n",
       "      <td>0.0</td>\n",
       "      <td>0.0</td>\n",
       "      <td>0.0</td>\n",
       "      <td>0.0</td>\n",
       "      <td>207.0</td>\n",
       "      <td>0.0</td>\n",
       "      <td>153.0</td>\n",
       "      <td>154.0</td>\n",
       "    </tr>\n",
       "    <tr>\n",
       "      <th>4</th>\n",
       "      <td>5</td>\n",
       "      <td>0.0</td>\n",
       "      <td>0.0</td>\n",
       "      <td>0.0</td>\n",
       "      <td>78.0</td>\n",
       "      <td>0.0</td>\n",
       "      <td>0.0</td>\n",
       "      <td>0.0</td>\n",
       "      <td>0.0</td>\n",
       "      <td>0.0</td>\n",
       "      <td>0.0</td>\n",
       "      <td>203.0</td>\n",
       "      <td>0.0</td>\n",
       "      <td>151.0</td>\n",
       "      <td>152.0</td>\n",
       "    </tr>\n",
       "  </tbody>\n",
       "</table>\n",
       "</div>"
      ],
      "text/plain": [
       "   key  Bulk 1  Bulk 2  Bulk 3  Bulk 4  Bulk 5  Bulk 6  Bulk 7  Bulk 9  \\\n",
       "0    1     0.0     0.0     0.0    43.0     0.0     0.0     0.0     0.0   \n",
       "1    2     0.0     0.0     0.0    73.0     0.0     0.0     0.0     0.0   \n",
       "2    3     0.0     0.0     0.0    34.0     0.0     0.0     0.0     0.0   \n",
       "3    4     0.0     0.0     0.0    81.0     0.0     0.0     0.0     0.0   \n",
       "4    5     0.0     0.0     0.0    78.0     0.0     0.0     0.0     0.0   \n",
       "\n",
       "   Bulk 10  Bulk 11  Bulk 12  Bulk 13  Bulk 14  Bulk 15  \n",
       "0      0.0      0.0    206.0      0.0    150.0    154.0  \n",
       "1      0.0      0.0    206.0      0.0    149.0    154.0  \n",
       "2      0.0      0.0    205.0      0.0    152.0    153.0  \n",
       "3      0.0      0.0    207.0      0.0    153.0    154.0  \n",
       "4      0.0      0.0    203.0      0.0    151.0    152.0  "
      ]
     },
     "execution_count": 44,
     "metadata": {},
     "output_type": "execute_result"
    }
   ],
   "source": [
    "# удалим неинформативный столбец\n",
    "data_bulk = data_bulk.drop(columns = ['Bulk 8'],axis = 1)\n",
    "print(data_bulk.info())\n",
    "data_bulk.head()"
   ]
  },
  {
   "cell_type": "markdown",
   "id": "e6b5fcf0",
   "metadata": {},
   "source": [
    "### Результаты измерения температуры"
   ]
  },
  {
   "cell_type": "code",
   "execution_count": 45,
   "id": "4eec8a06",
   "metadata": {},
   "outputs": [],
   "source": [
    "# изменим тип данных в столбце с временем замера\n",
    "data_temp['Время замера'] = data_temp['Время замера'].astype(\"datetime64\")"
   ]
  },
  {
   "cell_type": "code",
   "execution_count": 46,
   "id": "3be040e1",
   "metadata": {},
   "outputs": [
    {
     "name": "stdout",
     "output_type": "stream",
     "text": [
      "<class 'pandas.core.frame.DataFrame'>\n",
      "RangeIndex: 18092 entries, 0 to 18091\n",
      "Data columns (total 3 columns):\n",
      " #   Column        Non-Null Count  Dtype         \n",
      "---  ------        --------------  -----         \n",
      " 0   key           18092 non-null  int64         \n",
      " 1   Время замера  18092 non-null  datetime64[ns]\n",
      " 2   Температура   14665 non-null  float64       \n",
      "dtypes: datetime64[ns](1), float64(1), int64(1)\n",
      "memory usage: 424.2 KB\n"
     ]
    }
   ],
   "source": [
    "# проверка результата\n",
    "data_temp.info()"
   ]
  },
  {
   "cell_type": "markdown",
   "id": "5f642381",
   "metadata": {},
   "source": [
    "Предлагаю удалить те партии где были аномально низкие температуры, пропуски в данных и всего 1 замер температуры"
   ]
  },
  {
   "cell_type": "code",
   "execution_count": 47,
   "id": "c16f8476",
   "metadata": {},
   "outputs": [],
   "source": [
    "#список партий в которых температура плавления меньше нормативных значений\n",
    "drop_min = data_temp[data_temp['Температура'] <= 1450]['key'].tolist()"
   ]
  },
  {
   "cell_type": "code",
   "execution_count": 48,
   "id": "489b72fe",
   "metadata": {},
   "outputs": [],
   "source": [
    "#список партий в которых только один замер температуры\n",
    "one = data_temp['key'].value_counts().reset_index()\n",
    "drop_one = one[one['key'] == 1]['index'].tolist()"
   ]
  },
  {
   "cell_type": "code",
   "execution_count": 49,
   "id": "56528684",
   "metadata": {},
   "outputs": [],
   "source": [
    "#список партий в которых имеются пропуски в данных\n",
    "drop_nan = data_temp[data_temp['Температура'].isna()]['key'].unique().tolist()"
   ]
  },
  {
   "cell_type": "code",
   "execution_count": 50,
   "id": "45c9e8bc",
   "metadata": {},
   "outputs": [
    {
     "data": {
      "text/html": [
       "<div>\n",
       "<style scoped>\n",
       "    .dataframe tbody tr th:only-of-type {\n",
       "        vertical-align: middle;\n",
       "    }\n",
       "\n",
       "    .dataframe tbody tr th {\n",
       "        vertical-align: top;\n",
       "    }\n",
       "\n",
       "    .dataframe thead th {\n",
       "        text-align: right;\n",
       "    }\n",
       "</style>\n",
       "<table border=\"1\" class=\"dataframe\">\n",
       "  <thead>\n",
       "    <tr style=\"text-align: right;\">\n",
       "      <th></th>\n",
       "      <th>key</th>\n",
       "      <th>Время замера</th>\n",
       "      <th>Температура</th>\n",
       "    </tr>\n",
       "  </thead>\n",
       "  <tbody>\n",
       "    <tr>\n",
       "      <th>0</th>\n",
       "      <td>1</td>\n",
       "      <td>2019-05-03 11:02:04</td>\n",
       "      <td>1571.0</td>\n",
       "    </tr>\n",
       "    <tr>\n",
       "      <th>1</th>\n",
       "      <td>1</td>\n",
       "      <td>2019-05-03 11:07:18</td>\n",
       "      <td>1604.0</td>\n",
       "    </tr>\n",
       "    <tr>\n",
       "      <th>2</th>\n",
       "      <td>1</td>\n",
       "      <td>2019-05-03 11:11:34</td>\n",
       "      <td>1618.0</td>\n",
       "    </tr>\n",
       "    <tr>\n",
       "      <th>3</th>\n",
       "      <td>1</td>\n",
       "      <td>2019-05-03 11:18:04</td>\n",
       "      <td>1601.0</td>\n",
       "    </tr>\n",
       "    <tr>\n",
       "      <th>4</th>\n",
       "      <td>1</td>\n",
       "      <td>2019-05-03 11:25:59</td>\n",
       "      <td>1606.0</td>\n",
       "    </tr>\n",
       "    <tr>\n",
       "      <th>...</th>\n",
       "      <td>...</td>\n",
       "      <td>...</td>\n",
       "      <td>...</td>\n",
       "    </tr>\n",
       "    <tr>\n",
       "      <th>13921</th>\n",
       "      <td>2499</td>\n",
       "      <td>2019-08-10 13:33:21</td>\n",
       "      <td>1569.0</td>\n",
       "    </tr>\n",
       "    <tr>\n",
       "      <th>13922</th>\n",
       "      <td>2499</td>\n",
       "      <td>2019-08-10 13:41:34</td>\n",
       "      <td>1604.0</td>\n",
       "    </tr>\n",
       "    <tr>\n",
       "      <th>13923</th>\n",
       "      <td>2499</td>\n",
       "      <td>2019-08-10 13:46:28</td>\n",
       "      <td>1593.0</td>\n",
       "    </tr>\n",
       "    <tr>\n",
       "      <th>13924</th>\n",
       "      <td>2499</td>\n",
       "      <td>2019-08-10 13:54:56</td>\n",
       "      <td>1588.0</td>\n",
       "    </tr>\n",
       "    <tr>\n",
       "      <th>13925</th>\n",
       "      <td>2499</td>\n",
       "      <td>2019-08-10 13:58:58</td>\n",
       "      <td>1603.0</td>\n",
       "    </tr>\n",
       "  </tbody>\n",
       "</table>\n",
       "<p>13903 rows × 3 columns</p>\n",
       "</div>"
      ],
      "text/plain": [
       "        key        Время замера  Температура\n",
       "0         1 2019-05-03 11:02:04       1571.0\n",
       "1         1 2019-05-03 11:07:18       1604.0\n",
       "2         1 2019-05-03 11:11:34       1618.0\n",
       "3         1 2019-05-03 11:18:04       1601.0\n",
       "4         1 2019-05-03 11:25:59       1606.0\n",
       "...     ...                 ...          ...\n",
       "13921  2499 2019-08-10 13:33:21       1569.0\n",
       "13922  2499 2019-08-10 13:41:34       1604.0\n",
       "13923  2499 2019-08-10 13:46:28       1593.0\n",
       "13924  2499 2019-08-10 13:54:56       1588.0\n",
       "13925  2499 2019-08-10 13:58:58       1603.0\n",
       "\n",
       "[13903 rows x 3 columns]"
      ]
     },
     "execution_count": 50,
     "metadata": {},
     "output_type": "execute_result"
    }
   ],
   "source": [
    "#удаление партий\n",
    "data_temp = data_temp[~data_temp['key'].isin(drop_nan)]\n",
    "data_temp = data_temp[~data_temp['key'].isin(drop_one)]\n",
    "data_temp = data_temp[~data_temp['key'].isin(drop_min)]\n",
    "data_temp"
   ]
  },
  {
   "cell_type": "code",
   "execution_count": 51,
   "id": "1b6a850e",
   "metadata": {},
   "outputs": [],
   "source": [
    "#Целевым признаком является последняя измеренная температура, сгруппируем данные\n",
    "data_temp_new = data_temp.groupby(by = 'key', as_index = False).agg(Начальная_температура = ( 'Температура','first'), \n",
    "                                                                    Конечная_температура = ( 'Температура','last'))"
   ]
  },
  {
   "cell_type": "code",
   "execution_count": 52,
   "id": "955ca231",
   "metadata": {},
   "outputs": [
    {
     "name": "stdout",
     "output_type": "stream",
     "text": [
      "<class 'pandas.core.frame.DataFrame'>\n",
      "RangeIndex: 2471 entries, 0 to 2470\n",
      "Data columns (total 3 columns):\n",
      " #   Column                 Non-Null Count  Dtype  \n",
      "---  ------                 --------------  -----  \n",
      " 0   key                    2471 non-null   int64  \n",
      " 1   Начальная_температура  2471 non-null   float64\n",
      " 2   Конечная_температура   2471 non-null   float64\n",
      "dtypes: float64(2), int64(1)\n",
      "memory usage: 58.0 KB\n",
      "None\n"
     ]
    },
    {
     "data": {
      "text/html": [
       "<div>\n",
       "<style scoped>\n",
       "    .dataframe tbody tr th:only-of-type {\n",
       "        vertical-align: middle;\n",
       "    }\n",
       "\n",
       "    .dataframe tbody tr th {\n",
       "        vertical-align: top;\n",
       "    }\n",
       "\n",
       "    .dataframe thead th {\n",
       "        text-align: right;\n",
       "    }\n",
       "</style>\n",
       "<table border=\"1\" class=\"dataframe\">\n",
       "  <thead>\n",
       "    <tr style=\"text-align: right;\">\n",
       "      <th></th>\n",
       "      <th>key</th>\n",
       "      <th>Начальная_температура</th>\n",
       "      <th>Конечная_температура</th>\n",
       "    </tr>\n",
       "  </thead>\n",
       "  <tbody>\n",
       "    <tr>\n",
       "      <th>0</th>\n",
       "      <td>1</td>\n",
       "      <td>1571.0</td>\n",
       "      <td>1613.0</td>\n",
       "    </tr>\n",
       "    <tr>\n",
       "      <th>1</th>\n",
       "      <td>2</td>\n",
       "      <td>1581.0</td>\n",
       "      <td>1602.0</td>\n",
       "    </tr>\n",
       "    <tr>\n",
       "      <th>2</th>\n",
       "      <td>3</td>\n",
       "      <td>1596.0</td>\n",
       "      <td>1599.0</td>\n",
       "    </tr>\n",
       "    <tr>\n",
       "      <th>3</th>\n",
       "      <td>4</td>\n",
       "      <td>1601.0</td>\n",
       "      <td>1625.0</td>\n",
       "    </tr>\n",
       "    <tr>\n",
       "      <th>4</th>\n",
       "      <td>5</td>\n",
       "      <td>1576.0</td>\n",
       "      <td>1602.0</td>\n",
       "    </tr>\n",
       "  </tbody>\n",
       "</table>\n",
       "</div>"
      ],
      "text/plain": [
       "   key  Начальная_температура  Конечная_температура\n",
       "0    1                 1571.0                1613.0\n",
       "1    2                 1581.0                1602.0\n",
       "2    3                 1596.0                1599.0\n",
       "3    4                 1601.0                1625.0\n",
       "4    5                 1576.0                1602.0"
      ]
     },
     "execution_count": 52,
     "metadata": {},
     "output_type": "execute_result"
    }
   ],
   "source": [
    "#проверка\n",
    "print(data_temp_new .info())\n",
    "data_temp_new .head()"
   ]
  },
  {
   "cell_type": "markdown",
   "id": "824dd5ce",
   "metadata": {},
   "source": [
    "### Данные о проволочных материалах"
   ]
  },
  {
   "cell_type": "code",
   "execution_count": 53,
   "id": "e7d7e9c8",
   "metadata": {},
   "outputs": [],
   "source": [
    "# заменим пропуски на 0\n",
    "data_wire.fillna(0, inplace=True)"
   ]
  },
  {
   "cell_type": "code",
   "execution_count": 54,
   "id": "fbfbb7aa",
   "metadata": {},
   "outputs": [
    {
     "name": "stdout",
     "output_type": "stream",
     "text": [
      "<class 'pandas.core.frame.DataFrame'>\n",
      "RangeIndex: 3081 entries, 0 to 3080\n",
      "Data columns (total 10 columns):\n",
      " #   Column  Non-Null Count  Dtype  \n",
      "---  ------  --------------  -----  \n",
      " 0   key     3081 non-null   int64  \n",
      " 1   Wire 1  3081 non-null   float64\n",
      " 2   Wire 2  3081 non-null   float64\n",
      " 3   Wire 3  3081 non-null   float64\n",
      " 4   Wire 4  3081 non-null   float64\n",
      " 5   Wire 5  3081 non-null   float64\n",
      " 6   Wire 6  3081 non-null   float64\n",
      " 7   Wire 7  3081 non-null   float64\n",
      " 8   Wire 8  3081 non-null   float64\n",
      " 9   Wire 9  3081 non-null   float64\n",
      "dtypes: float64(9), int64(1)\n",
      "memory usage: 240.8 KB\n",
      "None\n"
     ]
    },
    {
     "data": {
      "text/html": [
       "<div>\n",
       "<style scoped>\n",
       "    .dataframe tbody tr th:only-of-type {\n",
       "        vertical-align: middle;\n",
       "    }\n",
       "\n",
       "    .dataframe tbody tr th {\n",
       "        vertical-align: top;\n",
       "    }\n",
       "\n",
       "    .dataframe thead th {\n",
       "        text-align: right;\n",
       "    }\n",
       "</style>\n",
       "<table border=\"1\" class=\"dataframe\">\n",
       "  <thead>\n",
       "    <tr style=\"text-align: right;\">\n",
       "      <th></th>\n",
       "      <th>key</th>\n",
       "      <th>Wire 1</th>\n",
       "      <th>Wire 2</th>\n",
       "      <th>Wire 3</th>\n",
       "      <th>Wire 4</th>\n",
       "      <th>Wire 5</th>\n",
       "      <th>Wire 6</th>\n",
       "      <th>Wire 7</th>\n",
       "      <th>Wire 8</th>\n",
       "      <th>Wire 9</th>\n",
       "    </tr>\n",
       "  </thead>\n",
       "  <tbody>\n",
       "    <tr>\n",
       "      <th>0</th>\n",
       "      <td>1</td>\n",
       "      <td>60.059998</td>\n",
       "      <td>0.00000</td>\n",
       "      <td>0.0</td>\n",
       "      <td>0.0</td>\n",
       "      <td>0.0</td>\n",
       "      <td>0.0</td>\n",
       "      <td>0.0</td>\n",
       "      <td>0.0</td>\n",
       "      <td>0.0</td>\n",
       "    </tr>\n",
       "    <tr>\n",
       "      <th>1</th>\n",
       "      <td>2</td>\n",
       "      <td>96.052315</td>\n",
       "      <td>0.00000</td>\n",
       "      <td>0.0</td>\n",
       "      <td>0.0</td>\n",
       "      <td>0.0</td>\n",
       "      <td>0.0</td>\n",
       "      <td>0.0</td>\n",
       "      <td>0.0</td>\n",
       "      <td>0.0</td>\n",
       "    </tr>\n",
       "    <tr>\n",
       "      <th>2</th>\n",
       "      <td>3</td>\n",
       "      <td>91.160157</td>\n",
       "      <td>0.00000</td>\n",
       "      <td>0.0</td>\n",
       "      <td>0.0</td>\n",
       "      <td>0.0</td>\n",
       "      <td>0.0</td>\n",
       "      <td>0.0</td>\n",
       "      <td>0.0</td>\n",
       "      <td>0.0</td>\n",
       "    </tr>\n",
       "    <tr>\n",
       "      <th>3</th>\n",
       "      <td>4</td>\n",
       "      <td>89.063515</td>\n",
       "      <td>0.00000</td>\n",
       "      <td>0.0</td>\n",
       "      <td>0.0</td>\n",
       "      <td>0.0</td>\n",
       "      <td>0.0</td>\n",
       "      <td>0.0</td>\n",
       "      <td>0.0</td>\n",
       "      <td>0.0</td>\n",
       "    </tr>\n",
       "    <tr>\n",
       "      <th>4</th>\n",
       "      <td>5</td>\n",
       "      <td>89.238236</td>\n",
       "      <td>9.11456</td>\n",
       "      <td>0.0</td>\n",
       "      <td>0.0</td>\n",
       "      <td>0.0</td>\n",
       "      <td>0.0</td>\n",
       "      <td>0.0</td>\n",
       "      <td>0.0</td>\n",
       "      <td>0.0</td>\n",
       "    </tr>\n",
       "  </tbody>\n",
       "</table>\n",
       "</div>"
      ],
      "text/plain": [
       "   key     Wire 1   Wire 2  Wire 3  Wire 4  Wire 5  Wire 6  Wire 7  Wire 8  \\\n",
       "0    1  60.059998  0.00000     0.0     0.0     0.0     0.0     0.0     0.0   \n",
       "1    2  96.052315  0.00000     0.0     0.0     0.0     0.0     0.0     0.0   \n",
       "2    3  91.160157  0.00000     0.0     0.0     0.0     0.0     0.0     0.0   \n",
       "3    4  89.063515  0.00000     0.0     0.0     0.0     0.0     0.0     0.0   \n",
       "4    5  89.238236  9.11456     0.0     0.0     0.0     0.0     0.0     0.0   \n",
       "\n",
       "   Wire 9  \n",
       "0     0.0  \n",
       "1     0.0  \n",
       "2     0.0  \n",
       "3     0.0  \n",
       "4     0.0  "
      ]
     },
     "execution_count": 54,
     "metadata": {},
     "output_type": "execute_result"
    }
   ],
   "source": [
    "# удалим неинформативный столбец\n",
    "#data_wire = data_wire.drop(columns = ['Wire 5'],axis = 1)\n",
    "print(data_wire.info())\n",
    "data_wire.head()"
   ]
  },
  {
   "cell_type": "markdown",
   "id": "db28e12e",
   "metadata": {},
   "source": [
    "## Подготовка данных"
   ]
  },
  {
   "cell_type": "markdown",
   "id": "d02a7f83",
   "metadata": {},
   "source": [
    "### Объединение данных в один датафрейм"
   ]
  },
  {
   "cell_type": "code",
   "execution_count": 55,
   "id": "654d9b86",
   "metadata": {},
   "outputs": [],
   "source": [
    "# Объединение данных в один датафрейм\n",
    "data_full = (\n",
    "    data_temp_new.merge(data_arc_sum, how=\"inner\", on=\"key\")\n",
    "    .merge(data_gas, how=\"inner\", on=\"key\")\n",
    "    .merge(data_bulk, how=\"inner\", on=\"key\")\n",
    "    .merge(data_wire, how=\"inner\", on=\"key\")\n",
    ")"
   ]
  },
  {
   "cell_type": "code",
   "execution_count": 56,
   "id": "2241291f",
   "metadata": {},
   "outputs": [
    {
     "data": {
      "text/html": [
       "<div>\n",
       "<style scoped>\n",
       "    .dataframe tbody tr th:only-of-type {\n",
       "        vertical-align: middle;\n",
       "    }\n",
       "\n",
       "    .dataframe tbody tr th {\n",
       "        vertical-align: top;\n",
       "    }\n",
       "\n",
       "    .dataframe thead th {\n",
       "        text-align: right;\n",
       "    }\n",
       "</style>\n",
       "<table border=\"1\" class=\"dataframe\">\n",
       "  <thead>\n",
       "    <tr style=\"text-align: right;\">\n",
       "      <th></th>\n",
       "      <th>key</th>\n",
       "      <th>Начальная_температура</th>\n",
       "      <th>Конечная_температура</th>\n",
       "      <th>Длительность нагрева</th>\n",
       "      <th>Энергия</th>\n",
       "      <th>Газ 1</th>\n",
       "      <th>Bulk 1</th>\n",
       "      <th>Bulk 2</th>\n",
       "      <th>Bulk 3</th>\n",
       "      <th>Bulk 4</th>\n",
       "      <th>...</th>\n",
       "      <th>Bulk 15</th>\n",
       "      <th>Wire 1</th>\n",
       "      <th>Wire 2</th>\n",
       "      <th>Wire 3</th>\n",
       "      <th>Wire 4</th>\n",
       "      <th>Wire 5</th>\n",
       "      <th>Wire 6</th>\n",
       "      <th>Wire 7</th>\n",
       "      <th>Wire 8</th>\n",
       "      <th>Wire 9</th>\n",
       "    </tr>\n",
       "  </thead>\n",
       "  <tbody>\n",
       "    <tr>\n",
       "      <th>0</th>\n",
       "      <td>1</td>\n",
       "      <td>1571.0</td>\n",
       "      <td>1613.0</td>\n",
       "      <td>1098</td>\n",
       "      <td>628.616930</td>\n",
       "      <td>29.749986</td>\n",
       "      <td>0.0</td>\n",
       "      <td>0.0</td>\n",
       "      <td>0.0</td>\n",
       "      <td>43.0</td>\n",
       "      <td>...</td>\n",
       "      <td>154.0</td>\n",
       "      <td>60.059998</td>\n",
       "      <td>0.00000</td>\n",
       "      <td>0.0</td>\n",
       "      <td>0.0</td>\n",
       "      <td>0.0</td>\n",
       "      <td>0.0</td>\n",
       "      <td>0.0</td>\n",
       "      <td>0.0</td>\n",
       "      <td>0.0</td>\n",
       "    </tr>\n",
       "    <tr>\n",
       "      <th>1</th>\n",
       "      <td>2</td>\n",
       "      <td>1581.0</td>\n",
       "      <td>1602.0</td>\n",
       "      <td>811</td>\n",
       "      <td>395.281800</td>\n",
       "      <td>12.555561</td>\n",
       "      <td>0.0</td>\n",
       "      <td>0.0</td>\n",
       "      <td>0.0</td>\n",
       "      <td>73.0</td>\n",
       "      <td>...</td>\n",
       "      <td>154.0</td>\n",
       "      <td>96.052315</td>\n",
       "      <td>0.00000</td>\n",
       "      <td>0.0</td>\n",
       "      <td>0.0</td>\n",
       "      <td>0.0</td>\n",
       "      <td>0.0</td>\n",
       "      <td>0.0</td>\n",
       "      <td>0.0</td>\n",
       "      <td>0.0</td>\n",
       "    </tr>\n",
       "    <tr>\n",
       "      <th>2</th>\n",
       "      <td>3</td>\n",
       "      <td>1596.0</td>\n",
       "      <td>1599.0</td>\n",
       "      <td>655</td>\n",
       "      <td>581.774624</td>\n",
       "      <td>28.554793</td>\n",
       "      <td>0.0</td>\n",
       "      <td>0.0</td>\n",
       "      <td>0.0</td>\n",
       "      <td>34.0</td>\n",
       "      <td>...</td>\n",
       "      <td>153.0</td>\n",
       "      <td>91.160157</td>\n",
       "      <td>0.00000</td>\n",
       "      <td>0.0</td>\n",
       "      <td>0.0</td>\n",
       "      <td>0.0</td>\n",
       "      <td>0.0</td>\n",
       "      <td>0.0</td>\n",
       "      <td>0.0</td>\n",
       "      <td>0.0</td>\n",
       "    </tr>\n",
       "    <tr>\n",
       "      <th>3</th>\n",
       "      <td>4</td>\n",
       "      <td>1601.0</td>\n",
       "      <td>1625.0</td>\n",
       "      <td>741</td>\n",
       "      <td>543.710274</td>\n",
       "      <td>18.841219</td>\n",
       "      <td>0.0</td>\n",
       "      <td>0.0</td>\n",
       "      <td>0.0</td>\n",
       "      <td>81.0</td>\n",
       "      <td>...</td>\n",
       "      <td>154.0</td>\n",
       "      <td>89.063515</td>\n",
       "      <td>0.00000</td>\n",
       "      <td>0.0</td>\n",
       "      <td>0.0</td>\n",
       "      <td>0.0</td>\n",
       "      <td>0.0</td>\n",
       "      <td>0.0</td>\n",
       "      <td>0.0</td>\n",
       "      <td>0.0</td>\n",
       "    </tr>\n",
       "    <tr>\n",
       "      <th>4</th>\n",
       "      <td>5</td>\n",
       "      <td>1576.0</td>\n",
       "      <td>1602.0</td>\n",
       "      <td>869</td>\n",
       "      <td>412.180480</td>\n",
       "      <td>5.413692</td>\n",
       "      <td>0.0</td>\n",
       "      <td>0.0</td>\n",
       "      <td>0.0</td>\n",
       "      <td>78.0</td>\n",
       "      <td>...</td>\n",
       "      <td>152.0</td>\n",
       "      <td>89.238236</td>\n",
       "      <td>9.11456</td>\n",
       "      <td>0.0</td>\n",
       "      <td>0.0</td>\n",
       "      <td>0.0</td>\n",
       "      <td>0.0</td>\n",
       "      <td>0.0</td>\n",
       "      <td>0.0</td>\n",
       "      <td>0.0</td>\n",
       "    </tr>\n",
       "  </tbody>\n",
       "</table>\n",
       "<p>5 rows × 29 columns</p>\n",
       "</div>"
      ],
      "text/plain": [
       "   key  Начальная_температура  Конечная_температура  Длительность нагрева  \\\n",
       "0    1                 1571.0                1613.0                  1098   \n",
       "1    2                 1581.0                1602.0                   811   \n",
       "2    3                 1596.0                1599.0                   655   \n",
       "3    4                 1601.0                1625.0                   741   \n",
       "4    5                 1576.0                1602.0                   869   \n",
       "\n",
       "      Энергия      Газ 1  Bulk 1  Bulk 2  Bulk 3  Bulk 4  ...  Bulk 15  \\\n",
       "0  628.616930  29.749986     0.0     0.0     0.0    43.0  ...    154.0   \n",
       "1  395.281800  12.555561     0.0     0.0     0.0    73.0  ...    154.0   \n",
       "2  581.774624  28.554793     0.0     0.0     0.0    34.0  ...    153.0   \n",
       "3  543.710274  18.841219     0.0     0.0     0.0    81.0  ...    154.0   \n",
       "4  412.180480   5.413692     0.0     0.0     0.0    78.0  ...    152.0   \n",
       "\n",
       "      Wire 1   Wire 2  Wire 3  Wire 4  Wire 5  Wire 6  Wire 7  Wire 8  Wire 9  \n",
       "0  60.059998  0.00000     0.0     0.0     0.0     0.0     0.0     0.0     0.0  \n",
       "1  96.052315  0.00000     0.0     0.0     0.0     0.0     0.0     0.0     0.0  \n",
       "2  91.160157  0.00000     0.0     0.0     0.0     0.0     0.0     0.0     0.0  \n",
       "3  89.063515  0.00000     0.0     0.0     0.0     0.0     0.0     0.0     0.0  \n",
       "4  89.238236  9.11456     0.0     0.0     0.0     0.0     0.0     0.0     0.0  \n",
       "\n",
       "[5 rows x 29 columns]"
      ]
     },
     "execution_count": 56,
     "metadata": {},
     "output_type": "execute_result"
    }
   ],
   "source": [
    "#Проверка результата\n",
    "data_full.head()"
   ]
  },
  {
   "cell_type": "markdown",
   "id": "0eec74a6",
   "metadata": {},
   "source": [
    "Исследуем датафрейм после объединения"
   ]
  },
  {
   "cell_type": "code",
   "execution_count": 57,
   "id": "99989d74",
   "metadata": {},
   "outputs": [
    {
     "name": "stdout",
     "output_type": "stream",
     "text": [
      "<class 'pandas.core.frame.DataFrame'>\n",
      "Int64Index: 2324 entries, 0 to 2323\n",
      "Data columns (total 29 columns):\n",
      " #   Column                 Non-Null Count  Dtype  \n",
      "---  ------                 --------------  -----  \n",
      " 0   key                    2324 non-null   int64  \n",
      " 1   Начальная_температура  2324 non-null   float64\n",
      " 2   Конечная_температура   2324 non-null   float64\n",
      " 3   Длительность нагрева   2324 non-null   int64  \n",
      " 4   Энергия                2324 non-null   float64\n",
      " 5   Газ 1                  2324 non-null   float64\n",
      " 6   Bulk 1                 2324 non-null   float64\n",
      " 7   Bulk 2                 2324 non-null   float64\n",
      " 8   Bulk 3                 2324 non-null   float64\n",
      " 9   Bulk 4                 2324 non-null   float64\n",
      " 10  Bulk 5                 2324 non-null   float64\n",
      " 11  Bulk 6                 2324 non-null   float64\n",
      " 12  Bulk 7                 2324 non-null   float64\n",
      " 13  Bulk 9                 2324 non-null   float64\n",
      " 14  Bulk 10                2324 non-null   float64\n",
      " 15  Bulk 11                2324 non-null   float64\n",
      " 16  Bulk 12                2324 non-null   float64\n",
      " 17  Bulk 13                2324 non-null   float64\n",
      " 18  Bulk 14                2324 non-null   float64\n",
      " 19  Bulk 15                2324 non-null   float64\n",
      " 20  Wire 1                 2324 non-null   float64\n",
      " 21  Wire 2                 2324 non-null   float64\n",
      " 22  Wire 3                 2324 non-null   float64\n",
      " 23  Wire 4                 2324 non-null   float64\n",
      " 24  Wire 5                 2324 non-null   float64\n",
      " 25  Wire 6                 2324 non-null   float64\n",
      " 26  Wire 7                 2324 non-null   float64\n",
      " 27  Wire 8                 2324 non-null   float64\n",
      " 28  Wire 9                 2324 non-null   float64\n",
      "dtypes: float64(27), int64(2)\n",
      "memory usage: 544.7 KB\n"
     ]
    }
   ],
   "source": [
    "# вывод общей информации\n",
    "data_full.info()"
   ]
  },
  {
   "cell_type": "markdown",
   "id": "176d1140",
   "metadata": {},
   "source": [
    "Пропуски отсутствуют, тип данных соответствует значениям"
   ]
  },
  {
   "cell_type": "code",
   "execution_count": 58,
   "id": "7ee2ce68",
   "metadata": {},
   "outputs": [
    {
     "data": {
      "text/html": [
       "<div>\n",
       "<style scoped>\n",
       "    .dataframe tbody tr th:only-of-type {\n",
       "        vertical-align: middle;\n",
       "    }\n",
       "\n",
       "    .dataframe tbody tr th {\n",
       "        vertical-align: top;\n",
       "    }\n",
       "\n",
       "    .dataframe thead th {\n",
       "        text-align: right;\n",
       "    }\n",
       "</style>\n",
       "<table border=\"1\" class=\"dataframe\">\n",
       "  <thead>\n",
       "    <tr style=\"text-align: right;\">\n",
       "      <th></th>\n",
       "      <th>count</th>\n",
       "      <th>mean</th>\n",
       "      <th>std</th>\n",
       "      <th>min</th>\n",
       "      <th>25%</th>\n",
       "      <th>50%</th>\n",
       "      <th>75%</th>\n",
       "      <th>max</th>\n",
       "    </tr>\n",
       "  </thead>\n",
       "  <tbody>\n",
       "    <tr>\n",
       "      <th>key</th>\n",
       "      <td>2324.0</td>\n",
       "      <td>1251.140275</td>\n",
       "      <td>715.027927</td>\n",
       "      <td>1.000000</td>\n",
       "      <td>628.750000</td>\n",
       "      <td>1254.500000</td>\n",
       "      <td>1867.250000</td>\n",
       "      <td>2499.000000</td>\n",
       "    </tr>\n",
       "    <tr>\n",
       "      <th>Начальная_температура</th>\n",
       "      <td>2324.0</td>\n",
       "      <td>1587.368761</td>\n",
       "      <td>23.627590</td>\n",
       "      <td>1519.000000</td>\n",
       "      <td>1571.000000</td>\n",
       "      <td>1587.000000</td>\n",
       "      <td>1603.000000</td>\n",
       "      <td>1660.000000</td>\n",
       "    </tr>\n",
       "    <tr>\n",
       "      <th>Конечная_температура</th>\n",
       "      <td>2324.0</td>\n",
       "      <td>1593.372633</td>\n",
       "      <td>11.207457</td>\n",
       "      <td>1541.000000</td>\n",
       "      <td>1587.000000</td>\n",
       "      <td>1593.000000</td>\n",
       "      <td>1598.000000</td>\n",
       "      <td>1653.000000</td>\n",
       "    </tr>\n",
       "    <tr>\n",
       "      <th>Длительность нагрева</th>\n",
       "      <td>2324.0</td>\n",
       "      <td>808.196644</td>\n",
       "      <td>340.813828</td>\n",
       "      <td>57.000000</td>\n",
       "      <td>581.000000</td>\n",
       "      <td>778.000000</td>\n",
       "      <td>993.000000</td>\n",
       "      <td>4189.000000</td>\n",
       "    </tr>\n",
       "    <tr>\n",
       "      <th>Энергия</th>\n",
       "      <td>2324.0</td>\n",
       "      <td>539.381127</td>\n",
       "      <td>257.301093</td>\n",
       "      <td>26.187544</td>\n",
       "      <td>368.304687</td>\n",
       "      <td>508.538758</td>\n",
       "      <td>679.198659</td>\n",
       "      <td>3718.054401</td>\n",
       "    </tr>\n",
       "    <tr>\n",
       "      <th>Газ 1</th>\n",
       "      <td>2324.0</td>\n",
       "      <td>11.378854</td>\n",
       "      <td>6.397008</td>\n",
       "      <td>0.008399</td>\n",
       "      <td>7.282534</td>\n",
       "      <td>10.100687</td>\n",
       "      <td>14.218487</td>\n",
       "      <td>77.995040</td>\n",
       "    </tr>\n",
       "    <tr>\n",
       "      <th>Bulk 1</th>\n",
       "      <td>2324.0</td>\n",
       "      <td>3.435026</td>\n",
       "      <td>12.424463</td>\n",
       "      <td>0.000000</td>\n",
       "      <td>0.000000</td>\n",
       "      <td>0.000000</td>\n",
       "      <td>0.000000</td>\n",
       "      <td>185.000000</td>\n",
       "    </tr>\n",
       "    <tr>\n",
       "      <th>Bulk 2</th>\n",
       "      <td>2324.0</td>\n",
       "      <td>1.425559</td>\n",
       "      <td>19.102530</td>\n",
       "      <td>0.000000</td>\n",
       "      <td>0.000000</td>\n",
       "      <td>0.000000</td>\n",
       "      <td>0.000000</td>\n",
       "      <td>325.000000</td>\n",
       "    </tr>\n",
       "    <tr>\n",
       "      <th>Bulk 3</th>\n",
       "      <td>2324.0</td>\n",
       "      <td>47.317126</td>\n",
       "      <td>75.238050</td>\n",
       "      <td>0.000000</td>\n",
       "      <td>0.000000</td>\n",
       "      <td>0.000000</td>\n",
       "      <td>80.000000</td>\n",
       "      <td>454.000000</td>\n",
       "    </tr>\n",
       "    <tr>\n",
       "      <th>Bulk 4</th>\n",
       "      <td>2324.0</td>\n",
       "      <td>37.347676</td>\n",
       "      <td>58.677890</td>\n",
       "      <td>0.000000</td>\n",
       "      <td>0.000000</td>\n",
       "      <td>0.000000</td>\n",
       "      <td>77.250000</td>\n",
       "      <td>281.000000</td>\n",
       "    </tr>\n",
       "    <tr>\n",
       "      <th>Bulk 5</th>\n",
       "      <td>2324.0</td>\n",
       "      <td>2.645869</td>\n",
       "      <td>22.426054</td>\n",
       "      <td>0.000000</td>\n",
       "      <td>0.000000</td>\n",
       "      <td>0.000000</td>\n",
       "      <td>0.000000</td>\n",
       "      <td>603.000000</td>\n",
       "    </tr>\n",
       "    <tr>\n",
       "      <th>Bulk 6</th>\n",
       "      <td>2324.0</td>\n",
       "      <td>22.419535</td>\n",
       "      <td>55.792509</td>\n",
       "      <td>0.000000</td>\n",
       "      <td>0.000000</td>\n",
       "      <td>0.000000</td>\n",
       "      <td>0.000000</td>\n",
       "      <td>503.000000</td>\n",
       "    </tr>\n",
       "    <tr>\n",
       "      <th>Bulk 7</th>\n",
       "      <td>2324.0</td>\n",
       "      <td>2.009036</td>\n",
       "      <td>30.709089</td>\n",
       "      <td>0.000000</td>\n",
       "      <td>0.000000</td>\n",
       "      <td>0.000000</td>\n",
       "      <td>0.000000</td>\n",
       "      <td>772.000000</td>\n",
       "    </tr>\n",
       "    <tr>\n",
       "      <th>Bulk 9</th>\n",
       "      <td>2324.0</td>\n",
       "      <td>0.445783</td>\n",
       "      <td>6.227298</td>\n",
       "      <td>0.000000</td>\n",
       "      <td>0.000000</td>\n",
       "      <td>0.000000</td>\n",
       "      <td>0.000000</td>\n",
       "      <td>147.000000</td>\n",
       "    </tr>\n",
       "    <tr>\n",
       "      <th>Bulk 10</th>\n",
       "      <td>2324.0</td>\n",
       "      <td>5.063683</td>\n",
       "      <td>20.938984</td>\n",
       "      <td>0.000000</td>\n",
       "      <td>0.000000</td>\n",
       "      <td>0.000000</td>\n",
       "      <td>0.000000</td>\n",
       "      <td>159.000000</td>\n",
       "    </tr>\n",
       "    <tr>\n",
       "      <th>Bulk 11</th>\n",
       "      <td>2324.0</td>\n",
       "      <td>4.254303</td>\n",
       "      <td>22.538843</td>\n",
       "      <td>0.000000</td>\n",
       "      <td>0.000000</td>\n",
       "      <td>0.000000</td>\n",
       "      <td>0.000000</td>\n",
       "      <td>313.000000</td>\n",
       "    </tr>\n",
       "    <tr>\n",
       "      <th>Bulk 12</th>\n",
       "      <td>2324.0</td>\n",
       "      <td>208.597676</td>\n",
       "      <td>157.112117</td>\n",
       "      <td>0.000000</td>\n",
       "      <td>105.000000</td>\n",
       "      <td>206.000000</td>\n",
       "      <td>283.000000</td>\n",
       "      <td>1849.000000</td>\n",
       "    </tr>\n",
       "    <tr>\n",
       "      <th>Bulk 13</th>\n",
       "      <td>2324.0</td>\n",
       "      <td>1.069707</td>\n",
       "      <td>14.250280</td>\n",
       "      <td>0.000000</td>\n",
       "      <td>0.000000</td>\n",
       "      <td>0.000000</td>\n",
       "      <td>0.000000</td>\n",
       "      <td>305.000000</td>\n",
       "    </tr>\n",
       "    <tr>\n",
       "      <th>Bulk 14</th>\n",
       "      <td>2324.0</td>\n",
       "      <td>153.952668</td>\n",
       "      <td>81.410544</td>\n",
       "      <td>0.000000</td>\n",
       "      <td>105.000000</td>\n",
       "      <td>149.000000</td>\n",
       "      <td>204.000000</td>\n",
       "      <td>636.000000</td>\n",
       "    </tr>\n",
       "    <tr>\n",
       "      <th>Bulk 15</th>\n",
       "      <td>2324.0</td>\n",
       "      <td>120.078313</td>\n",
       "      <td>84.655967</td>\n",
       "      <td>0.000000</td>\n",
       "      <td>0.000000</td>\n",
       "      <td>107.000000</td>\n",
       "      <td>204.000000</td>\n",
       "      <td>405.000000</td>\n",
       "    </tr>\n",
       "    <tr>\n",
       "      <th>Wire 1</th>\n",
       "      <td>2324.0</td>\n",
       "      <td>102.423900</td>\n",
       "      <td>43.540975</td>\n",
       "      <td>0.000000</td>\n",
       "      <td>73.204559</td>\n",
       "      <td>101.103600</td>\n",
       "      <td>128.075222</td>\n",
       "      <td>330.314424</td>\n",
       "    </tr>\n",
       "    <tr>\n",
       "      <th>Wire 2</th>\n",
       "      <td>2324.0</td>\n",
       "      <td>17.613213</td>\n",
       "      <td>33.648176</td>\n",
       "      <td>0.000000</td>\n",
       "      <td>0.000000</td>\n",
       "      <td>0.000000</td>\n",
       "      <td>23.102560</td>\n",
       "      <td>282.780152</td>\n",
       "    </tr>\n",
       "    <tr>\n",
       "      <th>Wire 3</th>\n",
       "      <td>2324.0</td>\n",
       "      <td>3.241876</td>\n",
       "      <td>27.972523</td>\n",
       "      <td>0.000000</td>\n",
       "      <td>0.000000</td>\n",
       "      <td>0.000000</td>\n",
       "      <td>0.000000</td>\n",
       "      <td>385.008668</td>\n",
       "    </tr>\n",
       "    <tr>\n",
       "      <th>Wire 4</th>\n",
       "      <td>2324.0</td>\n",
       "      <td>0.307209</td>\n",
       "      <td>4.762842</td>\n",
       "      <td>0.000000</td>\n",
       "      <td>0.000000</td>\n",
       "      <td>0.000000</td>\n",
       "      <td>0.000000</td>\n",
       "      <td>113.231044</td>\n",
       "    </tr>\n",
       "    <tr>\n",
       "      <th>Wire 5</th>\n",
       "      <td>2324.0</td>\n",
       "      <td>0.000000</td>\n",
       "      <td>0.000000</td>\n",
       "      <td>0.000000</td>\n",
       "      <td>0.000000</td>\n",
       "      <td>0.000000</td>\n",
       "      <td>0.000000</td>\n",
       "      <td>0.000000</td>\n",
       "    </tr>\n",
       "    <tr>\n",
       "      <th>Wire 6</th>\n",
       "      <td>2324.0</td>\n",
       "      <td>0.980926</td>\n",
       "      <td>8.702531</td>\n",
       "      <td>0.000000</td>\n",
       "      <td>0.000000</td>\n",
       "      <td>0.000000</td>\n",
       "      <td>0.000000</td>\n",
       "      <td>180.454575</td>\n",
       "    </tr>\n",
       "    <tr>\n",
       "      <th>Wire 7</th>\n",
       "      <td>2324.0</td>\n",
       "      <td>0.006374</td>\n",
       "      <td>0.205926</td>\n",
       "      <td>0.000000</td>\n",
       "      <td>0.000000</td>\n",
       "      <td>0.000000</td>\n",
       "      <td>0.000000</td>\n",
       "      <td>8.490040</td>\n",
       "    </tr>\n",
       "    <tr>\n",
       "      <th>Wire 8</th>\n",
       "      <td>2324.0</td>\n",
       "      <td>0.311981</td>\n",
       "      <td>4.407419</td>\n",
       "      <td>0.000000</td>\n",
       "      <td>0.000000</td>\n",
       "      <td>0.000000</td>\n",
       "      <td>0.000000</td>\n",
       "      <td>102.762401</td>\n",
       "    </tr>\n",
       "    <tr>\n",
       "      <th>Wire 9</th>\n",
       "      <td>2324.0</td>\n",
       "      <td>0.317795</td>\n",
       "      <td>3.460248</td>\n",
       "      <td>0.000000</td>\n",
       "      <td>0.000000</td>\n",
       "      <td>0.000000</td>\n",
       "      <td>0.000000</td>\n",
       "      <td>62.025600</td>\n",
       "    </tr>\n",
       "  </tbody>\n",
       "</table>\n",
       "</div>"
      ],
      "text/plain": [
       "                        count         mean         std          min  \\\n",
       "key                    2324.0  1251.140275  715.027927     1.000000   \n",
       "Начальная_температура  2324.0  1587.368761   23.627590  1519.000000   \n",
       "Конечная_температура   2324.0  1593.372633   11.207457  1541.000000   \n",
       "Длительность нагрева   2324.0   808.196644  340.813828    57.000000   \n",
       "Энергия                2324.0   539.381127  257.301093    26.187544   \n",
       "Газ 1                  2324.0    11.378854    6.397008     0.008399   \n",
       "Bulk 1                 2324.0     3.435026   12.424463     0.000000   \n",
       "Bulk 2                 2324.0     1.425559   19.102530     0.000000   \n",
       "Bulk 3                 2324.0    47.317126   75.238050     0.000000   \n",
       "Bulk 4                 2324.0    37.347676   58.677890     0.000000   \n",
       "Bulk 5                 2324.0     2.645869   22.426054     0.000000   \n",
       "Bulk 6                 2324.0    22.419535   55.792509     0.000000   \n",
       "Bulk 7                 2324.0     2.009036   30.709089     0.000000   \n",
       "Bulk 9                 2324.0     0.445783    6.227298     0.000000   \n",
       "Bulk 10                2324.0     5.063683   20.938984     0.000000   \n",
       "Bulk 11                2324.0     4.254303   22.538843     0.000000   \n",
       "Bulk 12                2324.0   208.597676  157.112117     0.000000   \n",
       "Bulk 13                2324.0     1.069707   14.250280     0.000000   \n",
       "Bulk 14                2324.0   153.952668   81.410544     0.000000   \n",
       "Bulk 15                2324.0   120.078313   84.655967     0.000000   \n",
       "Wire 1                 2324.0   102.423900   43.540975     0.000000   \n",
       "Wire 2                 2324.0    17.613213   33.648176     0.000000   \n",
       "Wire 3                 2324.0     3.241876   27.972523     0.000000   \n",
       "Wire 4                 2324.0     0.307209    4.762842     0.000000   \n",
       "Wire 5                 2324.0     0.000000    0.000000     0.000000   \n",
       "Wire 6                 2324.0     0.980926    8.702531     0.000000   \n",
       "Wire 7                 2324.0     0.006374    0.205926     0.000000   \n",
       "Wire 8                 2324.0     0.311981    4.407419     0.000000   \n",
       "Wire 9                 2324.0     0.317795    3.460248     0.000000   \n",
       "\n",
       "                               25%          50%          75%          max  \n",
       "key                     628.750000  1254.500000  1867.250000  2499.000000  \n",
       "Начальная_температура  1571.000000  1587.000000  1603.000000  1660.000000  \n",
       "Конечная_температура   1587.000000  1593.000000  1598.000000  1653.000000  \n",
       "Длительность нагрева    581.000000   778.000000   993.000000  4189.000000  \n",
       "Энергия                 368.304687   508.538758   679.198659  3718.054401  \n",
       "Газ 1                     7.282534    10.100687    14.218487    77.995040  \n",
       "Bulk 1                    0.000000     0.000000     0.000000   185.000000  \n",
       "Bulk 2                    0.000000     0.000000     0.000000   325.000000  \n",
       "Bulk 3                    0.000000     0.000000    80.000000   454.000000  \n",
       "Bulk 4                    0.000000     0.000000    77.250000   281.000000  \n",
       "Bulk 5                    0.000000     0.000000     0.000000   603.000000  \n",
       "Bulk 6                    0.000000     0.000000     0.000000   503.000000  \n",
       "Bulk 7                    0.000000     0.000000     0.000000   772.000000  \n",
       "Bulk 9                    0.000000     0.000000     0.000000   147.000000  \n",
       "Bulk 10                   0.000000     0.000000     0.000000   159.000000  \n",
       "Bulk 11                   0.000000     0.000000     0.000000   313.000000  \n",
       "Bulk 12                 105.000000   206.000000   283.000000  1849.000000  \n",
       "Bulk 13                   0.000000     0.000000     0.000000   305.000000  \n",
       "Bulk 14                 105.000000   149.000000   204.000000   636.000000  \n",
       "Bulk 15                   0.000000   107.000000   204.000000   405.000000  \n",
       "Wire 1                   73.204559   101.103600   128.075222   330.314424  \n",
       "Wire 2                    0.000000     0.000000    23.102560   282.780152  \n",
       "Wire 3                    0.000000     0.000000     0.000000   385.008668  \n",
       "Wire 4                    0.000000     0.000000     0.000000   113.231044  \n",
       "Wire 5                    0.000000     0.000000     0.000000     0.000000  \n",
       "Wire 6                    0.000000     0.000000     0.000000   180.454575  \n",
       "Wire 7                    0.000000     0.000000     0.000000     8.490040  \n",
       "Wire 8                    0.000000     0.000000     0.000000   102.762401  \n",
       "Wire 9                    0.000000     0.000000     0.000000    62.025600  "
      ]
     },
     "execution_count": 58,
     "metadata": {},
     "output_type": "execute_result"
    }
   ],
   "source": [
    "# посмотри описательную статистику\n",
    "data_full.describe().T"
   ]
  },
  {
   "cell_type": "code",
   "execution_count": 59,
   "id": "73dbae33",
   "metadata": {},
   "outputs": [
    {
     "data": {
      "image/png": "[encoded data removed]",
      "text/plain": [
       "<Figure size 640x480 with 1 Axes>"
      ]
     },
     "metadata": {},
     "output_type": "display_data"
    }
   ],
   "source": [
    "# посмотрим распределение признака Температура\n",
    "figsize=(15, 5)\n",
    "data_full['Начальная_температура'].hist(bins=100)\n",
    "data_full['Конечная_температура'].hist(bins=100,)\n",
    "plt.title('График распределения температуры')\n",
    "plt.xlabel(\"Температура\")\n",
    "plt.ylabel(\"Количествово показателеей\")\n",
    "plt.show()"
   ]
  },
  {
   "cell_type": "markdown",
   "id": "1c15da9d",
   "metadata": {},
   "source": [
    "### Проверка на мультиколлинеарность"
   ]
  },
  {
   "cell_type": "code",
   "execution_count": 60,
   "id": "551963e3",
   "metadata": {},
   "outputs": [
    {
     "data": {
      "image/png": "[encoded data removed]",
      "text/plain": [
       "<Figure size 2300x2300 with 1 Axes>"
      ]
     },
     "metadata": {},
     "output_type": "display_data"
    }
   ],
   "source": [
    "plt.figure(figsize=(23, 23))\n",
    "\n",
    "a = sns.heatmap(data_full.corr(),\n",
    "            annot=True,\n",
    "            cmap= 'coolwarm',\n",
    "            cbar=False,\n",
    "            fmt='.2f',\n",
    "            annot_kws={\"fontsize\": 12},\n",
    "            vmin=-1,\n",
    "            vmax=1)\n",
    "a.set_title('Тепловая карта матрицы корреляций', fontsize=20)\n",
    "\n",
    "plt.show()  \n",
    "sns.reset_orig()"
   ]
  },
  {
   "cell_type": "markdown",
   "id": "f1a5797d",
   "metadata": {},
   "source": [
    "- Можем заметить сильную корреляцию следующих признаков - Энергия и длительность нагрева, что вполне логично. \n",
    "- Так же пряма зависимость наблюдается между Wire 8 и Bulk 9, удалим один из признаков. \n",
    "- Факторов сильно коррелирующих с целевым признаком нет.\n",
    "- Так же предлагаю удалить столбец key"
   ]
  },
  {
   "cell_type": "code",
   "execution_count": 61,
   "id": "b921367e",
   "metadata": {},
   "outputs": [],
   "source": [
    "# удаляем признак\n",
    "data_full = data_full.drop('Wire 8', axis=1)\n",
    "data_full = data_full.drop('key', axis=1)"
   ]
  },
  {
   "cell_type": "markdown",
   "id": "ab0ab23d",
   "metadata": {},
   "source": [
    "### Подготовка признаков к обучению"
   ]
  },
  {
   "cell_type": "code",
   "execution_count": 62,
   "id": "f91ad138",
   "metadata": {},
   "outputs": [],
   "source": [
    "# фиксируем random_state\n",
    "RANDOM_STATE = 110923"
   ]
  },
  {
   "cell_type": "code",
   "execution_count": 63,
   "id": "5dc2c5da",
   "metadata": {},
   "outputs": [],
   "source": [
    " # Выделим признаки и целевой показатель\n",
    "features = data_full.drop(columns=['Конечная_температура'], axis = 1)\n",
    "target = data_full['Конечная_температура']"
   ]
  },
  {
   "cell_type": "code",
   "execution_count": 64,
   "id": "4843fc0d",
   "metadata": {},
   "outputs": [
    {
     "name": "stdout",
     "output_type": "stream",
     "text": [
      "Размер обучающей выборки -  (1743, 26) что составляет 75.0 % от исходного\n",
      "Размер тестовой выборки -  (581, 26) что составляет 25.0 %  от исходного\n"
     ]
    }
   ],
   "source": [
    "# Делим данные на обучающую и тестовую выборки\n",
    "features_train, features_test, target_train, target_test = train_test_split(features, target, test_size=0.25, \n",
    "                                                                                  random_state=RANDOM_STATE)\n",
    "print('Размер обучающей выборки - ', features_train.shape, 'что составляет', \n",
    "      round(features_train.shape[0] / data_full.shape[0]*100,2), '% от исходного')\n",
    "print('Размер тестовой выборки - ',  features_test.shape, 'что составляет', \n",
    "      round(features_test.shape[0] / data_full.shape[0]*100,2), '%  от исходного')"
   ]
  },
  {
   "cell_type": "code",
   "execution_count": 65,
   "id": "ae81564e",
   "metadata": {},
   "outputs": [],
   "source": [
    "# Масштабирование признаков\n",
    "# создание и настройка StandardScaler на обучающих данных\n",
    "scaler = StandardScaler()\n",
    "scaler.fit(features_train) \n",
    "\n",
    " # стандартизируем признаки\n",
    "feature_train = scaler.transform(features_train)\n",
    "feature_test= scaler.transform(features_test)"
   ]
  },
  {
   "cell_type": "markdown",
   "id": "d26e7ae4",
   "metadata": {},
   "source": [
    "## Обучение моделей"
   ]
  },
  {
   "cell_type": "markdown",
   "id": "c24c3c5e",
   "metadata": {},
   "source": [
    "###  LightGBM "
   ]
  },
  {
   "cell_type": "code",
   "execution_count": 66,
   "id": "e8ac3fff",
   "metadata": {},
   "outputs": [
    {
     "name": "stdout",
     "output_type": "stream",
     "text": [
      "Fitting 5 folds for each of 10 candidates, totalling 50 fits\n",
      "[LightGBM] [Warning] Auto-choosing row-wise multi-threading, the overhead of testing was 0.000660 seconds.\n",
      "You can set `force_row_wise=true` to remove the overhead.\n",
      "And if memory is not enough, you can set `force_col_wise=true`.\n",
      "[LightGBM] [Info] Total Bins 2213\n",
      "[LightGBM] [Info] Number of data points in the train set: 1743, number of used features: 18\n",
      "[LightGBM] [Info] Start training from score 1593.332186\n",
      "Wall time: 6.39 s\n"
     ]
    }
   ],
   "source": [
    "%%time\n",
    "\n",
    "# построим модель\n",
    "start_l = time.time()\n",
    "model_l = LGBMRegressor(random_state=RANDOM_STATE)\n",
    "parameters_l = {'num_leaves':[x for x in range(5,25)],\n",
    "                'learning_rate': [0.01, 0.05, 0.1]}\n",
    "random_l = RandomizedSearchCV(estimator=model_l,\n",
    "                              param_distributions=parameters_l,\n",
    "                              n_iter=10,  \n",
    "                              scoring='neg_mean_absolute_error',  \n",
    "                              cv=5,  \n",
    "                              verbose=2,\n",
    "                              random_state=RANDOM_STATE,\n",
    "                              n_jobs=-1)\n",
    "random_l.fit(feature_train, target_train)\n",
    "end_l = time.time()\n",
    "t_l=round(end_l-start_l,2)"
   ]
  },
  {
   "cell_type": "code",
   "execution_count": 67,
   "id": "0bb3892e",
   "metadata": {},
   "outputs": [
    {
     "name": "stdout",
     "output_type": "stream",
     "text": [
      "Лучшие параметры LightGBM -  {'num_leaves': 8, 'learning_rate': 0.05}\n",
      "MAE LightGBM -  6.1854\n"
     ]
    }
   ],
   "source": [
    "# параметры, МАЕ\n",
    "print('Лучшие параметры LightGBM - ', random_l.best_params_)\n",
    "print('MAE LightGBM - ',round(random_l.best_score_,4)*(-1))"
   ]
  },
  {
   "cell_type": "markdown",
   "id": "06873ec7",
   "metadata": {},
   "source": [
    "### CatBoostRegressor"
   ]
  },
  {
   "cell_type": "code",
   "execution_count": 68,
   "id": "1b2f32bf",
   "metadata": {},
   "outputs": [
    {
     "name": "stdout",
     "output_type": "stream",
     "text": [
      "Fitting 5 folds for each of 6 candidates, totalling 30 fits\n",
      "0:\tlearn: 10.8771845\ttotal: 139ms\tremaining: 2m 18s\n",
      "1:\tlearn: 10.6705433\ttotal: 143ms\tremaining: 1m 11s\n",
      "2:\tlearn: 10.4718622\ttotal: 148ms\tremaining: 49s\n",
      "3:\tlearn: 10.2989204\ttotal: 152ms\tremaining: 37.8s\n",
      "4:\tlearn: 10.1006732\ttotal: 156ms\tremaining: 31s\n",
      "5:\tlearn: 9.9208942\ttotal: 160ms\tremaining: 26.6s\n",
      "6:\tlearn: 9.7854076\ttotal: 164ms\tremaining: 23.3s\n",
      "7:\tlearn: 9.6696934\ttotal: 168ms\tremaining: 20.8s\n",
      "8:\tlearn: 9.5665728\ttotal: 173ms\tremaining: 19s\n",
      "9:\tlearn: 9.4222627\ttotal: 177ms\tremaining: 17.5s\n",
      "10:\tlearn: 9.3396878\ttotal: 181ms\tremaining: 16.3s\n",
      "11:\tlearn: 9.2613616\ttotal: 185ms\tremaining: 15.2s\n",
      "12:\tlearn: 9.1844147\ttotal: 189ms\tremaining: 14.3s\n",
      "13:\tlearn: 9.0931545\ttotal: 194ms\tremaining: 13.6s\n",
      "14:\tlearn: 9.0143637\ttotal: 198ms\tremaining: 13s\n",
      "15:\tlearn: 8.9521747\ttotal: 202ms\tremaining: 12.5s\n",
      "16:\tlearn: 8.8729084\ttotal: 206ms\tremaining: 11.9s\n",
      "17:\tlearn: 8.8218476\ttotal: 210ms\tremaining: 11.5s\n",
      "18:\tlearn: 8.7702039\ttotal: 214ms\tremaining: 11s\n",
      "19:\tlearn: 8.6955896\ttotal: 218ms\tremaining: 10.7s\n",
      "20:\tlearn: 8.6542256\ttotal: 222ms\tremaining: 10.4s\n",
      "21:\tlearn: 8.6124473\ttotal: 226ms\tremaining: 10.1s\n",
      "22:\tlearn: 8.5470040\ttotal: 230ms\tremaining: 9.78s\n",
      "23:\tlearn: 8.4981319\ttotal: 234ms\tremaining: 9.53s\n",
      "24:\tlearn: 8.4566416\ttotal: 238ms\tremaining: 9.29s\n",
      "25:\tlearn: 8.4081738\ttotal: 243ms\tremaining: 9.09s\n",
      "26:\tlearn: 8.3590828\ttotal: 246ms\tremaining: 8.88s\n",
      "27:\tlearn: 8.3082212\ttotal: 250ms\tremaining: 8.68s\n",
      "28:\tlearn: 8.2791102\ttotal: 255ms\tremaining: 8.52s\n",
      "29:\tlearn: 8.2360687\ttotal: 258ms\tremaining: 8.35s\n",
      "30:\tlearn: 8.2191514\ttotal: 262ms\tremaining: 8.2s\n",
      "31:\tlearn: 8.1905997\ttotal: 266ms\tremaining: 8.05s\n",
      "32:\tlearn: 8.1573887\ttotal: 269ms\tremaining: 7.88s\n",
      "33:\tlearn: 8.1245507\ttotal: 273ms\tremaining: 7.76s\n",
      "34:\tlearn: 8.0909666\ttotal: 277ms\tremaining: 7.65s\n",
      "35:\tlearn: 8.0699391\ttotal: 281ms\tremaining: 7.53s\n",
      "36:\tlearn: 8.0399163\ttotal: 285ms\tremaining: 7.41s\n",
      "37:\tlearn: 8.0192798\ttotal: 289ms\tremaining: 7.31s\n",
      "38:\tlearn: 8.0032434\ttotal: 293ms\tremaining: 7.21s\n",
      "39:\tlearn: 7.9762559\ttotal: 296ms\tremaining: 7.11s\n",
      "40:\tlearn: 7.9605577\ttotal: 300ms\tremaining: 7.01s\n",
      "41:\tlearn: 7.9368573\ttotal: 304ms\tremaining: 6.93s\n",
      "42:\tlearn: 7.9183299\ttotal: 308ms\tremaining: 6.84s\n",
      "43:\tlearn: 7.8972399\ttotal: 312ms\tremaining: 6.77s\n",
      "44:\tlearn: 7.8791701\ttotal: 316ms\tremaining: 6.71s\n",
      "45:\tlearn: 7.8606442\ttotal: 320ms\tremaining: 6.63s\n",
      "46:\tlearn: 7.8512648\ttotal: 324ms\tremaining: 6.57s\n",
      "47:\tlearn: 7.8445159\ttotal: 328ms\tremaining: 6.5s\n",
      "48:\tlearn: 7.8327066\ttotal: 331ms\tremaining: 6.43s\n",
      "49:\tlearn: 7.8116882\ttotal: 336ms\tremaining: 6.38s\n",
      "50:\tlearn: 7.7955166\ttotal: 340ms\tremaining: 6.32s\n",
      "51:\tlearn: 7.7845476\ttotal: 342ms\tremaining: 6.24s\n",
      "52:\tlearn: 7.7727659\ttotal: 346ms\tremaining: 6.18s\n",
      "53:\tlearn: 7.7572804\ttotal: 349ms\tremaining: 6.11s\n",
      "54:\tlearn: 7.7312245\ttotal: 352ms\tremaining: 6.04s\n",
      "55:\tlearn: 7.7130505\ttotal: 355ms\tremaining: 5.98s\n",
      "56:\tlearn: 7.6959779\ttotal: 359ms\tremaining: 5.93s\n",
      "57:\tlearn: 7.6821364\ttotal: 362ms\tremaining: 5.88s\n",
      "58:\tlearn: 7.6738083\ttotal: 367ms\tremaining: 5.85s\n",
      "59:\tlearn: 7.6645198\ttotal: 369ms\tremaining: 5.79s\n",
      "60:\tlearn: 7.6557911\ttotal: 372ms\tremaining: 5.73s\n",
      "61:\tlearn: 7.6480403\ttotal: 380ms\tremaining: 5.75s\n",
      "62:\tlearn: 7.6341994\ttotal: 384ms\tremaining: 5.7s\n",
      "63:\tlearn: 7.6226225\ttotal: 388ms\tremaining: 5.68s\n",
      "64:\tlearn: 7.6132340\ttotal: 392ms\tremaining: 5.64s\n",
      "65:\tlearn: 7.6020025\ttotal: 395ms\tremaining: 5.59s\n",
      "66:\tlearn: 7.5927959\ttotal: 398ms\tremaining: 5.54s\n",
      "67:\tlearn: 7.5768410\ttotal: 400ms\tremaining: 5.49s\n",
      "68:\tlearn: 7.5594418\ttotal: 404ms\tremaining: 5.45s\n",
      "69:\tlearn: 7.5506091\ttotal: 407ms\tremaining: 5.41s\n",
      "70:\tlearn: 7.5422300\ttotal: 411ms\tremaining: 5.38s\n",
      "71:\tlearn: 7.5342208\ttotal: 414ms\tremaining: 5.34s\n",
      "72:\tlearn: 7.5175823\ttotal: 418ms\tremaining: 5.3s\n",
      "73:\tlearn: 7.5106911\ttotal: 421ms\tremaining: 5.27s\n",
      "74:\tlearn: 7.5030445\ttotal: 425ms\tremaining: 5.24s\n",
      "75:\tlearn: 7.4930155\ttotal: 428ms\tremaining: 5.21s\n",
      "76:\tlearn: 7.4830274\ttotal: 432ms\tremaining: 5.18s\n",
      "77:\tlearn: 7.4779098\ttotal: 435ms\tremaining: 5.14s\n",
      "78:\tlearn: 7.4677014\ttotal: 438ms\tremaining: 5.1s\n",
      "79:\tlearn: 7.4623605\ttotal: 441ms\tremaining: 5.07s\n",
      "80:\tlearn: 7.4470218\ttotal: 443ms\tremaining: 5.03s\n",
      "81:\tlearn: 7.4275860\ttotal: 446ms\tremaining: 4.99s\n",
      "82:\tlearn: 7.4153780\ttotal: 450ms\tremaining: 4.97s\n",
      "83:\tlearn: 7.4049025\ttotal: 453ms\tremaining: 4.94s\n",
      "84:\tlearn: 7.3926701\ttotal: 457ms\tremaining: 4.92s\n",
      "85:\tlearn: 7.3798114\ttotal: 460ms\tremaining: 4.89s\n",
      "86:\tlearn: 7.3727026\ttotal: 463ms\tremaining: 4.86s\n",
      "87:\tlearn: 7.3650619\ttotal: 466ms\tremaining: 4.82s\n",
      "88:\tlearn: 7.3531766\ttotal: 469ms\tremaining: 4.8s\n",
      "89:\tlearn: 7.3357754\ttotal: 472ms\tremaining: 4.77s\n",
      "90:\tlearn: 7.3291980\ttotal: 474ms\tremaining: 4.74s\n",
      "91:\tlearn: 7.3253031\ttotal: 479ms\tremaining: 4.72s\n",
      "92:\tlearn: 7.3149176\ttotal: 482ms\tremaining: 4.7s\n",
      "93:\tlearn: 7.2986907\ttotal: 486ms\tremaining: 4.68s\n",
      "94:\tlearn: 7.2944401\ttotal: 489ms\tremaining: 4.66s\n",
      "95:\tlearn: 7.2857329\ttotal: 492ms\tremaining: 4.63s\n",
      "96:\tlearn: 7.2705077\ttotal: 495ms\tremaining: 4.61s\n",
      "97:\tlearn: 7.2576223\ttotal: 498ms\tremaining: 4.59s\n",
      "98:\tlearn: 7.2398243\ttotal: 501ms\tremaining: 4.56s\n",
      "99:\tlearn: 7.2258131\ttotal: 504ms\tremaining: 4.53s\n",
      "100:\tlearn: 7.2119223\ttotal: 508ms\tremaining: 4.52s\n",
      "101:\tlearn: 7.2039217\ttotal: 510ms\tremaining: 4.49s\n",
      "102:\tlearn: 7.1923922\ttotal: 514ms\tremaining: 4.48s\n",
      "103:\tlearn: 7.1874737\ttotal: 517ms\tremaining: 4.46s\n",
      "104:\tlearn: 7.1697943\ttotal: 521ms\tremaining: 4.44s\n",
      "105:\tlearn: 7.1629205\ttotal: 525ms\tremaining: 4.43s\n",
      "106:\tlearn: 7.1540153\ttotal: 528ms\tremaining: 4.41s\n",
      "107:\tlearn: 7.1445362\ttotal: 531ms\tremaining: 4.39s\n",
      "108:\tlearn: 7.1344548\ttotal: 535ms\tremaining: 4.37s\n",
      "109:\tlearn: 7.1247769\ttotal: 538ms\tremaining: 4.36s\n",
      "110:\tlearn: 7.1172367\ttotal: 541ms\tremaining: 4.33s\n",
      "111:\tlearn: 7.1102278\ttotal: 545ms\tremaining: 4.32s\n",
      "112:\tlearn: 7.0987253\ttotal: 548ms\tremaining: 4.3s\n",
      "113:\tlearn: 7.0926732\ttotal: 552ms\tremaining: 4.29s\n",
      "114:\tlearn: 7.0902843\ttotal: 554ms\tremaining: 4.26s\n",
      "115:\tlearn: 7.0859642\ttotal: 556ms\tremaining: 4.24s\n",
      "116:\tlearn: 7.0803498\ttotal: 559ms\tremaining: 4.22s\n",
      "117:\tlearn: 7.0703811\ttotal: 563ms\tremaining: 4.21s\n",
      "118:\tlearn: 7.0603524\ttotal: 565ms\tremaining: 4.18s\n",
      "119:\tlearn: 7.0542861\ttotal: 567ms\tremaining: 4.16s\n",
      "120:\tlearn: 7.0433163\ttotal: 570ms\tremaining: 4.14s\n",
      "121:\tlearn: 7.0385887\ttotal: 574ms\tremaining: 4.13s\n",
      "122:\tlearn: 7.0261519\ttotal: 577ms\tremaining: 4.11s\n",
      "123:\tlearn: 7.0120385\ttotal: 581ms\tremaining: 4.1s\n",
      "124:\tlearn: 7.0054526\ttotal: 583ms\tremaining: 4.08s\n",
      "125:\tlearn: 6.9943063\ttotal: 585ms\tremaining: 4.06s\n",
      "126:\tlearn: 6.9909449\ttotal: 589ms\tremaining: 4.05s\n",
      "127:\tlearn: 6.9857230\ttotal: 594ms\tremaining: 4.04s\n",
      "128:\tlearn: 6.9818631\ttotal: 596ms\tremaining: 4.03s\n",
      "129:\tlearn: 6.9698029\ttotal: 599ms\tremaining: 4.01s\n",
      "130:\tlearn: 6.9615297\ttotal: 603ms\tremaining: 4s\n",
      "131:\tlearn: 6.9557277\ttotal: 606ms\tremaining: 3.98s\n",
      "132:\tlearn: 6.9513576\ttotal: 609ms\tremaining: 3.97s\n",
      "133:\tlearn: 6.9424759\ttotal: 612ms\tremaining: 3.96s\n",
      "134:\tlearn: 6.9310812\ttotal: 616ms\tremaining: 3.95s\n",
      "135:\tlearn: 6.9244443\ttotal: 619ms\tremaining: 3.93s\n",
      "136:\tlearn: 6.9136577\ttotal: 622ms\tremaining: 3.92s\n",
      "137:\tlearn: 6.9105333\ttotal: 625ms\tremaining: 3.9s\n",
      "138:\tlearn: 6.9034571\ttotal: 629ms\tremaining: 3.89s\n",
      "139:\tlearn: 6.8930043\ttotal: 633ms\tremaining: 3.89s\n",
      "140:\tlearn: 6.8812671\ttotal: 636ms\tremaining: 3.88s\n",
      "141:\tlearn: 6.8711911\ttotal: 639ms\tremaining: 3.86s\n",
      "142:\tlearn: 6.8669645\ttotal: 642ms\tremaining: 3.85s\n",
      "143:\tlearn: 6.8613473\ttotal: 646ms\tremaining: 3.84s\n",
      "144:\tlearn: 6.8527200\ttotal: 649ms\tremaining: 3.83s\n",
      "145:\tlearn: 6.8438081\ttotal: 652ms\tremaining: 3.81s\n",
      "146:\tlearn: 6.8418637\ttotal: 655ms\tremaining: 3.8s\n",
      "147:\tlearn: 6.8323987\ttotal: 658ms\tremaining: 3.79s\n",
      "148:\tlearn: 6.8284105\ttotal: 662ms\tremaining: 3.78s\n",
      "149:\tlearn: 6.8164141\ttotal: 665ms\tremaining: 3.77s\n",
      "150:\tlearn: 6.8059765\ttotal: 669ms\tremaining: 3.76s\n",
      "151:\tlearn: 6.7971625\ttotal: 672ms\tremaining: 3.75s\n",
      "152:\tlearn: 6.7934516\ttotal: 675ms\tremaining: 3.74s\n",
      "153:\tlearn: 6.7870026\ttotal: 678ms\tremaining: 3.73s\n",
      "154:\tlearn: 6.7769420\ttotal: 682ms\tremaining: 3.72s\n",
      "155:\tlearn: 6.7720817\ttotal: 685ms\tremaining: 3.71s\n",
      "156:\tlearn: 6.7609984\ttotal: 688ms\tremaining: 3.69s\n",
      "157:\tlearn: 6.7510665\ttotal: 693ms\tremaining: 3.69s\n",
      "158:\tlearn: 6.7402028\ttotal: 696ms\tremaining: 3.68s\n",
      "159:\tlearn: 6.7287355\ttotal: 700ms\tremaining: 3.67s\n",
      "160:\tlearn: 6.7192199\ttotal: 704ms\tremaining: 3.67s\n",
      "161:\tlearn: 6.7118792\ttotal: 707ms\tremaining: 3.66s\n",
      "162:\tlearn: 6.7021085\ttotal: 710ms\tremaining: 3.65s\n",
      "163:\tlearn: 6.6967637\ttotal: 714ms\tremaining: 3.64s\n",
      "164:\tlearn: 6.6918812\ttotal: 718ms\tremaining: 3.63s\n",
      "165:\tlearn: 6.6871761\ttotal: 723ms\tremaining: 3.63s\n",
      "166:\tlearn: 6.6806146\ttotal: 727ms\tremaining: 3.62s\n",
      "167:\tlearn: 6.6735601\ttotal: 730ms\tremaining: 3.61s\n",
      "168:\tlearn: 6.6693413\ttotal: 733ms\tremaining: 3.6s\n",
      "169:\tlearn: 6.6646511\ttotal: 737ms\tremaining: 3.6s\n",
      "170:\tlearn: 6.6570727\ttotal: 739ms\tremaining: 3.58s\n",
      "171:\tlearn: 6.6501616\ttotal: 742ms\tremaining: 3.57s\n",
      "172:\tlearn: 6.6468695\ttotal: 746ms\tremaining: 3.57s\n",
      "173:\tlearn: 6.6437081\ttotal: 748ms\tremaining: 3.55s\n",
      "174:\tlearn: 6.6390043\ttotal: 751ms\tremaining: 3.54s\n",
      "175:\tlearn: 6.6356963\ttotal: 754ms\tremaining: 3.53s\n",
      "176:\tlearn: 6.6268377\ttotal: 757ms\tremaining: 3.52s\n",
      "177:\tlearn: 6.6193508\ttotal: 760ms\tremaining: 3.51s\n",
      "178:\tlearn: 6.6117042\ttotal: 763ms\tremaining: 3.5s\n",
      "179:\tlearn: 6.6083747\ttotal: 768ms\tremaining: 3.5s\n",
      "180:\tlearn: 6.6052607\ttotal: 772ms\tremaining: 3.49s\n",
      "181:\tlearn: 6.6016713\ttotal: 776ms\tremaining: 3.48s\n",
      "182:\tlearn: 6.5950240\ttotal: 779ms\tremaining: 3.48s\n",
      "183:\tlearn: 6.5797327\ttotal: 782ms\tremaining: 3.47s\n",
      "184:\tlearn: 6.5735954\ttotal: 786ms\tremaining: 3.46s\n",
      "185:\tlearn: 6.5631089\ttotal: 790ms\tremaining: 3.46s\n",
      "186:\tlearn: 6.5608609\ttotal: 794ms\tremaining: 3.45s\n",
      "187:\tlearn: 6.5572554\ttotal: 798ms\tremaining: 3.45s\n",
      "188:\tlearn: 6.5512069\ttotal: 802ms\tremaining: 3.44s\n",
      "189:\tlearn: 6.5479938\ttotal: 806ms\tremaining: 3.44s\n",
      "190:\tlearn: 6.5425532\ttotal: 809ms\tremaining: 3.43s\n",
      "191:\tlearn: 6.5390461\ttotal: 813ms\tremaining: 3.42s\n",
      "192:\tlearn: 6.5308560\ttotal: 817ms\tremaining: 3.42s\n",
      "193:\tlearn: 6.5278851\ttotal: 821ms\tremaining: 3.41s\n",
      "194:\tlearn: 6.5216469\ttotal: 824ms\tremaining: 3.4s\n",
      "195:\tlearn: 6.5142784\ttotal: 828ms\tremaining: 3.4s\n",
      "196:\tlearn: 6.5082730\ttotal: 832ms\tremaining: 3.39s\n",
      "197:\tlearn: 6.5003122\ttotal: 836ms\tremaining: 3.38s\n",
      "198:\tlearn: 6.4992174\ttotal: 840ms\tremaining: 3.38s\n",
      "199:\tlearn: 6.4919396\ttotal: 844ms\tremaining: 3.37s\n",
      "200:\tlearn: 6.4885227\ttotal: 848ms\tremaining: 3.37s\n",
      "201:\tlearn: 6.4838391\ttotal: 852ms\tremaining: 3.37s\n",
      "202:\tlearn: 6.4791650\ttotal: 856ms\tremaining: 3.36s\n",
      "203:\tlearn: 6.4772789\ttotal: 861ms\tremaining: 3.36s\n",
      "204:\tlearn: 6.4682610\ttotal: 864ms\tremaining: 3.35s\n",
      "205:\tlearn: 6.4637139\ttotal: 869ms\tremaining: 3.35s\n",
      "206:\tlearn: 6.4557055\ttotal: 873ms\tremaining: 3.35s\n",
      "207:\tlearn: 6.4544838\ttotal: 877ms\tremaining: 3.34s\n",
      "208:\tlearn: 6.4488583\ttotal: 881ms\tremaining: 3.33s\n",
      "209:\tlearn: 6.4476283\ttotal: 885ms\tremaining: 3.33s\n",
      "210:\tlearn: 6.4436507\ttotal: 889ms\tremaining: 3.33s\n",
      "211:\tlearn: 6.4411204\ttotal: 893ms\tremaining: 3.32s\n",
      "212:\tlearn: 6.4387211\ttotal: 896ms\tremaining: 3.31s\n",
      "213:\tlearn: 6.4353226\ttotal: 901ms\tremaining: 3.31s\n",
      "214:\tlearn: 6.4244146\ttotal: 905ms\tremaining: 3.3s\n",
      "215:\tlearn: 6.4225755\ttotal: 908ms\tremaining: 3.3s\n",
      "216:\tlearn: 6.4178574\ttotal: 912ms\tremaining: 3.29s\n",
      "217:\tlearn: 6.4118772\ttotal: 917ms\tremaining: 3.29s\n",
      "218:\tlearn: 6.4063444\ttotal: 922ms\tremaining: 3.29s\n",
      "219:\tlearn: 6.4020206\ttotal: 927ms\tremaining: 3.29s\n",
      "220:\tlearn: 6.4000077\ttotal: 932ms\tremaining: 3.29s\n",
      "221:\tlearn: 6.3982559\ttotal: 936ms\tremaining: 3.28s\n",
      "222:\tlearn: 6.3958008\ttotal: 941ms\tremaining: 3.28s\n",
      "223:\tlearn: 6.3890483\ttotal: 945ms\tremaining: 3.27s\n",
      "224:\tlearn: 6.3879986\ttotal: 949ms\tremaining: 3.27s\n",
      "225:\tlearn: 6.3809407\ttotal: 953ms\tremaining: 3.26s\n",
      "226:\tlearn: 6.3758610\ttotal: 957ms\tremaining: 3.26s\n",
      "227:\tlearn: 6.3689598\ttotal: 961ms\tremaining: 3.25s\n",
      "228:\tlearn: 6.3659944\ttotal: 965ms\tremaining: 3.25s\n",
      "229:\tlearn: 6.3582040\ttotal: 968ms\tremaining: 3.24s\n",
      "230:\tlearn: 6.3511753\ttotal: 973ms\tremaining: 3.24s\n",
      "231:\tlearn: 6.3484034\ttotal: 976ms\tremaining: 3.23s\n",
      "232:\tlearn: 6.3441811\ttotal: 980ms\tremaining: 3.23s\n",
      "233:\tlearn: 6.3357554\ttotal: 984ms\tremaining: 3.22s\n",
      "234:\tlearn: 6.3299237\ttotal: 988ms\tremaining: 3.21s\n",
      "235:\tlearn: 6.3187085\ttotal: 992ms\tremaining: 3.21s\n",
      "236:\tlearn: 6.3109854\ttotal: 995ms\tremaining: 3.2s\n",
      "237:\tlearn: 6.3075933\ttotal: 999ms\tremaining: 3.2s\n",
      "238:\tlearn: 6.3042605\ttotal: 1s\tremaining: 3.19s\n",
      "239:\tlearn: 6.3030119\ttotal: 1.01s\tremaining: 3.19s\n",
      "240:\tlearn: 6.2982799\ttotal: 1.01s\tremaining: 3.18s\n",
      "241:\tlearn: 6.2889209\ttotal: 1.01s\tremaining: 3.18s\n",
      "242:\tlearn: 6.2787884\ttotal: 1.02s\tremaining: 3.17s\n",
      "243:\tlearn: 6.2732924\ttotal: 1.02s\tremaining: 3.17s\n",
      "244:\tlearn: 6.2692826\ttotal: 1.03s\tremaining: 3.16s\n",
      "245:\tlearn: 6.2685732\ttotal: 1.03s\tremaining: 3.16s\n",
      "246:\tlearn: 6.2628656\ttotal: 1.03s\tremaining: 3.15s\n",
      "247:\tlearn: 6.2576494\ttotal: 1.04s\tremaining: 3.15s\n",
      "248:\tlearn: 6.2495865\ttotal: 1.04s\tremaining: 3.14s\n",
      "249:\tlearn: 6.2484097\ttotal: 1.04s\tremaining: 3.14s\n",
      "250:\tlearn: 6.2420364\ttotal: 1.05s\tremaining: 3.13s\n",
      "251:\tlearn: 6.2396360\ttotal: 1.05s\tremaining: 3.12s\n",
      "252:\tlearn: 6.2313891\ttotal: 1.06s\tremaining: 3.12s\n",
      "253:\tlearn: 6.2243257\ttotal: 1.06s\tremaining: 3.11s\n",
      "254:\tlearn: 6.2192798\ttotal: 1.06s\tremaining: 3.11s\n",
      "255:\tlearn: 6.2135811\ttotal: 1.07s\tremaining: 3.1s\n",
      "256:\tlearn: 6.2071952\ttotal: 1.07s\tremaining: 3.1s\n",
      "257:\tlearn: 6.2013693\ttotal: 1.08s\tremaining: 3.1s\n",
      "258:\tlearn: 6.1931424\ttotal: 1.08s\tremaining: 3.09s\n",
      "259:\tlearn: 6.1890366\ttotal: 1.08s\tremaining: 3.08s\n",
      "260:\tlearn: 6.1880214\ttotal: 1.09s\tremaining: 3.08s\n",
      "261:\tlearn: 6.1776074\ttotal: 1.09s\tremaining: 3.07s\n",
      "262:\tlearn: 6.1710269\ttotal: 1.1s\tremaining: 3.07s\n",
      "263:\tlearn: 6.1684947\ttotal: 1.1s\tremaining: 3.07s\n",
      "264:\tlearn: 6.1677353\ttotal: 1.1s\tremaining: 3.06s\n",
      "265:\tlearn: 6.1629021\ttotal: 1.11s\tremaining: 3.06s\n",
      "266:\tlearn: 6.1583437\ttotal: 1.11s\tremaining: 3.05s\n",
      "267:\tlearn: 6.1563947\ttotal: 1.12s\tremaining: 3.05s\n",
      "268:\tlearn: 6.1493287\ttotal: 1.12s\tremaining: 3.05s\n",
      "269:\tlearn: 6.1474190\ttotal: 1.13s\tremaining: 3.04s\n",
      "270:\tlearn: 6.1354233\ttotal: 1.13s\tremaining: 3.04s\n",
      "271:\tlearn: 6.1240790\ttotal: 1.13s\tremaining: 3.03s\n",
      "272:\tlearn: 6.1218816\ttotal: 1.14s\tremaining: 3.03s\n",
      "273:\tlearn: 6.1156773\ttotal: 1.14s\tremaining: 3.02s\n",
      "274:\tlearn: 6.1149065\ttotal: 1.14s\tremaining: 3.02s\n",
      "275:\tlearn: 6.1140599\ttotal: 1.15s\tremaining: 3.01s\n",
      "276:\tlearn: 6.1107833\ttotal: 1.15s\tremaining: 3.01s\n",
      "277:\tlearn: 6.1055336\ttotal: 1.16s\tremaining: 3s\n",
      "278:\tlearn: 6.0965003\ttotal: 1.16s\tremaining: 3s\n",
      "279:\tlearn: 6.0955119\ttotal: 1.16s\tremaining: 3s\n",
      "280:\tlearn: 6.0884762\ttotal: 1.17s\tremaining: 2.99s\n",
      "281:\tlearn: 6.0785707\ttotal: 1.17s\tremaining: 2.99s\n",
      "282:\tlearn: 6.0735053\ttotal: 1.18s\tremaining: 2.98s\n",
      "283:\tlearn: 6.0683020\ttotal: 1.18s\tremaining: 2.98s\n",
      "284:\tlearn: 6.0626011\ttotal: 1.18s\tremaining: 2.97s\n",
      "285:\tlearn: 6.0559513\ttotal: 1.19s\tremaining: 2.97s\n",
      "286:\tlearn: 6.0459830\ttotal: 1.19s\tremaining: 2.96s\n",
      "287:\tlearn: 6.0372681\ttotal: 1.2s\tremaining: 2.96s\n",
      "288:\tlearn: 6.0279938\ttotal: 1.2s\tremaining: 2.95s\n",
      "289:\tlearn: 6.0211839\ttotal: 1.2s\tremaining: 2.95s\n",
      "290:\tlearn: 6.0206262\ttotal: 1.21s\tremaining: 2.94s\n",
      "291:\tlearn: 6.0199048\ttotal: 1.21s\tremaining: 2.94s\n",
      "292:\tlearn: 6.0180652\ttotal: 1.21s\tremaining: 2.93s\n",
      "293:\tlearn: 6.0123576\ttotal: 1.22s\tremaining: 2.93s\n",
      "294:\tlearn: 6.0111987\ttotal: 1.22s\tremaining: 2.92s\n",
      "295:\tlearn: 6.0020594\ttotal: 1.23s\tremaining: 2.92s\n",
      "296:\tlearn: 6.0005406\ttotal: 1.23s\tremaining: 2.91s\n",
      "297:\tlearn: 5.9931017\ttotal: 1.23s\tremaining: 2.91s\n",
      "298:\tlearn: 5.9898405\ttotal: 1.24s\tremaining: 2.9s\n",
      "299:\tlearn: 5.9837473\ttotal: 1.24s\tremaining: 2.9s\n",
      "300:\tlearn: 5.9790156\ttotal: 1.25s\tremaining: 2.89s\n",
      "301:\tlearn: 5.9784701\ttotal: 1.25s\tremaining: 2.88s\n",
      "302:\tlearn: 5.9774601\ttotal: 1.25s\tremaining: 2.88s\n",
      "303:\tlearn: 5.9677939\ttotal: 1.26s\tremaining: 2.88s\n",
      "304:\tlearn: 5.9667885\ttotal: 1.26s\tremaining: 2.87s\n",
      "305:\tlearn: 5.9606409\ttotal: 1.26s\tremaining: 2.87s\n",
      "306:\tlearn: 5.9532872\ttotal: 1.27s\tremaining: 2.86s\n",
      "307:\tlearn: 5.9515558\ttotal: 1.27s\tremaining: 2.86s\n",
      "308:\tlearn: 5.9454382\ttotal: 1.28s\tremaining: 2.85s\n",
      "309:\tlearn: 5.9393975\ttotal: 1.28s\tremaining: 2.85s\n",
      "310:\tlearn: 5.9311110\ttotal: 1.28s\tremaining: 2.85s\n",
      "311:\tlearn: 5.9282042\ttotal: 1.29s\tremaining: 2.84s\n",
      "312:\tlearn: 5.9224085\ttotal: 1.29s\tremaining: 2.84s\n",
      "313:\tlearn: 5.9161666\ttotal: 1.3s\tremaining: 2.83s\n",
      "314:\tlearn: 5.9087012\ttotal: 1.3s\tremaining: 2.83s\n",
      "315:\tlearn: 5.9020705\ttotal: 1.31s\tremaining: 2.83s\n",
      "316:\tlearn: 5.8950153\ttotal: 1.31s\tremaining: 2.83s\n",
      "317:\tlearn: 5.8907169\ttotal: 1.32s\tremaining: 2.83s\n",
      "318:\tlearn: 5.8836829\ttotal: 1.32s\tremaining: 2.82s\n",
      "319:\tlearn: 5.8832457\ttotal: 1.33s\tremaining: 2.82s\n",
      "320:\tlearn: 5.8797847\ttotal: 1.33s\tremaining: 2.82s\n",
      "321:\tlearn: 5.8753390\ttotal: 1.34s\tremaining: 2.82s\n",
      "322:\tlearn: 5.8710428\ttotal: 1.34s\tremaining: 2.81s\n",
      "323:\tlearn: 5.8706347\ttotal: 1.35s\tremaining: 2.81s\n",
      "324:\tlearn: 5.8670874\ttotal: 1.35s\tremaining: 2.81s\n",
      "325:\tlearn: 5.8597832\ttotal: 1.35s\tremaining: 2.8s\n",
      "326:\tlearn: 5.8511848\ttotal: 1.36s\tremaining: 2.8s\n",
      "327:\tlearn: 5.8480727\ttotal: 1.36s\tremaining: 2.79s\n",
      "328:\tlearn: 5.8370367\ttotal: 1.37s\tremaining: 2.79s\n",
      "329:\tlearn: 5.8286575\ttotal: 1.37s\tremaining: 2.78s\n",
      "330:\tlearn: 5.8178791\ttotal: 1.37s\tremaining: 2.78s\n",
      "331:\tlearn: 5.8111214\ttotal: 1.38s\tremaining: 2.77s\n",
      "332:\tlearn: 5.8084377\ttotal: 1.38s\tremaining: 2.77s\n",
      "333:\tlearn: 5.8026009\ttotal: 1.39s\tremaining: 2.76s\n",
      "334:\tlearn: 5.7976540\ttotal: 1.39s\tremaining: 2.76s\n",
      "335:\tlearn: 5.7900549\ttotal: 1.39s\tremaining: 2.75s\n",
      "336:\tlearn: 5.7877402\ttotal: 1.4s\tremaining: 2.75s\n",
      "337:\tlearn: 5.7809660\ttotal: 1.4s\tremaining: 2.75s\n",
      "338:\tlearn: 5.7743111\ttotal: 1.41s\tremaining: 2.74s\n",
      "339:\tlearn: 5.7739720\ttotal: 1.41s\tremaining: 2.74s\n",
      "340:\tlearn: 5.7710565\ttotal: 1.41s\tremaining: 2.73s\n",
      "341:\tlearn: 5.7705102\ttotal: 1.42s\tremaining: 2.73s\n",
      "342:\tlearn: 5.7672197\ttotal: 1.42s\tremaining: 2.73s\n",
      "343:\tlearn: 5.7622982\ttotal: 1.43s\tremaining: 2.72s\n",
      "344:\tlearn: 5.7585733\ttotal: 1.43s\tremaining: 2.72s\n",
      "345:\tlearn: 5.7563877\ttotal: 1.44s\tremaining: 2.71s\n",
      "346:\tlearn: 5.7479824\ttotal: 1.44s\tremaining: 2.71s\n",
      "347:\tlearn: 5.7470172\ttotal: 1.44s\tremaining: 2.71s\n",
      "348:\tlearn: 5.7454879\ttotal: 1.45s\tremaining: 2.7s\n",
      "349:\tlearn: 5.7342827\ttotal: 1.45s\tremaining: 2.7s\n",
      "350:\tlearn: 5.7284205\ttotal: 1.46s\tremaining: 2.69s\n",
      "351:\tlearn: 5.7280610\ttotal: 1.46s\tremaining: 2.69s\n",
      "352:\tlearn: 5.7224448\ttotal: 1.47s\tremaining: 2.69s\n",
      "353:\tlearn: 5.7194283\ttotal: 1.47s\tremaining: 2.68s\n",
      "354:\tlearn: 5.7158212\ttotal: 1.47s\tremaining: 2.68s\n",
      "355:\tlearn: 5.7133828\ttotal: 1.48s\tremaining: 2.67s\n",
      "356:\tlearn: 5.7127329\ttotal: 1.48s\tremaining: 2.67s\n",
      "357:\tlearn: 5.7091872\ttotal: 1.49s\tremaining: 2.67s\n",
      "358:\tlearn: 5.7035334\ttotal: 1.49s\tremaining: 2.66s\n",
      "359:\tlearn: 5.7032158\ttotal: 1.5s\tremaining: 2.66s\n",
      "360:\tlearn: 5.6964691\ttotal: 1.5s\tremaining: 2.65s\n",
      "361:\tlearn: 5.6937669\ttotal: 1.5s\tremaining: 2.65s\n",
      "362:\tlearn: 5.6864330\ttotal: 1.51s\tremaining: 2.64s\n",
      "363:\tlearn: 5.6841647\ttotal: 1.51s\tremaining: 2.64s\n",
      "364:\tlearn: 5.6795172\ttotal: 1.52s\tremaining: 2.64s\n",
      "365:\tlearn: 5.6755775\ttotal: 1.52s\tremaining: 2.63s\n",
      "366:\tlearn: 5.6693531\ttotal: 1.52s\tremaining: 2.63s\n",
      "367:\tlearn: 5.6690391\ttotal: 1.53s\tremaining: 2.62s\n",
      "368:\tlearn: 5.6666198\ttotal: 1.53s\tremaining: 2.62s\n",
      "369:\tlearn: 5.6620412\ttotal: 1.53s\tremaining: 2.61s\n",
      "370:\tlearn: 5.6600170\ttotal: 1.54s\tremaining: 2.61s\n",
      "371:\tlearn: 5.6536424\ttotal: 1.54s\tremaining: 2.6s\n",
      "372:\tlearn: 5.6474786\ttotal: 1.55s\tremaining: 2.6s\n",
      "373:\tlearn: 5.6446939\ttotal: 1.55s\tremaining: 2.6s\n",
      "374:\tlearn: 5.6397317\ttotal: 1.55s\tremaining: 2.59s\n",
      "375:\tlearn: 5.6372400\ttotal: 1.56s\tremaining: 2.59s\n",
      "376:\tlearn: 5.6275957\ttotal: 1.56s\tremaining: 2.58s\n",
      "377:\tlearn: 5.6215653\ttotal: 1.57s\tremaining: 2.58s\n",
      "378:\tlearn: 5.6135298\ttotal: 1.57s\tremaining: 2.58s\n",
      "379:\tlearn: 5.6083769\ttotal: 1.58s\tremaining: 2.57s\n",
      "380:\tlearn: 5.6020650\ttotal: 1.58s\tremaining: 2.57s\n",
      "381:\tlearn: 5.5974652\ttotal: 1.58s\tremaining: 2.56s\n",
      "382:\tlearn: 5.5939599\ttotal: 1.59s\tremaining: 2.56s\n",
      "383:\tlearn: 5.5905054\ttotal: 1.59s\tremaining: 2.56s\n",
      "384:\tlearn: 5.5867965\ttotal: 1.6s\tremaining: 2.55s\n",
      "385:\tlearn: 5.5804038\ttotal: 1.6s\tremaining: 2.55s\n",
      "386:\tlearn: 5.5759503\ttotal: 1.61s\tremaining: 2.54s\n",
      "387:\tlearn: 5.5704576\ttotal: 1.61s\tremaining: 2.54s\n",
      "388:\tlearn: 5.5701193\ttotal: 1.61s\tremaining: 2.54s\n",
      "389:\tlearn: 5.5646354\ttotal: 1.62s\tremaining: 2.53s\n",
      "390:\tlearn: 5.5631238\ttotal: 1.62s\tremaining: 2.53s\n",
      "391:\tlearn: 5.5582904\ttotal: 1.63s\tremaining: 2.52s\n",
      "392:\tlearn: 5.5519786\ttotal: 1.63s\tremaining: 2.52s\n",
      "393:\tlearn: 5.5494959\ttotal: 1.63s\tremaining: 2.51s\n",
      "394:\tlearn: 5.5435465\ttotal: 1.64s\tremaining: 2.51s\n",
      "395:\tlearn: 5.5381696\ttotal: 1.64s\tremaining: 2.5s\n",
      "396:\tlearn: 5.5346295\ttotal: 1.65s\tremaining: 2.5s\n",
      "397:\tlearn: 5.5319584\ttotal: 1.65s\tremaining: 2.5s\n",
      "398:\tlearn: 5.5261558\ttotal: 1.65s\tremaining: 2.49s\n",
      "399:\tlearn: 5.5227674\ttotal: 1.66s\tremaining: 2.49s\n",
      "400:\tlearn: 5.5202044\ttotal: 1.66s\tremaining: 2.48s\n",
      "401:\tlearn: 5.5146590\ttotal: 1.67s\tremaining: 2.48s\n",
      "402:\tlearn: 5.5141079\ttotal: 1.67s\tremaining: 2.47s\n",
      "403:\tlearn: 5.5085227\ttotal: 1.67s\tremaining: 2.47s\n",
      "404:\tlearn: 5.5028216\ttotal: 1.68s\tremaining: 2.46s\n",
      "405:\tlearn: 5.4973307\ttotal: 1.68s\tremaining: 2.46s\n",
      "406:\tlearn: 5.4946621\ttotal: 1.68s\tremaining: 2.45s\n",
      "407:\tlearn: 5.4943797\ttotal: 1.69s\tremaining: 2.45s\n",
      "408:\tlearn: 5.4938733\ttotal: 1.69s\tremaining: 2.45s\n",
      "409:\tlearn: 5.4841016\ttotal: 1.7s\tremaining: 2.44s\n",
      "410:\tlearn: 5.4798904\ttotal: 1.7s\tremaining: 2.44s\n",
      "411:\tlearn: 5.4751168\ttotal: 1.71s\tremaining: 2.44s\n",
      "412:\tlearn: 5.4709682\ttotal: 1.71s\tremaining: 2.43s\n",
      "413:\tlearn: 5.4670389\ttotal: 1.71s\tremaining: 2.43s\n",
      "414:\tlearn: 5.4612144\ttotal: 1.72s\tremaining: 2.42s\n",
      "415:\tlearn: 5.4563455\ttotal: 1.72s\tremaining: 2.42s\n",
      "416:\tlearn: 5.4524771\ttotal: 1.73s\tremaining: 2.41s\n",
      "417:\tlearn: 5.4479683\ttotal: 1.73s\tremaining: 2.41s\n",
      "418:\tlearn: 5.4477117\ttotal: 1.73s\tremaining: 2.4s\n",
      "419:\tlearn: 5.4445940\ttotal: 1.74s\tremaining: 2.4s\n",
      "420:\tlearn: 5.4397109\ttotal: 1.74s\tremaining: 2.39s\n",
      "421:\tlearn: 5.4305581\ttotal: 1.75s\tremaining: 2.39s\n",
      "422:\tlearn: 5.4290501\ttotal: 1.75s\tremaining: 2.38s\n",
      "423:\tlearn: 5.4265008\ttotal: 1.75s\tremaining: 2.38s\n",
      "424:\tlearn: 5.4183025\ttotal: 1.76s\tremaining: 2.38s\n",
      "425:\tlearn: 5.4178824\ttotal: 1.76s\tremaining: 2.37s\n",
      "426:\tlearn: 5.4114992\ttotal: 1.76s\tremaining: 2.37s\n",
      "427:\tlearn: 5.4076067\ttotal: 1.77s\tremaining: 2.36s\n",
      "428:\tlearn: 5.4071723\ttotal: 1.77s\tremaining: 2.36s\n",
      "429:\tlearn: 5.3999447\ttotal: 1.77s\tremaining: 2.35s\n",
      "430:\tlearn: 5.3980001\ttotal: 1.78s\tremaining: 2.35s\n",
      "431:\tlearn: 5.3946462\ttotal: 1.78s\tremaining: 2.34s\n",
      "432:\tlearn: 5.3893394\ttotal: 1.79s\tremaining: 2.34s\n",
      "433:\tlearn: 5.3869989\ttotal: 1.79s\tremaining: 2.33s\n",
      "434:\tlearn: 5.3741226\ttotal: 1.79s\tremaining: 2.33s\n",
      "435:\tlearn: 5.3671162\ttotal: 1.8s\tremaining: 2.33s\n",
      "436:\tlearn: 5.3654478\ttotal: 1.8s\tremaining: 2.32s\n",
      "437:\tlearn: 5.3557303\ttotal: 1.81s\tremaining: 2.32s\n",
      "438:\tlearn: 5.3513954\ttotal: 1.81s\tremaining: 2.31s\n",
      "439:\tlearn: 5.3460301\ttotal: 1.81s\tremaining: 2.31s\n",
      "440:\tlearn: 5.3403760\ttotal: 1.82s\tremaining: 2.3s\n",
      "441:\tlearn: 5.3381364\ttotal: 1.82s\tremaining: 2.3s\n",
      "442:\tlearn: 5.3343952\ttotal: 1.83s\tremaining: 2.29s\n",
      "443:\tlearn: 5.3276768\ttotal: 1.83s\tremaining: 2.29s\n",
      "444:\tlearn: 5.3264707\ttotal: 1.83s\tremaining: 2.29s\n",
      "445:\tlearn: 5.3231260\ttotal: 1.84s\tremaining: 2.28s\n",
      "446:\tlearn: 5.3179409\ttotal: 1.84s\tremaining: 2.28s\n",
      "447:\tlearn: 5.3164076\ttotal: 1.85s\tremaining: 2.28s\n",
      "448:\tlearn: 5.3135239\ttotal: 1.85s\tremaining: 2.27s\n",
      "449:\tlearn: 5.3065628\ttotal: 1.85s\tremaining: 2.27s\n",
      "450:\tlearn: 5.3035337\ttotal: 1.86s\tremaining: 2.26s\n",
      "451:\tlearn: 5.2981735\ttotal: 1.86s\tremaining: 2.26s\n",
      "452:\tlearn: 5.2904251\ttotal: 1.87s\tremaining: 2.25s\n",
      "453:\tlearn: 5.2862101\ttotal: 1.87s\tremaining: 2.25s\n",
      "454:\tlearn: 5.2769118\ttotal: 1.87s\tremaining: 2.25s\n",
      "455:\tlearn: 5.2731771\ttotal: 1.88s\tremaining: 2.24s\n",
      "456:\tlearn: 5.2693596\ttotal: 1.88s\tremaining: 2.24s\n",
      "457:\tlearn: 5.2601442\ttotal: 1.89s\tremaining: 2.23s\n",
      "458:\tlearn: 5.2598093\ttotal: 1.89s\tremaining: 2.23s\n",
      "459:\tlearn: 5.2542624\ttotal: 1.9s\tremaining: 2.23s\n",
      "460:\tlearn: 5.2538482\ttotal: 1.9s\tremaining: 2.22s\n",
      "461:\tlearn: 5.2478321\ttotal: 1.9s\tremaining: 2.22s\n",
      "462:\tlearn: 5.2474341\ttotal: 1.91s\tremaining: 2.21s\n",
      "463:\tlearn: 5.2469134\ttotal: 1.91s\tremaining: 2.21s\n",
      "464:\tlearn: 5.2369843\ttotal: 1.92s\tremaining: 2.2s\n",
      "465:\tlearn: 5.2362760\ttotal: 1.92s\tremaining: 2.2s\n",
      "466:\tlearn: 5.2319221\ttotal: 1.92s\tremaining: 2.2s\n",
      "467:\tlearn: 5.2257958\ttotal: 1.93s\tremaining: 2.19s\n",
      "468:\tlearn: 5.2248832\ttotal: 1.93s\tremaining: 2.19s\n",
      "469:\tlearn: 5.2225572\ttotal: 1.94s\tremaining: 2.18s\n",
      "470:\tlearn: 5.2212083\ttotal: 1.94s\tremaining: 2.18s\n",
      "471:\tlearn: 5.2196676\ttotal: 1.94s\tremaining: 2.17s\n",
      "472:\tlearn: 5.2174334\ttotal: 1.95s\tremaining: 2.17s\n",
      "473:\tlearn: 5.2136352\ttotal: 1.96s\tremaining: 2.18s\n",
      "474:\tlearn: 5.2077169\ttotal: 1.97s\tremaining: 2.17s\n",
      "475:\tlearn: 5.2032114\ttotal: 1.97s\tremaining: 2.17s\n",
      "476:\tlearn: 5.2001294\ttotal: 1.97s\tremaining: 2.17s\n",
      "477:\tlearn: 5.1981572\ttotal: 1.98s\tremaining: 2.16s\n",
      "478:\tlearn: 5.1934843\ttotal: 1.98s\tremaining: 2.16s\n",
      "479:\tlearn: 5.1852737\ttotal: 1.99s\tremaining: 2.15s\n",
      "480:\tlearn: 5.1810129\ttotal: 1.99s\tremaining: 2.15s\n",
      "481:\tlearn: 5.1741829\ttotal: 2s\tremaining: 2.14s\n",
      "482:\tlearn: 5.1693786\ttotal: 2s\tremaining: 2.14s\n",
      "483:\tlearn: 5.1618549\ttotal: 2s\tremaining: 2.14s\n",
      "484:\tlearn: 5.1557759\ttotal: 2.01s\tremaining: 2.13s\n",
      "485:\tlearn: 5.1486560\ttotal: 2.01s\tremaining: 2.13s\n",
      "486:\tlearn: 5.1485008\ttotal: 2.01s\tremaining: 2.12s\n",
      "487:\tlearn: 5.1432395\ttotal: 2.02s\tremaining: 2.12s\n",
      "488:\tlearn: 5.1393867\ttotal: 2.02s\tremaining: 2.11s\n",
      "489:\tlearn: 5.1343291\ttotal: 2.03s\tremaining: 2.11s\n",
      "490:\tlearn: 5.1290092\ttotal: 2.03s\tremaining: 2.1s\n",
      "491:\tlearn: 5.1279172\ttotal: 2.04s\tremaining: 2.1s\n",
      "492:\tlearn: 5.1259880\ttotal: 2.04s\tremaining: 2.1s\n",
      "493:\tlearn: 5.1248814\ttotal: 2.04s\tremaining: 2.09s\n",
      "494:\tlearn: 5.1196647\ttotal: 2.05s\tremaining: 2.09s\n",
      "495:\tlearn: 5.1130641\ttotal: 2.05s\tremaining: 2.08s\n",
      "496:\tlearn: 5.1042000\ttotal: 2.05s\tremaining: 2.08s\n",
      "497:\tlearn: 5.0995771\ttotal: 2.06s\tremaining: 2.08s\n",
      "498:\tlearn: 5.0955432\ttotal: 2.06s\tremaining: 2.07s\n",
      "499:\tlearn: 5.0936784\ttotal: 2.07s\tremaining: 2.07s\n",
      "500:\tlearn: 5.0874621\ttotal: 2.07s\tremaining: 2.06s\n",
      "501:\tlearn: 5.0857460\ttotal: 2.08s\tremaining: 2.06s\n",
      "502:\tlearn: 5.0811758\ttotal: 2.08s\tremaining: 2.06s\n",
      "503:\tlearn: 5.0775084\ttotal: 2.08s\tremaining: 2.05s\n",
      "504:\tlearn: 5.0766086\ttotal: 2.09s\tremaining: 2.05s\n",
      "505:\tlearn: 5.0756725\ttotal: 2.09s\tremaining: 2.04s\n",
      "506:\tlearn: 5.0720524\ttotal: 2.1s\tremaining: 2.04s\n",
      "507:\tlearn: 5.0651922\ttotal: 2.1s\tremaining: 2.04s\n",
      "508:\tlearn: 5.0623274\ttotal: 2.1s\tremaining: 2.03s\n",
      "509:\tlearn: 5.0607113\ttotal: 2.11s\tremaining: 2.03s\n",
      "510:\tlearn: 5.0603082\ttotal: 2.11s\tremaining: 2.02s\n",
      "511:\tlearn: 5.0589582\ttotal: 2.12s\tremaining: 2.02s\n",
      "512:\tlearn: 5.0558099\ttotal: 2.12s\tremaining: 2.02s\n",
      "513:\tlearn: 5.0523838\ttotal: 2.13s\tremaining: 2.01s\n",
      "514:\tlearn: 5.0483389\ttotal: 2.13s\tremaining: 2.01s\n",
      "515:\tlearn: 5.0463348\ttotal: 2.14s\tremaining: 2s\n",
      "516:\tlearn: 5.0438942\ttotal: 2.14s\tremaining: 2s\n",
      "517:\tlearn: 5.0390697\ttotal: 2.15s\tremaining: 2s\n",
      "518:\tlearn: 5.0350361\ttotal: 2.15s\tremaining: 1.99s\n",
      "519:\tlearn: 5.0344489\ttotal: 2.15s\tremaining: 1.99s\n",
      "520:\tlearn: 5.0278615\ttotal: 2.16s\tremaining: 1.98s\n",
      "521:\tlearn: 5.0254017\ttotal: 2.16s\tremaining: 1.98s\n",
      "522:\tlearn: 5.0221496\ttotal: 2.17s\tremaining: 1.98s\n",
      "523:\tlearn: 5.0218690\ttotal: 2.17s\tremaining: 1.97s\n",
      "524:\tlearn: 5.0183547\ttotal: 2.17s\tremaining: 1.97s\n",
      "525:\tlearn: 5.0170767\ttotal: 2.18s\tremaining: 1.96s\n",
      "526:\tlearn: 5.0151035\ttotal: 2.18s\tremaining: 1.96s\n",
      "527:\tlearn: 5.0146983\ttotal: 2.18s\tremaining: 1.95s\n",
      "528:\tlearn: 5.0118587\ttotal: 2.19s\tremaining: 1.95s\n",
      "529:\tlearn: 5.0104958\ttotal: 2.19s\tremaining: 1.94s\n",
      "530:\tlearn: 5.0048057\ttotal: 2.2s\tremaining: 1.94s\n",
      "531:\tlearn: 4.9997581\ttotal: 2.2s\tremaining: 1.94s\n",
      "532:\tlearn: 4.9964795\ttotal: 2.2s\tremaining: 1.93s\n",
      "533:\tlearn: 4.9900363\ttotal: 2.21s\tremaining: 1.93s\n",
      "534:\tlearn: 4.9848165\ttotal: 2.21s\tremaining: 1.92s\n",
      "535:\tlearn: 4.9795268\ttotal: 2.22s\tremaining: 1.92s\n",
      "536:\tlearn: 4.9754950\ttotal: 2.22s\tremaining: 1.91s\n",
      "537:\tlearn: 4.9693378\ttotal: 2.22s\tremaining: 1.91s\n",
      "538:\tlearn: 4.9657807\ttotal: 2.23s\tremaining: 1.91s\n",
      "539:\tlearn: 4.9621127\ttotal: 2.23s\tremaining: 1.9s\n",
      "540:\tlearn: 4.9598287\ttotal: 2.24s\tremaining: 1.9s\n",
      "541:\tlearn: 4.9554675\ttotal: 2.24s\tremaining: 1.89s\n",
      "542:\tlearn: 4.9533296\ttotal: 2.24s\tremaining: 1.89s\n",
      "543:\tlearn: 4.9526508\ttotal: 2.25s\tremaining: 1.88s\n",
      "544:\tlearn: 4.9503418\ttotal: 2.25s\tremaining: 1.88s\n",
      "545:\tlearn: 4.9480936\ttotal: 2.26s\tremaining: 1.88s\n",
      "546:\tlearn: 4.9426598\ttotal: 2.26s\tremaining: 1.87s\n",
      "547:\tlearn: 4.9408161\ttotal: 2.27s\tremaining: 1.87s\n",
      "548:\tlearn: 4.9403492\ttotal: 2.27s\tremaining: 1.86s\n",
      "549:\tlearn: 4.9389944\ttotal: 2.27s\tremaining: 1.86s\n",
      "550:\tlearn: 4.9362473\ttotal: 2.28s\tremaining: 1.85s\n",
      "551:\tlearn: 4.9359914\ttotal: 2.28s\tremaining: 1.85s\n",
      "552:\tlearn: 4.9334876\ttotal: 2.28s\tremaining: 1.85s\n",
      "553:\tlearn: 4.9295356\ttotal: 2.29s\tremaining: 1.84s\n",
      "554:\tlearn: 4.9282217\ttotal: 2.29s\tremaining: 1.84s\n",
      "555:\tlearn: 4.9262584\ttotal: 2.3s\tremaining: 1.83s\n",
      "556:\tlearn: 4.9232461\ttotal: 2.3s\tremaining: 1.83s\n",
      "557:\tlearn: 4.9217816\ttotal: 2.31s\tremaining: 1.83s\n",
      "558:\tlearn: 4.9198776\ttotal: 2.31s\tremaining: 1.82s\n",
      "559:\tlearn: 4.9196817\ttotal: 2.32s\tremaining: 1.82s\n",
      "560:\tlearn: 4.9162339\ttotal: 2.32s\tremaining: 1.82s\n",
      "561:\tlearn: 4.9125425\ttotal: 2.33s\tremaining: 1.81s\n",
      "562:\tlearn: 4.9087219\ttotal: 2.33s\tremaining: 1.81s\n",
      "563:\tlearn: 4.9066959\ttotal: 2.33s\tremaining: 1.8s\n",
      "564:\tlearn: 4.9029815\ttotal: 2.34s\tremaining: 1.8s\n",
      "565:\tlearn: 4.9028291\ttotal: 2.34s\tremaining: 1.8s\n",
      "566:\tlearn: 4.9000207\ttotal: 2.35s\tremaining: 1.79s\n",
      "567:\tlearn: 4.8994545\ttotal: 2.35s\tremaining: 1.79s\n",
      "568:\tlearn: 4.8950876\ttotal: 2.35s\tremaining: 1.78s\n",
      "569:\tlearn: 4.8939308\ttotal: 2.35s\tremaining: 1.78s\n",
      "570:\tlearn: 4.8921583\ttotal: 2.36s\tremaining: 1.77s\n",
      "571:\tlearn: 4.8887798\ttotal: 2.36s\tremaining: 1.77s\n",
      "572:\tlearn: 4.8845096\ttotal: 2.37s\tremaining: 1.76s\n",
      "573:\tlearn: 4.8834000\ttotal: 2.37s\tremaining: 1.76s\n",
      "574:\tlearn: 4.8756792\ttotal: 2.37s\tremaining: 1.75s\n",
      "575:\tlearn: 4.8720368\ttotal: 2.38s\tremaining: 1.75s\n",
      "576:\tlearn: 4.8704142\ttotal: 2.38s\tremaining: 1.75s\n",
      "577:\tlearn: 4.8701267\ttotal: 2.39s\tremaining: 1.74s\n",
      "578:\tlearn: 4.8700044\ttotal: 2.39s\tremaining: 1.74s\n",
      "579:\tlearn: 4.8657181\ttotal: 2.39s\tremaining: 1.73s\n",
      "580:\tlearn: 4.8618870\ttotal: 2.4s\tremaining: 1.73s\n",
      "581:\tlearn: 4.8612380\ttotal: 2.4s\tremaining: 1.72s\n",
      "582:\tlearn: 4.8575209\ttotal: 2.4s\tremaining: 1.72s\n",
      "583:\tlearn: 4.8557975\ttotal: 2.41s\tremaining: 1.72s\n",
      "584:\tlearn: 4.8515644\ttotal: 2.41s\tremaining: 1.71s\n",
      "585:\tlearn: 4.8466954\ttotal: 2.41s\tremaining: 1.71s\n",
      "586:\tlearn: 4.8436921\ttotal: 2.42s\tremaining: 1.7s\n",
      "587:\tlearn: 4.8404095\ttotal: 2.42s\tremaining: 1.7s\n",
      "588:\tlearn: 4.8379238\ttotal: 2.43s\tremaining: 1.69s\n",
      "589:\tlearn: 4.8327449\ttotal: 2.43s\tremaining: 1.69s\n",
      "590:\tlearn: 4.8293295\ttotal: 2.43s\tremaining: 1.68s\n",
      "591:\tlearn: 4.8229396\ttotal: 2.44s\tremaining: 1.68s\n",
      "592:\tlearn: 4.8196416\ttotal: 2.44s\tremaining: 1.68s\n",
      "593:\tlearn: 4.8183950\ttotal: 2.44s\tremaining: 1.67s\n",
      "594:\tlearn: 4.8128694\ttotal: 2.45s\tremaining: 1.67s\n",
      "595:\tlearn: 4.8075403\ttotal: 2.46s\tremaining: 1.66s\n",
      "596:\tlearn: 4.8021670\ttotal: 2.46s\tremaining: 1.66s\n",
      "597:\tlearn: 4.7999933\ttotal: 2.46s\tremaining: 1.66s\n",
      "598:\tlearn: 4.7972855\ttotal: 2.47s\tremaining: 1.65s\n",
      "599:\tlearn: 4.7930355\ttotal: 2.47s\tremaining: 1.65s\n",
      "600:\tlearn: 4.7920562\ttotal: 2.48s\tremaining: 1.64s\n",
      "601:\tlearn: 4.7897232\ttotal: 2.48s\tremaining: 1.64s\n",
      "602:\tlearn: 4.7845320\ttotal: 2.48s\tremaining: 1.64s\n",
      "603:\tlearn: 4.7840870\ttotal: 2.49s\tremaining: 1.63s\n",
      "604:\tlearn: 4.7838040\ttotal: 2.49s\tremaining: 1.63s\n",
      "605:\tlearn: 4.7822501\ttotal: 2.5s\tremaining: 1.62s\n",
      "606:\tlearn: 4.7809151\ttotal: 2.5s\tremaining: 1.62s\n",
      "607:\tlearn: 4.7806136\ttotal: 2.51s\tremaining: 1.62s\n",
      "608:\tlearn: 4.7800669\ttotal: 2.51s\tremaining: 1.61s\n",
      "609:\tlearn: 4.7789825\ttotal: 2.51s\tremaining: 1.61s\n",
      "610:\tlearn: 4.7750451\ttotal: 2.52s\tremaining: 1.6s\n",
      "611:\tlearn: 4.7711259\ttotal: 2.52s\tremaining: 1.6s\n",
      "612:\tlearn: 4.7673475\ttotal: 2.53s\tremaining: 1.6s\n",
      "613:\tlearn: 4.7639890\ttotal: 2.53s\tremaining: 1.59s\n",
      "614:\tlearn: 4.7618588\ttotal: 2.54s\tremaining: 1.59s\n",
      "615:\tlearn: 4.7612707\ttotal: 2.54s\tremaining: 1.58s\n",
      "616:\tlearn: 4.7591435\ttotal: 2.54s\tremaining: 1.58s\n",
      "617:\tlearn: 4.7535192\ttotal: 2.55s\tremaining: 1.58s\n",
      "618:\tlearn: 4.7509348\ttotal: 2.55s\tremaining: 1.57s\n",
      "619:\tlearn: 4.7488979\ttotal: 2.56s\tremaining: 1.57s\n",
      "620:\tlearn: 4.7476740\ttotal: 2.56s\tremaining: 1.56s\n",
      "621:\tlearn: 4.7465470\ttotal: 2.57s\tremaining: 1.56s\n",
      "622:\tlearn: 4.7453128\ttotal: 2.57s\tremaining: 1.55s\n",
      "623:\tlearn: 4.7450338\ttotal: 2.57s\tremaining: 1.55s\n",
      "624:\tlearn: 4.7402538\ttotal: 2.58s\tremaining: 1.55s\n",
      "625:\tlearn: 4.7367826\ttotal: 2.58s\tremaining: 1.54s\n",
      "626:\tlearn: 4.7316791\ttotal: 2.59s\tremaining: 1.54s\n",
      "627:\tlearn: 4.7306540\ttotal: 2.59s\tremaining: 1.53s\n",
      "628:\tlearn: 4.7304133\ttotal: 2.6s\tremaining: 1.53s\n",
      "629:\tlearn: 4.7260255\ttotal: 2.6s\tremaining: 1.53s\n",
      "630:\tlearn: 4.7183116\ttotal: 2.6s\tremaining: 1.52s\n",
      "631:\tlearn: 4.7123943\ttotal: 2.61s\tremaining: 1.52s\n",
      "632:\tlearn: 4.7099991\ttotal: 2.61s\tremaining: 1.51s\n",
      "633:\tlearn: 4.7095057\ttotal: 2.62s\tremaining: 1.51s\n",
      "634:\tlearn: 4.7075075\ttotal: 2.62s\tremaining: 1.51s\n",
      "635:\tlearn: 4.7057004\ttotal: 2.62s\tremaining: 1.5s\n",
      "636:\tlearn: 4.7048898\ttotal: 2.63s\tremaining: 1.5s\n",
      "637:\tlearn: 4.7012465\ttotal: 2.63s\tremaining: 1.49s\n",
      "638:\tlearn: 4.7009996\ttotal: 2.64s\tremaining: 1.49s\n",
      "639:\tlearn: 4.6928583\ttotal: 2.64s\tremaining: 1.49s\n",
      "640:\tlearn: 4.6905993\ttotal: 2.64s\tremaining: 1.48s\n",
      "641:\tlearn: 4.6869139\ttotal: 2.65s\tremaining: 1.48s\n",
      "642:\tlearn: 4.6855577\ttotal: 2.65s\tremaining: 1.47s\n",
      "643:\tlearn: 4.6841188\ttotal: 2.66s\tremaining: 1.47s\n",
      "644:\tlearn: 4.6786142\ttotal: 2.66s\tremaining: 1.47s\n",
      "645:\tlearn: 4.6780451\ttotal: 2.67s\tremaining: 1.46s\n",
      "646:\tlearn: 4.6747313\ttotal: 2.67s\tremaining: 1.46s\n",
      "647:\tlearn: 4.6722609\ttotal: 2.67s\tremaining: 1.45s\n",
      "648:\tlearn: 4.6721170\ttotal: 2.68s\tremaining: 1.45s\n",
      "649:\tlearn: 4.6720169\ttotal: 2.68s\tremaining: 1.45s\n",
      "650:\tlearn: 4.6708989\ttotal: 2.69s\tremaining: 1.44s\n",
      "651:\tlearn: 4.6680878\ttotal: 2.69s\tremaining: 1.44s\n",
      "652:\tlearn: 4.6656074\ttotal: 2.7s\tremaining: 1.43s\n",
      "653:\tlearn: 4.6638686\ttotal: 2.7s\tremaining: 1.43s\n",
      "654:\tlearn: 4.6632914\ttotal: 2.71s\tremaining: 1.43s\n",
      "655:\tlearn: 4.6590710\ttotal: 2.71s\tremaining: 1.42s\n",
      "656:\tlearn: 4.6583468\ttotal: 2.71s\tremaining: 1.42s\n",
      "657:\tlearn: 4.6561906\ttotal: 2.72s\tremaining: 1.41s\n",
      "658:\tlearn: 4.6550275\ttotal: 2.72s\tremaining: 1.41s\n",
      "659:\tlearn: 4.6528018\ttotal: 2.73s\tremaining: 1.4s\n",
      "660:\tlearn: 4.6523584\ttotal: 2.73s\tremaining: 1.4s\n",
      "661:\tlearn: 4.6507447\ttotal: 2.73s\tremaining: 1.4s\n",
      "662:\tlearn: 4.6498771\ttotal: 2.74s\tremaining: 1.39s\n",
      "663:\tlearn: 4.6460066\ttotal: 2.74s\tremaining: 1.39s\n",
      "664:\tlearn: 4.6408885\ttotal: 2.75s\tremaining: 1.38s\n",
      "665:\tlearn: 4.6398079\ttotal: 2.75s\tremaining: 1.38s\n",
      "666:\tlearn: 4.6359263\ttotal: 2.75s\tremaining: 1.38s\n",
      "667:\tlearn: 4.6312439\ttotal: 2.76s\tremaining: 1.37s\n",
      "668:\tlearn: 4.6261399\ttotal: 2.76s\tremaining: 1.37s\n",
      "669:\tlearn: 4.6230008\ttotal: 2.77s\tremaining: 1.36s\n",
      "670:\tlearn: 4.6197940\ttotal: 2.77s\tremaining: 1.36s\n",
      "671:\tlearn: 4.6171419\ttotal: 2.77s\tremaining: 1.35s\n",
      "672:\tlearn: 4.6169250\ttotal: 2.78s\tremaining: 1.35s\n",
      "673:\tlearn: 4.6168443\ttotal: 2.78s\tremaining: 1.34s\n",
      "674:\tlearn: 4.6124745\ttotal: 2.79s\tremaining: 1.34s\n",
      "675:\tlearn: 4.6092786\ttotal: 2.79s\tremaining: 1.34s\n",
      "676:\tlearn: 4.6049407\ttotal: 2.79s\tremaining: 1.33s\n",
      "677:\tlearn: 4.6002280\ttotal: 2.8s\tremaining: 1.33s\n",
      "678:\tlearn: 4.5955340\ttotal: 2.8s\tremaining: 1.32s\n",
      "679:\tlearn: 4.5926955\ttotal: 2.81s\tremaining: 1.32s\n",
      "680:\tlearn: 4.5907879\ttotal: 2.81s\tremaining: 1.32s\n",
      "681:\tlearn: 4.5892651\ttotal: 2.81s\tremaining: 1.31s\n",
      "682:\tlearn: 4.5865363\ttotal: 2.82s\tremaining: 1.31s\n",
      "683:\tlearn: 4.5841591\ttotal: 2.82s\tremaining: 1.3s\n",
      "684:\tlearn: 4.5837393\ttotal: 2.83s\tremaining: 1.3s\n",
      "685:\tlearn: 4.5795426\ttotal: 2.83s\tremaining: 1.29s\n",
      "686:\tlearn: 4.5757009\ttotal: 2.83s\tremaining: 1.29s\n",
      "687:\tlearn: 4.5752971\ttotal: 2.84s\tremaining: 1.29s\n",
      "688:\tlearn: 4.5733888\ttotal: 2.84s\tremaining: 1.28s\n",
      "689:\tlearn: 4.5717606\ttotal: 2.84s\tremaining: 1.28s\n",
      "690:\tlearn: 4.5695194\ttotal: 2.85s\tremaining: 1.27s\n",
      "691:\tlearn: 4.5628356\ttotal: 2.85s\tremaining: 1.27s\n",
      "692:\tlearn: 4.5598381\ttotal: 2.85s\tremaining: 1.26s\n",
      "693:\tlearn: 4.5573060\ttotal: 2.86s\tremaining: 1.26s\n",
      "694:\tlearn: 4.5554123\ttotal: 2.86s\tremaining: 1.26s\n",
      "695:\tlearn: 4.5513673\ttotal: 2.87s\tremaining: 1.25s\n",
      "696:\tlearn: 4.5465236\ttotal: 2.87s\tremaining: 1.25s\n",
      "697:\tlearn: 4.5446515\ttotal: 2.87s\tremaining: 1.24s\n",
      "698:\tlearn: 4.5390636\ttotal: 2.88s\tremaining: 1.24s\n",
      "699:\tlearn: 4.5335764\ttotal: 2.88s\tremaining: 1.24s\n",
      "700:\tlearn: 4.5324941\ttotal: 2.88s\tremaining: 1.23s\n",
      "701:\tlearn: 4.5291682\ttotal: 2.89s\tremaining: 1.23s\n",
      "702:\tlearn: 4.5281249\ttotal: 2.89s\tremaining: 1.22s\n",
      "703:\tlearn: 4.5278078\ttotal: 2.9s\tremaining: 1.22s\n",
      "704:\tlearn: 4.5237466\ttotal: 2.9s\tremaining: 1.21s\n",
      "705:\tlearn: 4.5224016\ttotal: 2.9s\tremaining: 1.21s\n",
      "706:\tlearn: 4.5180960\ttotal: 2.91s\tremaining: 1.21s\n",
      "707:\tlearn: 4.5179800\ttotal: 2.91s\tremaining: 1.2s\n",
      "708:\tlearn: 4.5160647\ttotal: 2.92s\tremaining: 1.2s\n",
      "709:\tlearn: 4.5108241\ttotal: 2.92s\tremaining: 1.19s\n",
      "710:\tlearn: 4.5086373\ttotal: 2.92s\tremaining: 1.19s\n",
      "711:\tlearn: 4.5039683\ttotal: 2.93s\tremaining: 1.19s\n",
      "712:\tlearn: 4.5017260\ttotal: 2.93s\tremaining: 1.18s\n",
      "713:\tlearn: 4.4965562\ttotal: 2.94s\tremaining: 1.18s\n",
      "714:\tlearn: 4.4939091\ttotal: 2.94s\tremaining: 1.17s\n",
      "715:\tlearn: 4.4916053\ttotal: 2.94s\tremaining: 1.17s\n",
      "716:\tlearn: 4.4881319\ttotal: 2.95s\tremaining: 1.16s\n",
      "717:\tlearn: 4.4840535\ttotal: 2.95s\tremaining: 1.16s\n",
      "718:\tlearn: 4.4803434\ttotal: 2.96s\tremaining: 1.16s\n",
      "719:\tlearn: 4.4777720\ttotal: 2.96s\tremaining: 1.15s\n",
      "720:\tlearn: 4.4750531\ttotal: 2.96s\tremaining: 1.15s\n",
      "721:\tlearn: 4.4713085\ttotal: 2.97s\tremaining: 1.14s\n",
      "722:\tlearn: 4.4688428\ttotal: 2.97s\tremaining: 1.14s\n",
      "723:\tlearn: 4.4651771\ttotal: 2.98s\tremaining: 1.14s\n",
      "724:\tlearn: 4.4647905\ttotal: 2.98s\tremaining: 1.13s\n",
      "725:\tlearn: 4.4637624\ttotal: 2.98s\tremaining: 1.13s\n",
      "726:\tlearn: 4.4613746\ttotal: 2.99s\tremaining: 1.12s\n",
      "727:\tlearn: 4.4588990\ttotal: 2.99s\tremaining: 1.12s\n",
      "728:\tlearn: 4.4547686\ttotal: 3s\tremaining: 1.11s\n",
      "729:\tlearn: 4.4504993\ttotal: 3s\tremaining: 1.11s\n",
      "730:\tlearn: 4.4462789\ttotal: 3.01s\tremaining: 1.11s\n",
      "731:\tlearn: 4.4455279\ttotal: 3.01s\tremaining: 1.1s\n",
      "732:\tlearn: 4.4424399\ttotal: 3.01s\tremaining: 1.1s\n",
      "733:\tlearn: 4.4415202\ttotal: 3.02s\tremaining: 1.09s\n",
      "734:\tlearn: 4.4400424\ttotal: 3.02s\tremaining: 1.09s\n",
      "735:\tlearn: 4.4343726\ttotal: 3.03s\tremaining: 1.08s\n",
      "736:\tlearn: 4.4323974\ttotal: 3.03s\tremaining: 1.08s\n",
      "737:\tlearn: 4.4271915\ttotal: 3.03s\tremaining: 1.08s\n",
      "738:\tlearn: 4.4255790\ttotal: 3.04s\tremaining: 1.07s\n",
      "739:\tlearn: 4.4241323\ttotal: 3.04s\tremaining: 1.07s\n",
      "740:\tlearn: 4.4234395\ttotal: 3.05s\tremaining: 1.06s\n",
      "741:\tlearn: 4.4183135\ttotal: 3.05s\tremaining: 1.06s\n",
      "742:\tlearn: 4.4149372\ttotal: 3.06s\tremaining: 1.06s\n",
      "743:\tlearn: 4.4136158\ttotal: 3.06s\tremaining: 1.05s\n",
      "744:\tlearn: 4.4101067\ttotal: 3.06s\tremaining: 1.05s\n",
      "745:\tlearn: 4.4085365\ttotal: 3.07s\tremaining: 1.04s\n",
      "746:\tlearn: 4.4035946\ttotal: 3.07s\tremaining: 1.04s\n",
      "747:\tlearn: 4.4009604\ttotal: 3.08s\tremaining: 1.04s\n",
      "748:\tlearn: 4.3977936\ttotal: 3.08s\tremaining: 1.03s\n",
      "749:\tlearn: 4.3934145\ttotal: 3.08s\tremaining: 1.03s\n",
      "750:\tlearn: 4.3916195\ttotal: 3.09s\tremaining: 1.02s\n",
      "751:\tlearn: 4.3883990\ttotal: 3.09s\tremaining: 1.02s\n",
      "752:\tlearn: 4.3858371\ttotal: 3.09s\tremaining: 1.01s\n",
      "753:\tlearn: 4.3819990\ttotal: 3.1s\tremaining: 1.01s\n",
      "754:\tlearn: 4.3783844\ttotal: 3.1s\tremaining: 1.01s\n",
      "755:\tlearn: 4.3699347\ttotal: 3.11s\tremaining: 1s\n",
      "756:\tlearn: 4.3669838\ttotal: 3.11s\tremaining: 998ms\n",
      "757:\tlearn: 4.3668184\ttotal: 3.11s\tremaining: 994ms\n",
      "758:\tlearn: 4.3652513\ttotal: 3.12s\tremaining: 990ms\n",
      "759:\tlearn: 4.3651601\ttotal: 3.12s\tremaining: 986ms\n",
      "760:\tlearn: 4.3649862\ttotal: 3.12s\tremaining: 981ms\n",
      "761:\tlearn: 4.3623127\ttotal: 3.13s\tremaining: 977ms\n",
      "762:\tlearn: 4.3585382\ttotal: 3.13s\tremaining: 973ms\n",
      "763:\tlearn: 4.3561383\ttotal: 3.14s\tremaining: 969ms\n",
      "764:\tlearn: 4.3543832\ttotal: 3.14s\tremaining: 965ms\n",
      "765:\tlearn: 4.3512626\ttotal: 3.14s\tremaining: 961ms\n",
      "766:\tlearn: 4.3511426\ttotal: 3.15s\tremaining: 956ms\n",
      "767:\tlearn: 4.3487550\ttotal: 3.15s\tremaining: 952ms\n",
      "768:\tlearn: 4.3390756\ttotal: 3.16s\tremaining: 948ms\n",
      "769:\tlearn: 4.3350362\ttotal: 3.16s\tremaining: 944ms\n",
      "770:\tlearn: 4.3314617\ttotal: 3.16s\tremaining: 940ms\n",
      "771:\tlearn: 4.3266649\ttotal: 3.17s\tremaining: 936ms\n",
      "772:\tlearn: 4.3246832\ttotal: 3.17s\tremaining: 931ms\n",
      "773:\tlearn: 4.3235617\ttotal: 3.18s\tremaining: 927ms\n",
      "774:\tlearn: 4.3207336\ttotal: 3.18s\tremaining: 923ms\n",
      "775:\tlearn: 4.3178272\ttotal: 3.18s\tremaining: 919ms\n",
      "776:\tlearn: 4.3132308\ttotal: 3.19s\tremaining: 915ms\n",
      "777:\tlearn: 4.3118645\ttotal: 3.19s\tremaining: 911ms\n",
      "778:\tlearn: 4.3088438\ttotal: 3.2s\tremaining: 907ms\n",
      "779:\tlearn: 4.3084284\ttotal: 3.2s\tremaining: 903ms\n",
      "780:\tlearn: 4.3074899\ttotal: 3.2s\tremaining: 898ms\n",
      "781:\tlearn: 4.3060868\ttotal: 3.21s\tremaining: 894ms\n",
      "782:\tlearn: 4.3025345\ttotal: 3.21s\tremaining: 890ms\n",
      "783:\tlearn: 4.3024277\ttotal: 3.21s\tremaining: 886ms\n",
      "784:\tlearn: 4.3013874\ttotal: 3.22s\tremaining: 882ms\n",
      "785:\tlearn: 4.2994509\ttotal: 3.22s\tremaining: 877ms\n",
      "786:\tlearn: 4.2973160\ttotal: 3.23s\tremaining: 874ms\n",
      "787:\tlearn: 4.2940454\ttotal: 3.23s\tremaining: 869ms\n",
      "788:\tlearn: 4.2903906\ttotal: 3.24s\tremaining: 866ms\n",
      "789:\tlearn: 4.2883949\ttotal: 3.24s\tremaining: 862ms\n",
      "790:\tlearn: 4.2861841\ttotal: 3.24s\tremaining: 857ms\n",
      "791:\tlearn: 4.2854611\ttotal: 3.25s\tremaining: 853ms\n",
      "792:\tlearn: 4.2848671\ttotal: 3.25s\tremaining: 849ms\n",
      "793:\tlearn: 4.2823091\ttotal: 3.25s\tremaining: 845ms\n",
      "794:\tlearn: 4.2805109\ttotal: 3.26s\tremaining: 841ms\n",
      "795:\tlearn: 4.2766786\ttotal: 3.26s\tremaining: 836ms\n",
      "796:\tlearn: 4.2763199\ttotal: 3.27s\tremaining: 832ms\n",
      "797:\tlearn: 4.2736372\ttotal: 3.27s\tremaining: 828ms\n",
      "798:\tlearn: 4.2716963\ttotal: 3.28s\tremaining: 824ms\n",
      "799:\tlearn: 4.2708083\ttotal: 3.28s\tremaining: 820ms\n",
      "800:\tlearn: 4.2680491\ttotal: 3.28s\tremaining: 816ms\n",
      "801:\tlearn: 4.2628957\ttotal: 3.29s\tremaining: 812ms\n",
      "802:\tlearn: 4.2604201\ttotal: 3.29s\tremaining: 808ms\n",
      "803:\tlearn: 4.2603308\ttotal: 3.3s\tremaining: 804ms\n",
      "804:\tlearn: 4.2570842\ttotal: 3.3s\tremaining: 800ms\n",
      "805:\tlearn: 4.2564507\ttotal: 3.31s\tremaining: 796ms\n",
      "806:\tlearn: 4.2528614\ttotal: 3.31s\tremaining: 792ms\n",
      "807:\tlearn: 4.2524073\ttotal: 3.31s\tremaining: 788ms\n",
      "808:\tlearn: 4.2494145\ttotal: 3.32s\tremaining: 784ms\n",
      "809:\tlearn: 4.2488086\ttotal: 3.32s\tremaining: 779ms\n",
      "810:\tlearn: 4.2455455\ttotal: 3.33s\tremaining: 775ms\n",
      "811:\tlearn: 4.2384769\ttotal: 3.33s\tremaining: 771ms\n",
      "812:\tlearn: 4.2358588\ttotal: 3.33s\tremaining: 767ms\n",
      "813:\tlearn: 4.2330776\ttotal: 3.34s\tremaining: 763ms\n",
      "814:\tlearn: 4.2292543\ttotal: 3.34s\tremaining: 759ms\n",
      "815:\tlearn: 4.2265746\ttotal: 3.35s\tremaining: 754ms\n",
      "816:\tlearn: 4.2235905\ttotal: 3.35s\tremaining: 751ms\n",
      "817:\tlearn: 4.2208249\ttotal: 3.35s\tremaining: 746ms\n",
      "818:\tlearn: 4.2169655\ttotal: 3.36s\tremaining: 742ms\n",
      "819:\tlearn: 4.2112882\ttotal: 3.36s\tremaining: 738ms\n",
      "820:\tlearn: 4.2111656\ttotal: 3.37s\tremaining: 734ms\n",
      "821:\tlearn: 4.2077527\ttotal: 3.37s\tremaining: 730ms\n",
      "822:\tlearn: 4.2054858\ttotal: 3.37s\tremaining: 726ms\n",
      "823:\tlearn: 4.2008719\ttotal: 3.38s\tremaining: 721ms\n",
      "824:\tlearn: 4.1988690\ttotal: 3.38s\tremaining: 718ms\n",
      "825:\tlearn: 4.1956675\ttotal: 3.39s\tremaining: 713ms\n",
      "826:\tlearn: 4.1940695\ttotal: 3.39s\tremaining: 710ms\n",
      "827:\tlearn: 4.1897419\ttotal: 3.4s\tremaining: 705ms\n",
      "828:\tlearn: 4.1871173\ttotal: 3.4s\tremaining: 701ms\n",
      "829:\tlearn: 4.1849959\ttotal: 3.4s\tremaining: 697ms\n",
      "830:\tlearn: 4.1809004\ttotal: 3.41s\tremaining: 693ms\n",
      "831:\tlearn: 4.1782767\ttotal: 3.41s\tremaining: 689ms\n",
      "832:\tlearn: 4.1730828\ttotal: 3.42s\tremaining: 685ms\n",
      "833:\tlearn: 4.1679988\ttotal: 3.42s\tremaining: 681ms\n",
      "834:\tlearn: 4.1667186\ttotal: 3.43s\tremaining: 677ms\n",
      "835:\tlearn: 4.1649693\ttotal: 3.43s\tremaining: 673ms\n",
      "836:\tlearn: 4.1638807\ttotal: 3.43s\tremaining: 669ms\n",
      "837:\tlearn: 4.1620571\ttotal: 3.44s\tremaining: 665ms\n",
      "838:\tlearn: 4.1613409\ttotal: 3.44s\tremaining: 660ms\n",
      "839:\tlearn: 4.1611394\ttotal: 3.44s\tremaining: 656ms\n",
      "840:\tlearn: 4.1602781\ttotal: 3.45s\tremaining: 652ms\n",
      "841:\tlearn: 4.1570611\ttotal: 3.46s\tremaining: 648ms\n",
      "842:\tlearn: 4.1524458\ttotal: 3.46s\tremaining: 644ms\n",
      "843:\tlearn: 4.1522941\ttotal: 3.46s\tremaining: 640ms\n",
      "844:\tlearn: 4.1516627\ttotal: 3.47s\tremaining: 636ms\n",
      "845:\tlearn: 4.1484375\ttotal: 3.47s\tremaining: 632ms\n",
      "846:\tlearn: 4.1466074\ttotal: 3.48s\tremaining: 628ms\n",
      "847:\tlearn: 4.1449917\ttotal: 3.48s\tremaining: 624ms\n",
      "848:\tlearn: 4.1426965\ttotal: 3.49s\tremaining: 620ms\n",
      "849:\tlearn: 4.1409914\ttotal: 3.49s\tremaining: 616ms\n",
      "850:\tlearn: 4.1405208\ttotal: 3.5s\tremaining: 612ms\n",
      "851:\tlearn: 4.1390538\ttotal: 3.5s\tremaining: 608ms\n",
      "852:\tlearn: 4.1383122\ttotal: 3.5s\tremaining: 604ms\n",
      "853:\tlearn: 4.1377004\ttotal: 3.51s\tremaining: 600ms\n",
      "854:\tlearn: 4.1367972\ttotal: 3.51s\tremaining: 596ms\n",
      "855:\tlearn: 4.1353635\ttotal: 3.52s\tremaining: 592ms\n",
      "856:\tlearn: 4.1336460\ttotal: 3.52s\tremaining: 588ms\n",
      "857:\tlearn: 4.1324414\ttotal: 3.52s\tremaining: 583ms\n",
      "858:\tlearn: 4.1305048\ttotal: 3.53s\tremaining: 579ms\n",
      "859:\tlearn: 4.1289107\ttotal: 3.53s\tremaining: 575ms\n",
      "860:\tlearn: 4.1252009\ttotal: 3.54s\tremaining: 571ms\n",
      "861:\tlearn: 4.1226218\ttotal: 3.54s\tremaining: 567ms\n",
      "862:\tlearn: 4.1191555\ttotal: 3.54s\tremaining: 563ms\n",
      "863:\tlearn: 4.1164271\ttotal: 3.55s\tremaining: 559ms\n",
      "864:\tlearn: 4.1147196\ttotal: 3.55s\tremaining: 555ms\n",
      "865:\tlearn: 4.1096123\ttotal: 3.56s\tremaining: 551ms\n",
      "866:\tlearn: 4.1086398\ttotal: 3.56s\tremaining: 546ms\n",
      "867:\tlearn: 4.1052260\ttotal: 3.56s\tremaining: 542ms\n",
      "868:\tlearn: 4.1033605\ttotal: 3.57s\tremaining: 538ms\n",
      "869:\tlearn: 4.1032635\ttotal: 3.57s\tremaining: 534ms\n",
      "870:\tlearn: 4.0970623\ttotal: 3.58s\tremaining: 530ms\n",
      "871:\tlearn: 4.0953676\ttotal: 3.58s\tremaining: 526ms\n",
      "872:\tlearn: 4.0909601\ttotal: 3.58s\tremaining: 522ms\n",
      "873:\tlearn: 4.0904273\ttotal: 3.59s\tremaining: 518ms\n",
      "874:\tlearn: 4.0889298\ttotal: 3.59s\tremaining: 513ms\n",
      "875:\tlearn: 4.0845135\ttotal: 3.6s\tremaining: 509ms\n",
      "876:\tlearn: 4.0844366\ttotal: 3.6s\tremaining: 505ms\n",
      "877:\tlearn: 4.0837320\ttotal: 3.6s\tremaining: 501ms\n",
      "878:\tlearn: 4.0818532\ttotal: 3.61s\tremaining: 497ms\n",
      "879:\tlearn: 4.0802378\ttotal: 3.61s\tremaining: 493ms\n",
      "880:\tlearn: 4.0800016\ttotal: 3.62s\tremaining: 489ms\n",
      "881:\tlearn: 4.0798954\ttotal: 3.62s\tremaining: 484ms\n",
      "882:\tlearn: 4.0778223\ttotal: 3.62s\tremaining: 480ms\n",
      "883:\tlearn: 4.0760499\ttotal: 3.63s\tremaining: 476ms\n",
      "884:\tlearn: 4.0744466\ttotal: 3.63s\tremaining: 472ms\n",
      "885:\tlearn: 4.0723297\ttotal: 3.64s\tremaining: 468ms\n",
      "886:\tlearn: 4.0709884\ttotal: 3.64s\tremaining: 464ms\n",
      "887:\tlearn: 4.0678966\ttotal: 3.64s\tremaining: 460ms\n",
      "888:\tlearn: 4.0657228\ttotal: 3.65s\tremaining: 456ms\n",
      "889:\tlearn: 4.0618708\ttotal: 3.65s\tremaining: 451ms\n",
      "890:\tlearn: 4.0598130\ttotal: 3.66s\tremaining: 447ms\n",
      "891:\tlearn: 4.0588351\ttotal: 3.66s\tremaining: 443ms\n",
      "892:\tlearn: 4.0581030\ttotal: 3.66s\tremaining: 439ms\n",
      "893:\tlearn: 4.0572946\ttotal: 3.67s\tremaining: 435ms\n",
      "894:\tlearn: 4.0552643\ttotal: 3.67s\tremaining: 431ms\n",
      "895:\tlearn: 4.0541633\ttotal: 3.67s\tremaining: 427ms\n",
      "896:\tlearn: 4.0522717\ttotal: 3.68s\tremaining: 422ms\n",
      "897:\tlearn: 4.0493167\ttotal: 3.68s\tremaining: 418ms\n",
      "898:\tlearn: 4.0475783\ttotal: 3.69s\tremaining: 414ms\n",
      "899:\tlearn: 4.0445570\ttotal: 3.69s\tremaining: 410ms\n",
      "900:\tlearn: 4.0420643\ttotal: 3.69s\tremaining: 406ms\n",
      "901:\tlearn: 4.0398359\ttotal: 3.7s\tremaining: 402ms\n",
      "902:\tlearn: 4.0390228\ttotal: 3.7s\tremaining: 398ms\n",
      "903:\tlearn: 4.0363678\ttotal: 3.71s\tremaining: 394ms\n",
      "904:\tlearn: 4.0341468\ttotal: 3.71s\tremaining: 389ms\n",
      "905:\tlearn: 4.0334510\ttotal: 3.71s\tremaining: 385ms\n",
      "906:\tlearn: 4.0333688\ttotal: 3.72s\tremaining: 381ms\n",
      "907:\tlearn: 4.0327795\ttotal: 3.72s\tremaining: 377ms\n",
      "908:\tlearn: 4.0324567\ttotal: 3.72s\tremaining: 373ms\n",
      "909:\tlearn: 4.0300984\ttotal: 3.73s\tremaining: 369ms\n",
      "910:\tlearn: 4.0267440\ttotal: 3.73s\tremaining: 364ms\n",
      "911:\tlearn: 4.0247979\ttotal: 3.73s\tremaining: 360ms\n",
      "912:\tlearn: 4.0232893\ttotal: 3.74s\tremaining: 356ms\n",
      "913:\tlearn: 4.0217989\ttotal: 3.74s\tremaining: 352ms\n",
      "914:\tlearn: 4.0198092\ttotal: 3.75s\tremaining: 348ms\n",
      "915:\tlearn: 4.0191504\ttotal: 3.75s\tremaining: 344ms\n",
      "916:\tlearn: 4.0164373\ttotal: 3.75s\tremaining: 340ms\n",
      "917:\tlearn: 4.0161780\ttotal: 3.76s\tremaining: 336ms\n",
      "918:\tlearn: 4.0144237\ttotal: 3.76s\tremaining: 331ms\n",
      "919:\tlearn: 4.0125376\ttotal: 3.76s\tremaining: 327ms\n",
      "920:\tlearn: 4.0100774\ttotal: 3.77s\tremaining: 323ms\n",
      "921:\tlearn: 4.0086660\ttotal: 3.77s\tremaining: 319ms\n",
      "922:\tlearn: 4.0067024\ttotal: 3.77s\tremaining: 315ms\n",
      "923:\tlearn: 4.0032067\ttotal: 3.78s\tremaining: 311ms\n",
      "924:\tlearn: 4.0000545\ttotal: 3.78s\tremaining: 307ms\n",
      "925:\tlearn: 3.9999042\ttotal: 3.79s\tremaining: 303ms\n",
      "926:\tlearn: 3.9987064\ttotal: 3.79s\tremaining: 299ms\n",
      "927:\tlearn: 3.9979994\ttotal: 3.79s\tremaining: 294ms\n",
      "928:\tlearn: 3.9954020\ttotal: 3.8s\tremaining: 291ms\n",
      "929:\tlearn: 3.9935209\ttotal: 3.81s\tremaining: 286ms\n",
      "930:\tlearn: 3.9928221\ttotal: 3.81s\tremaining: 282ms\n",
      "931:\tlearn: 3.9893571\ttotal: 3.81s\tremaining: 278ms\n",
      "932:\tlearn: 3.9869847\ttotal: 3.82s\tremaining: 274ms\n",
      "933:\tlearn: 3.9852016\ttotal: 3.82s\tremaining: 270ms\n",
      "934:\tlearn: 3.9833482\ttotal: 3.83s\tremaining: 266ms\n",
      "935:\tlearn: 3.9814599\ttotal: 3.83s\tremaining: 262ms\n",
      "936:\tlearn: 3.9795709\ttotal: 3.83s\tremaining: 258ms\n",
      "937:\tlearn: 3.9786638\ttotal: 3.84s\tremaining: 254ms\n",
      "938:\tlearn: 3.9744845\ttotal: 3.84s\tremaining: 250ms\n",
      "939:\tlearn: 3.9702392\ttotal: 3.85s\tremaining: 246ms\n",
      "940:\tlearn: 3.9684102\ttotal: 3.85s\tremaining: 242ms\n",
      "941:\tlearn: 3.9669569\ttotal: 3.86s\tremaining: 237ms\n",
      "942:\tlearn: 3.9634491\ttotal: 3.86s\tremaining: 233ms\n",
      "943:\tlearn: 3.9589025\ttotal: 3.87s\tremaining: 229ms\n",
      "944:\tlearn: 3.9553679\ttotal: 3.87s\tremaining: 225ms\n",
      "945:\tlearn: 3.9535150\ttotal: 3.87s\tremaining: 221ms\n",
      "946:\tlearn: 3.9508613\ttotal: 3.88s\tremaining: 217ms\n",
      "947:\tlearn: 3.9493147\ttotal: 3.88s\tremaining: 213ms\n",
      "948:\tlearn: 3.9462704\ttotal: 3.88s\tremaining: 209ms\n",
      "949:\tlearn: 3.9447778\ttotal: 3.89s\tremaining: 205ms\n",
      "950:\tlearn: 3.9446331\ttotal: 3.89s\tremaining: 201ms\n",
      "951:\tlearn: 3.9422724\ttotal: 3.9s\tremaining: 197ms\n",
      "952:\tlearn: 3.9393163\ttotal: 3.9s\tremaining: 192ms\n",
      "953:\tlearn: 3.9370905\ttotal: 3.91s\tremaining: 188ms\n",
      "954:\tlearn: 3.9333394\ttotal: 3.91s\tremaining: 184ms\n",
      "955:\tlearn: 3.9297203\ttotal: 3.92s\tremaining: 180ms\n",
      "956:\tlearn: 3.9285847\ttotal: 3.92s\tremaining: 176ms\n",
      "957:\tlearn: 3.9235438\ttotal: 3.92s\tremaining: 172ms\n",
      "958:\tlearn: 3.9215360\ttotal: 3.93s\tremaining: 168ms\n",
      "959:\tlearn: 3.9209950\ttotal: 3.93s\tremaining: 164ms\n",
      "960:\tlearn: 3.9168798\ttotal: 3.94s\tremaining: 160ms\n",
      "961:\tlearn: 3.9149350\ttotal: 3.94s\tremaining: 156ms\n",
      "962:\tlearn: 3.9135360\ttotal: 3.94s\tremaining: 152ms\n",
      "963:\tlearn: 3.9129110\ttotal: 3.95s\tremaining: 147ms\n",
      "964:\tlearn: 3.9112327\ttotal: 3.95s\tremaining: 143ms\n",
      "965:\tlearn: 3.9109874\ttotal: 3.96s\tremaining: 139ms\n",
      "966:\tlearn: 3.9094669\ttotal: 3.96s\tremaining: 135ms\n",
      "967:\tlearn: 3.9062053\ttotal: 3.96s\tremaining: 131ms\n",
      "968:\tlearn: 3.9049882\ttotal: 3.97s\tremaining: 127ms\n",
      "969:\tlearn: 3.9016716\ttotal: 3.97s\tremaining: 123ms\n",
      "970:\tlearn: 3.9013202\ttotal: 3.98s\tremaining: 119ms\n",
      "971:\tlearn: 3.9001079\ttotal: 3.98s\tremaining: 115ms\n",
      "972:\tlearn: 3.8979387\ttotal: 3.99s\tremaining: 111ms\n",
      "973:\tlearn: 3.8969598\ttotal: 3.99s\tremaining: 107ms\n",
      "974:\tlearn: 3.8957942\ttotal: 3.99s\tremaining: 102ms\n",
      "975:\tlearn: 3.8956753\ttotal: 4s\tremaining: 98.3ms\n",
      "976:\tlearn: 3.8940110\ttotal: 4s\tremaining: 94.2ms\n",
      "977:\tlearn: 3.8922088\ttotal: 4.01s\tremaining: 90.1ms\n",
      "978:\tlearn: 3.8905356\ttotal: 4.01s\tremaining: 86.1ms\n",
      "979:\tlearn: 3.8902525\ttotal: 4.01s\tremaining: 82ms\n",
      "980:\tlearn: 3.8887604\ttotal: 4.02s\tremaining: 77.9ms\n",
      "981:\tlearn: 3.8859583\ttotal: 4.02s\tremaining: 73.8ms\n",
      "982:\tlearn: 3.8824599\ttotal: 4.03s\tremaining: 69.7ms\n",
      "983:\tlearn: 3.8811647\ttotal: 4.03s\tremaining: 65.6ms\n",
      "984:\tlearn: 3.8766758\ttotal: 4.04s\tremaining: 61.5ms\n",
      "985:\tlearn: 3.8725577\ttotal: 4.04s\tremaining: 57.4ms\n",
      "986:\tlearn: 3.8697117\ttotal: 4.04s\tremaining: 53.3ms\n",
      "987:\tlearn: 3.8667639\ttotal: 4.05s\tremaining: 49.2ms\n",
      "988:\tlearn: 3.8644974\ttotal: 4.05s\tremaining: 45.1ms\n",
      "989:\tlearn: 3.8612931\ttotal: 4.06s\tremaining: 41ms\n",
      "990:\tlearn: 3.8598367\ttotal: 4.06s\tremaining: 36.9ms\n",
      "991:\tlearn: 3.8564885\ttotal: 4.07s\tremaining: 32.8ms\n",
      "992:\tlearn: 3.8505660\ttotal: 4.07s\tremaining: 28.7ms\n",
      "993:\tlearn: 3.8481612\ttotal: 4.07s\tremaining: 24.6ms\n",
      "994:\tlearn: 3.8442900\ttotal: 4.08s\tremaining: 20.5ms\n",
      "995:\tlearn: 3.8423085\ttotal: 4.08s\tremaining: 16.4ms\n",
      "996:\tlearn: 3.8418269\ttotal: 4.09s\tremaining: 12.3ms\n",
      "997:\tlearn: 3.8392132\ttotal: 4.09s\tremaining: 8.21ms\n",
      "998:\tlearn: 3.8379441\ttotal: 4.1s\tremaining: 4.11ms\n",
      "999:\tlearn: 3.8363056\ttotal: 4.11s\tremaining: 0us\n",
      "Wall time: 46.6 s\n"
     ]
    }
   ],
   "source": [
    "%%time\n",
    "\n",
    "# построим модель\n",
    "start_c = time.time()\n",
    "model_c = CatBoostRegressor() \n",
    "parameters_c = {'learning_rate':[0.1, 0.5, 0.8],\n",
    "                'depth': [3, 4]} \n",
    "random_c = RandomizedSearchCV(estimator=model_c,\n",
    "                              param_distributions=parameters_c,\n",
    "                              n_iter=10,  \n",
    "                              scoring='neg_mean_absolute_error',  \n",
    "                              cv=5,  \n",
    "                              verbose=2,\n",
    "                              random_state=RANDOM_STATE,\n",
    "                              n_jobs=-1)\n",
    "random_c.fit(feature_train, target_train)\n",
    "end_c = time.time()\n",
    "t_c=round(end_c-start_c,2)\n"
   ]
  },
  {
   "cell_type": "code",
   "execution_count": 69,
   "id": "1b58501b",
   "metadata": {},
   "outputs": [
    {
     "name": "stdout",
     "output_type": "stream",
     "text": [
      "Лучшие параметры CatBoostRegressor -  {'learning_rate': 0.1, 'depth': 4}\n",
      "MAE CatBoostRegressor -  6.4226\n"
     ]
    }
   ],
   "source": [
    "# параметры, МАЕ\n",
    "print('Лучшие параметры CatBoostRegressor - ', random_c.best_params_)\n",
    "print('MAE CatBoostRegressor - ',round(random_c.best_score_,4)*(-1))"
   ]
  },
  {
   "cell_type": "markdown",
   "id": "72cb2304",
   "metadata": {},
   "source": [
    "### LinearRegression"
   ]
  },
  {
   "cell_type": "code",
   "execution_count": 70,
   "id": "8d6e4d16",
   "metadata": {},
   "outputs": [
    {
     "name": "stdout",
     "output_type": "stream",
     "text": [
      "Fitting 5 folds for each of 2 candidates, totalling 10 fits\n",
      "Wall time: 257 ms\n"
     ]
    }
   ],
   "source": [
    "%%time\n",
    "# построим модель\n",
    "start_lr = time.time()\n",
    "model_lr = LinearRegression()\n",
    "parameters_lr = {'n_jobs':[8, 10]} \n",
    "random_lr = RandomizedSearchCV(estimator=model_lr,\n",
    "                              param_distributions=parameters_lr,\n",
    "                              n_iter=10,  \n",
    "                              scoring='neg_mean_absolute_error',  \n",
    "                              cv=5,  \n",
    "                              verbose=2,\n",
    "                              random_state=RANDOM_STATE,\n",
    "                              n_jobs=-1)\n",
    "random_lr.fit(feature_train, target_train)\n",
    "end_lr = time.time()\n",
    "t_lr=round(end_lr-start_lr,2)"
   ]
  },
  {
   "cell_type": "code",
   "execution_count": 71,
   "id": "f6fa26bd",
   "metadata": {},
   "outputs": [
    {
     "name": "stdout",
     "output_type": "stream",
     "text": [
      "Лучшие параметры LinearRegression -  {'n_jobs': 8}\n",
      "MAE LinearRegression -  6.3233\n"
     ]
    }
   ],
   "source": [
    "# параметры, МАЕ\n",
    "print('Лучшие параметры LinearRegression - ', random_lr.best_params_)\n",
    "print('MAE LinearRegression - ',round(random_lr.best_score_,4)*(-1))"
   ]
  },
  {
   "cell_type": "markdown",
   "id": "94d48d6e",
   "metadata": {},
   "source": [
    "### Bыбор лучшей модели"
   ]
  },
  {
   "cell_type": "code",
   "execution_count": 72,
   "id": "b6e19d58",
   "metadata": {},
   "outputs": [
    {
     "data": {
      "text/html": [
       "<div>\n",
       "<style scoped>\n",
       "    .dataframe tbody tr th:only-of-type {\n",
       "        vertical-align: middle;\n",
       "    }\n",
       "\n",
       "    .dataframe tbody tr th {\n",
       "        vertical-align: top;\n",
       "    }\n",
       "\n",
       "    .dataframe thead th {\n",
       "        text-align: right;\n",
       "    }\n",
       "</style>\n",
       "<table border=\"1\" class=\"dataframe\">\n",
       "  <thead>\n",
       "    <tr style=\"text-align: right;\">\n",
       "      <th></th>\n",
       "      <th>Скорость обучения</th>\n",
       "      <th>MAE</th>\n",
       "    </tr>\n",
       "  </thead>\n",
       "  <tbody>\n",
       "    <tr>\n",
       "      <th>LGBMRegressor</th>\n",
       "      <td>6.39</td>\n",
       "      <td>6.1854</td>\n",
       "    </tr>\n",
       "    <tr>\n",
       "      <th>CatBoostRegressor</th>\n",
       "      <td>46.58</td>\n",
       "      <td>6.4226</td>\n",
       "    </tr>\n",
       "    <tr>\n",
       "      <th>LinearRegression</th>\n",
       "      <td>0.26</td>\n",
       "      <td>6.3233</td>\n",
       "    </tr>\n",
       "  </tbody>\n",
       "</table>\n",
       "</div>"
      ],
      "text/plain": [
       "                   Скорость обучения     MAE\n",
       "LGBMRegressor                   6.39  6.1854\n",
       "CatBoostRegressor              46.58  6.4226\n",
       "LinearRegression                0.26  6.3233"
      ]
     },
     "execution_count": 72,
     "metadata": {},
     "output_type": "execute_result"
    }
   ],
   "source": [
    "# выбор лучшей модели\n",
    "column=['Скорость обучения', 'MAE']\n",
    "\n",
    "summary = pd.DataFrame(index=column, columns=['LGBMRegressor','CatBoostRegressor','LinearRegression'])\n",
    "summary['LGBMRegressor'] = t_l,  round(random_l.best_score_,4)*(-1)\n",
    "summary['CatBoostRegressor'] = t_c, round(random_c.best_score_,4)*(-1)\n",
    "summary['LinearRegression'] = t_lr, round(random_lr.best_score_,4)*(-1)\n",
    "summary.T"
   ]
  },
  {
   "cell_type": "markdown",
   "id": "7d139464",
   "metadata": {},
   "source": [
    "В ходе проделанной работы на данном этапе мы выяснили что наименьшая ошибка - 6.1854 у модели LightGBM с гиперапраметрами learning_rate=0.05, num_leaves=21 время обучения данной модели примерно 5 секунд"
   ]
  },
  {
   "cell_type": "markdown",
   "id": "e233e897",
   "metadata": {},
   "source": [
    "###  Исследование важности признаков лучшей моделии"
   ]
  },
  {
   "cell_type": "code",
   "execution_count": 73,
   "id": "a72e19a3",
   "metadata": {
    "scrolled": false
   },
   "outputs": [
    {
     "name": "stdout",
     "output_type": "stream",
     "text": [
      "Fitting 5 folds for each of 10 candidates, totalling 50 fits\n",
      "[LightGBM] [Warning] Found whitespace in feature_names, replace with underlines\n",
      "[LightGBM] [Warning] Auto-choosing row-wise multi-threading, the overhead of testing was 0.000963 seconds.\n",
      "You can set `force_row_wise=true` to remove the overhead.\n",
      "And if memory is not enough, you can set `force_col_wise=true`.\n",
      "[LightGBM] [Info] Total Bins 2276\n",
      "[LightGBM] [Info] Number of data points in the train set: 1743, number of used features: 18\n",
      "[LightGBM] [Info] Start training from score 1593.332186\n"
     ]
    },
    {
     "data": {
      "text/html": [
       "<div>\n",
       "<style scoped>\n",
       "    .dataframe tbody tr th:only-of-type {\n",
       "        vertical-align: middle;\n",
       "    }\n",
       "\n",
       "    .dataframe tbody tr th {\n",
       "        vertical-align: top;\n",
       "    }\n",
       "\n",
       "    .dataframe thead th {\n",
       "        text-align: right;\n",
       "    }\n",
       "</style>\n",
       "<table border=\"1\" class=\"dataframe\">\n",
       "  <thead>\n",
       "    <tr style=\"text-align: right;\">\n",
       "      <th></th>\n",
       "      <th>feature</th>\n",
       "      <th>importance</th>\n",
       "    </tr>\n",
       "  </thead>\n",
       "  <tbody>\n",
       "    <tr>\n",
       "      <th>0</th>\n",
       "      <td>Начальная_температура</td>\n",
       "      <td>109</td>\n",
       "    </tr>\n",
       "    <tr>\n",
       "      <th>1</th>\n",
       "      <td>Длительность нагрева</td>\n",
       "      <td>76</td>\n",
       "    </tr>\n",
       "    <tr>\n",
       "      <th>18</th>\n",
       "      <td>Wire 1</td>\n",
       "      <td>45</td>\n",
       "    </tr>\n",
       "    <tr>\n",
       "      <th>3</th>\n",
       "      <td>Газ 1</td>\n",
       "      <td>44</td>\n",
       "    </tr>\n",
       "    <tr>\n",
       "      <th>9</th>\n",
       "      <td>Bulk 6</td>\n",
       "      <td>31</td>\n",
       "    </tr>\n",
       "    <tr>\n",
       "      <th>2</th>\n",
       "      <td>Энергия</td>\n",
       "      <td>30</td>\n",
       "    </tr>\n",
       "    <tr>\n",
       "      <th>16</th>\n",
       "      <td>Bulk 14</td>\n",
       "      <td>29</td>\n",
       "    </tr>\n",
       "    <tr>\n",
       "      <th>4</th>\n",
       "      <td>Bulk 1</td>\n",
       "      <td>24</td>\n",
       "    </tr>\n",
       "    <tr>\n",
       "      <th>19</th>\n",
       "      <td>Wire 2</td>\n",
       "      <td>23</td>\n",
       "    </tr>\n",
       "    <tr>\n",
       "      <th>14</th>\n",
       "      <td>Bulk 12</td>\n",
       "      <td>20</td>\n",
       "    </tr>\n",
       "    <tr>\n",
       "      <th>17</th>\n",
       "      <td>Bulk 15</td>\n",
       "      <td>16</td>\n",
       "    </tr>\n",
       "    <tr>\n",
       "      <th>13</th>\n",
       "      <td>Bulk 11</td>\n",
       "      <td>15</td>\n",
       "    </tr>\n",
       "    <tr>\n",
       "      <th>8</th>\n",
       "      <td>Bulk 5</td>\n",
       "      <td>12</td>\n",
       "    </tr>\n",
       "    <tr>\n",
       "      <th>7</th>\n",
       "      <td>Bulk 4</td>\n",
       "      <td>9</td>\n",
       "    </tr>\n",
       "    <tr>\n",
       "      <th>6</th>\n",
       "      <td>Bulk 3</td>\n",
       "      <td>9</td>\n",
       "    </tr>\n",
       "    <tr>\n",
       "      <th>20</th>\n",
       "      <td>Wire 3</td>\n",
       "      <td>5</td>\n",
       "    </tr>\n",
       "    <tr>\n",
       "      <th>23</th>\n",
       "      <td>Wire 6</td>\n",
       "      <td>3</td>\n",
       "    </tr>\n",
       "    <tr>\n",
       "      <th>12</th>\n",
       "      <td>Bulk 10</td>\n",
       "      <td>0</td>\n",
       "    </tr>\n",
       "    <tr>\n",
       "      <th>11</th>\n",
       "      <td>Bulk 9</td>\n",
       "      <td>0</td>\n",
       "    </tr>\n",
       "    <tr>\n",
       "      <th>10</th>\n",
       "      <td>Bulk 7</td>\n",
       "      <td>0</td>\n",
       "    </tr>\n",
       "    <tr>\n",
       "      <th>15</th>\n",
       "      <td>Bulk 13</td>\n",
       "      <td>0</td>\n",
       "    </tr>\n",
       "    <tr>\n",
       "      <th>5</th>\n",
       "      <td>Bulk 2</td>\n",
       "      <td>0</td>\n",
       "    </tr>\n",
       "    <tr>\n",
       "      <th>21</th>\n",
       "      <td>Wire 4</td>\n",
       "      <td>0</td>\n",
       "    </tr>\n",
       "    <tr>\n",
       "      <th>22</th>\n",
       "      <td>Wire 5</td>\n",
       "      <td>0</td>\n",
       "    </tr>\n",
       "    <tr>\n",
       "      <th>24</th>\n",
       "      <td>Wire 7</td>\n",
       "      <td>0</td>\n",
       "    </tr>\n",
       "    <tr>\n",
       "      <th>25</th>\n",
       "      <td>Wire 9</td>\n",
       "      <td>0</td>\n",
       "    </tr>\n",
       "  </tbody>\n",
       "</table>\n",
       "</div>"
      ],
      "text/plain": [
       "                  feature  importance\n",
       "0   Начальная_температура         109\n",
       "1    Длительность нагрева          76\n",
       "18                 Wire 1          45\n",
       "3                   Газ 1          44\n",
       "9                  Bulk 6          31\n",
       "2                 Энергия          30\n",
       "16                Bulk 14          29\n",
       "4                  Bulk 1          24\n",
       "19                 Wire 2          23\n",
       "14                Bulk 12          20\n",
       "17                Bulk 15          16\n",
       "13                Bulk 11          15\n",
       "8                  Bulk 5          12\n",
       "7                  Bulk 4           9\n",
       "6                  Bulk 3           9\n",
       "20                 Wire 3           5\n",
       "23                 Wire 6           3\n",
       "12                Bulk 10           0\n",
       "11                 Bulk 9           0\n",
       "10                 Bulk 7           0\n",
       "15                Bulk 13           0\n",
       "5                  Bulk 2           0\n",
       "21                 Wire 4           0\n",
       "22                 Wire 5           0\n",
       "24                 Wire 7           0\n",
       "25                 Wire 9           0"
      ]
     },
     "execution_count": 73,
     "metadata": {},
     "output_type": "execute_result"
    }
   ],
   "source": [
    "# исследование важности признаков\n",
    "random_l.fit(features_train, target_train)\n",
    "feature_importances = random_l.best_estimator_.feature_importances_\n",
    "col = list(features_train.columns)\n",
    "feature_importances_df = pd.DataFrame({'feature': col,\n",
    "                                       'importance': feature_importances}).sort_values('importance',\n",
    "                                                                                       ascending = False)\n",
    "feature_importances_df"
   ]
  },
  {
   "cell_type": "code",
   "execution_count": 74,
   "id": "46e3bb0a",
   "metadata": {},
   "outputs": [
    {
     "data": {
      "image/png": "[encoded data removed]",
      "text/plain": [
       "<Figure size 1200x800 with 1 Axes>"
      ]
     },
     "metadata": {},
     "output_type": "display_data"
    }
   ],
   "source": [
    "# визуализируем данные\n",
    "feature_imp = pd.Series(random_l.best_estimator_.feature_importances_, \n",
    "                        index=features_train.columns).sort_values(ascending=False)\n",
    "      \n",
    "fig, ax = plt.subplots(figsize=(12,8))\n",
    "feature_imp.plot.bar(ax=ax)\n",
    "_ = ax.set_title('Оценка важности признаков')\n",
    "_ = ax.set_ylabel('Признаки')\n",
    "fig.tight_layout()\n",
    "plt.show()"
   ]
  },
  {
   "cell_type": "markdown",
   "id": "16ce60cd",
   "metadata": {},
   "source": [
    "Наиболее важными признаками для модели являются начальная температура и длительность нагрева"
   ]
  },
  {
   "cell_type": "markdown",
   "id": "1f8a956a",
   "metadata": {},
   "source": [
    "## Тестирование модели"
   ]
  },
  {
   "cell_type": "code",
   "execution_count": 75,
   "id": "8658e1d4",
   "metadata": {},
   "outputs": [
    {
     "name": "stdout",
     "output_type": "stream",
     "text": [
      "Wall time: 12.8 ms\n"
     ]
    }
   ],
   "source": [
    "%%time\n",
    "# получим предсказания\n",
    "predict_l = random_l.best_estimator_.predict(features_test)"
   ]
  },
  {
   "cell_type": "code",
   "execution_count": 76,
   "id": "5d125832",
   "metadata": {},
   "outputs": [
    {
     "name": "stdout",
     "output_type": "stream",
     "text": [
      "MAE LightGBM на тестовой выборке -  6.53\n"
     ]
    }
   ],
   "source": [
    "# MAE\n",
    "mae_l = mean_absolute_error(target_test, predict_l) \n",
    "print('MAE LightGBM на тестовой выборке - ', round(mae_l,2))"
   ]
  },
  {
   "cell_type": "code",
   "execution_count": 77,
   "id": "63643fae",
   "metadata": {},
   "outputs": [
    {
     "name": "stdout",
     "output_type": "stream",
     "text": [
      "R2 score: 0.37\n"
     ]
    }
   ],
   "source": [
    "print(\"R2 score:\", round(r2_score(target_test, predict_l),2))"
   ]
  },
  {
   "cell_type": "markdown",
   "id": "1f023093",
   "metadata": {},
   "source": [
    "Наша модель предсказывает примерно 37% изменчиаости в данных. Не самый лучший результат, но это лучше чем просто предсказание среднего значения целевой переменной,  в таком случае R2 была бы равно нулю."
   ]
  },
  {
   "cell_type": "markdown",
   "id": "681e0799",
   "metadata": {},
   "source": [
    "Чтобы оценить адекватность модели нужно сравнить ее с константной "
   ]
  },
  {
   "cell_type": "code",
   "execution_count": 78,
   "id": "71dd5a5e",
   "metadata": {},
   "outputs": [
    {
     "name": "stdout",
     "output_type": "stream",
     "text": [
      "MAE константной  модели : 8.16\n"
     ]
    }
   ],
   "source": [
    "# оценка константной модели\n",
    "model_dr = DummyRegressor(strategy=\"mean\")\n",
    "model_dr.fit(features_train, target_train) \n",
    "predict_dr = model_dr.predict(features_test)\n",
    "mae_dr = mean_absolute_error(target_test, predict_dr) \n",
    "print('MAE константной  модели :', round(mae_dr,2))"
   ]
  },
  {
   "cell_type": "markdown",
   "id": "739abd5e",
   "metadata": {},
   "source": [
    "Как видим, наша модель лучше наивного прогноза"
   ]
  },
  {
   "cell_type": "markdown",
   "id": "2c3c7905",
   "metadata": {},
   "source": [
    "## Отчет"
   ]
  },
  {
   "cell_type": "markdown",
   "id": "43cf8959",
   "metadata": {},
   "source": [
    "Чтобы оптимизировать производственные расходы, металлургический комбинат ООО «Так закаляем сталь» решил уменьшить потребление электроэнергии на этапе обработки стали. Нашей задачей было построить модель, которая предскажет температуру стали, и мы удачно справились с поставленной задачей.\n",
    "\n",
    "Был составлен план работы  и в прпоцессе решения поставленной задачи мы полностью придерживались заданного плана.\n",
    "\n",
    "Как таковых трудностей в процессе реализации проекта не возникало, поскольку от заказчика было получено достаточное колличество информации.  \n",
    "Были выявлены, и оперативно устранены следующие моменты:\n",
    "- в некоторых полях было несоответствие типа данных, мы их привели к необходимому формату\n",
    "- отрицательное значение в столбце с реактивной мощностью, была удалена вся партия с некорректными данными\n",
    "- большое количество пропусков в таблицах с информацией о подаче сыпучих и проволочных материалов, пропуски были заменены 0\n",
    "- в таблице с результатами измерения температуры были оьбнаружены пропуски в замерах, единичные замеры, а так же такие показатели температуры, ниже той при которой плавится сталь все партии с такими замерами были удалены\n",
    "\n",
    "В процессе решения поставленной задачи были выполнены следующие ключевые шаги:\n",
    "- проведен исследовательский анализ и предобработка данных:\n",
    "    - в таблице с данными об электродах - изменили тип данных, удалили данные по всей партии где была отрицательная мощность, вычислили энергию и длительность нагрева, сформировали агрегированную по ключу таблицу\n",
    "    - в таблице с данными об объеме подачи сыпучих материалов - пропуски заменили нулями, удалили неинформативный столбец Bulk 8, в котором было всего 1 значение\n",
    "    -  в таблице с данными о результатах измерения температуры - изменили тип данных, удалили данные по всей партии где была аномально низкая температура, пропуски в данных и всего 1 замер температуры, вычислили начальную и конечную температуру, сформировали агрегированную по ключу таблицу\n",
    "    - в таблице с данными об объеме проволочных материалов - пропуски заменили нулями, удалили неинформативный столбец Wire 5, в котором было всего 1 значение\n",
    "- после чего данные были объеденены в один датафрейм, проверка полученных данных на мультиколениарность показала следующее:\n",
    "    - выявлена сильная взаимосвязь следующих признаков - энергия и длительность нагрева, что вполне логично\n",
    "    - прямая зависимость между признаками Wire 8 и Bulk 9, удалили один из признаков\n",
    "    - факторов сильно коррелирующих с целевым признаком не выявлено\n",
    "    \n",
    "Целевым признаком по условию задачи является последний замер температуры, для решения поставленной задачи мы сгенерировали новые признаки - энергия, длительность нагрева, начальная и конечная температура\n",
    "\n",
    "Были обучены следующие модели, подбор гиперпарамотров для которых осуществялся с помощью RandomizedSearchCV:\n",
    "- LGBMRegressor,  наилучший результат для данной модели при котором МАЕ была равна 6,1854 дали следующие гиерпараметры:\n",
    "    - num_leaves = 8\n",
    "    - learning_rate = 0.05\n",
    "    - random_state =  110923\n",
    "- CatBoostRegressor, наилучший результат для данной модели при котором МАЕ была равна 6,3645 дали следующие гиерпараметры:\n",
    "    - depth = 3\n",
    "    - learning_rate = 0.1\n",
    "    - random_state =  110923\n",
    "- LinearRegression, наилучший результат для данной модели при котором МАЕ была равна 6,3233 дали следующие гиерпараметры:\n",
    "    - n_jobs =8\n",
    "    - random_state =  110923\n",
    "Лучше всего себя показала модель LGBMRegressor, на тесте модель LightGBM с гиперапраметрами learning_rate=0.05, num_leaves=8 дала значение МАЕ 6.53, что соответствует условиям. Модель можно считать успешной.\n",
    "\n",
    "Кроме того было проведено иследование важности признаков лучшей модели, и выявлено что наиболее важными признаками для модели являются начальная температура и длительность нагрева"
   ]
  }
 ],
 "metadata": {
  "ExecuteTimeLog": [
   {
    "duration": 298,
    "start_time": "2023-09-13T23:14:08.850Z"
   },
   {
    "duration": 11503,
    "start_time": "2023-09-13T23:14:20.251Z"
   },
   {
    "duration": 999,
    "start_time": "2023-09-13T23:14:31.757Z"
   },
   {
    "duration": 192,
    "start_time": "2023-09-13T23:14:32.758Z"
   },
   {
    "duration": 8,
    "start_time": "2023-09-13T23:14:32.955Z"
   },
   {
    "duration": 300,
    "start_time": "2023-09-13T23:14:33.051Z"
   },
   {
    "duration": 202,
    "start_time": "2023-09-13T23:14:33.354Z"
   },
   {
    "duration": 101,
    "start_time": "2023-09-13T23:14:33.560Z"
   },
   {
    "duration": 2392,
    "start_time": "2023-09-13T23:14:33.664Z"
   },
   {
    "duration": 2203,
    "start_time": "2023-09-13T23:14:36.151Z"
   },
   {
    "duration": 396,
    "start_time": "2023-09-13T23:14:38.360Z"
   },
   {
    "duration": 200,
    "start_time": "2023-09-13T23:14:38.760Z"
   },
   {
    "duration": 103,
    "start_time": "2023-09-13T23:14:38.962Z"
   },
   {
    "duration": 79,
    "start_time": "2023-09-13T23:14:39.072Z"
   },
   {
    "duration": 207,
    "start_time": "2023-09-13T23:14:39.156Z"
   },
   {
    "duration": 188,
    "start_time": "2023-09-13T23:14:39.366Z"
   },
   {
    "duration": 99,
    "start_time": "2023-09-13T23:14:39.556Z"
   },
   {
    "duration": 597,
    "start_time": "2023-09-13T23:14:39.658Z"
   },
   {
    "duration": 96,
    "start_time": "2023-09-13T23:14:40.257Z"
   },
   {
    "duration": 100,
    "start_time": "2023-09-13T23:14:40.356Z"
   },
   {
    "duration": 193,
    "start_time": "2023-09-13T23:14:40.457Z"
   },
   {
    "duration": 2102,
    "start_time": "2023-09-13T23:14:40.651Z"
   },
   {
    "duration": 506,
    "start_time": "2023-09-13T23:14:42.755Z"
   },
   {
    "duration": 89,
    "start_time": "2023-09-13T23:14:43.263Z"
   },
   {
    "duration": 12,
    "start_time": "2023-09-13T23:14:43.355Z"
   },
   {
    "duration": 84,
    "start_time": "2023-09-13T23:14:43.368Z"
   },
   {
    "duration": 302,
    "start_time": "2023-09-13T23:14:43.454Z"
   },
   {
    "duration": 192,
    "start_time": "2023-09-13T23:14:43.758Z"
   },
   {
    "duration": 2112,
    "start_time": "2023-09-13T23:14:43.952Z"
   },
   {
    "duration": 290,
    "start_time": "2023-09-13T23:14:46.066Z"
   },
   {
    "duration": 100,
    "start_time": "2023-09-13T23:14:46.358Z"
   },
   {
    "duration": 290,
    "start_time": "2023-09-13T23:14:46.460Z"
   },
   {
    "duration": 94,
    "start_time": "2023-09-13T23:14:46.754Z"
   },
   {
    "duration": 517,
    "start_time": "2023-09-13T23:14:46.851Z"
   },
   {
    "duration": 16,
    "start_time": "2023-09-13T23:14:47.550Z"
   },
   {
    "duration": 201,
    "start_time": "2023-09-13T23:14:47.658Z"
   },
   {
    "duration": 1973,
    "start_time": "2023-09-21T03:59:47.116Z"
   },
   {
    "duration": 176,
    "start_time": "2023-09-21T03:59:49.091Z"
   },
   {
    "duration": 15,
    "start_time": "2023-09-21T03:59:49.268Z"
   },
   {
    "duration": 38,
    "start_time": "2023-09-21T03:59:49.285Z"
   },
   {
    "duration": 24,
    "start_time": "2023-09-21T03:59:49.325Z"
   },
   {
    "duration": 41,
    "start_time": "2023-09-21T03:59:49.352Z"
   },
   {
    "duration": 13,
    "start_time": "2023-09-21T03:59:49.394Z"
   },
   {
    "duration": 367,
    "start_time": "2023-09-21T03:59:49.409Z"
   },
   {
    "duration": 389,
    "start_time": "2023-09-21T03:59:49.778Z"
   },
   {
    "duration": 71,
    "start_time": "2023-09-21T03:59:50.170Z"
   },
   {
    "duration": 18,
    "start_time": "2023-09-21T03:59:50.243Z"
   },
   {
    "duration": 23,
    "start_time": "2023-09-21T03:59:50.263Z"
   },
   {
    "duration": 15,
    "start_time": "2023-09-21T03:59:50.288Z"
   },
   {
    "duration": 91,
    "start_time": "2023-09-21T03:59:50.304Z"
   },
   {
    "duration": 20,
    "start_time": "2023-09-21T03:59:50.397Z"
   },
   {
    "duration": 43,
    "start_time": "2023-09-21T03:59:50.419Z"
   },
   {
    "duration": 117,
    "start_time": "2023-09-21T03:59:50.464Z"
   },
   {
    "duration": 11,
    "start_time": "2023-09-21T03:59:50.583Z"
   },
   {
    "duration": 43,
    "start_time": "2023-09-21T03:59:50.596Z"
   },
   {
    "duration": 35,
    "start_time": "2023-09-21T03:59:50.642Z"
   },
   {
    "duration": 362,
    "start_time": "2023-09-21T03:59:50.679Z"
   },
   {
    "duration": 117,
    "start_time": "2023-09-21T03:59:51.043Z"
   },
   {
    "duration": 10,
    "start_time": "2023-09-21T03:59:51.162Z"
   },
   {
    "duration": 46,
    "start_time": "2023-09-21T03:59:51.173Z"
   },
   {
    "duration": 13,
    "start_time": "2023-09-21T03:59:51.221Z"
   },
   {
    "duration": 39,
    "start_time": "2023-09-21T03:59:51.236Z"
   },
   {
    "duration": 20,
    "start_time": "2023-09-21T03:59:51.278Z"
   },
   {
    "duration": 315,
    "start_time": "2023-09-21T03:59:51.304Z"
   },
   {
    "duration": 40,
    "start_time": "2023-09-21T03:59:51.622Z"
   },
   {
    "duration": 12,
    "start_time": "2023-09-21T03:59:51.664Z"
   },
   {
    "duration": 39,
    "start_time": "2023-09-21T03:59:51.679Z"
   },
   {
    "duration": 16,
    "start_time": "2023-09-21T03:59:51.725Z"
   },
   {
    "duration": 271,
    "start_time": "2023-09-21T03:59:51.743Z"
   },
   {
    "duration": 17,
    "start_time": "2023-09-21T03:59:52.016Z"
   },
   {
    "duration": 22,
    "start_time": "2023-09-21T03:59:52.036Z"
   },
   {
    "duration": 18,
    "start_time": "2023-09-21T03:59:52.060Z"
   },
   {
    "duration": 43,
    "start_time": "2023-09-21T03:59:52.081Z"
   },
   {
    "duration": 19,
    "start_time": "2023-09-21T03:59:52.131Z"
   },
   {
    "duration": 33,
    "start_time": "2023-09-21T03:59:52.153Z"
   },
   {
    "duration": 31,
    "start_time": "2023-09-21T03:59:52.188Z"
   },
   {
    "duration": 41,
    "start_time": "2023-09-21T03:59:52.223Z"
   },
   {
    "duration": 15,
    "start_time": "2023-09-21T03:59:52.267Z"
   },
   {
    "duration": 60,
    "start_time": "2023-09-21T03:59:52.284Z"
   },
   {
    "duration": 16,
    "start_time": "2023-09-21T03:59:52.346Z"
   },
   {
    "duration": 39,
    "start_time": "2023-09-21T03:59:52.364Z"
   },
   {
    "duration": 17,
    "start_time": "2023-09-21T03:59:52.405Z"
   },
   {
    "duration": 14,
    "start_time": "2023-09-21T03:59:52.426Z"
   },
   {
    "duration": 23,
    "start_time": "2023-09-21T03:59:52.445Z"
   },
   {
    "duration": 37,
    "start_time": "2023-09-21T03:59:52.470Z"
   },
   {
    "duration": 40,
    "start_time": "2023-09-21T03:59:52.509Z"
   },
   {
    "duration": 35,
    "start_time": "2023-09-21T03:59:52.551Z"
   },
   {
    "duration": 34,
    "start_time": "2023-09-21T03:59:52.589Z"
   },
   {
    "duration": 63,
    "start_time": "2023-09-21T03:59:52.625Z"
   },
   {
    "duration": 49,
    "start_time": "2023-09-21T03:59:52.690Z"
   },
   {
    "duration": 45,
    "start_time": "2023-09-21T03:59:52.741Z"
   },
   {
    "duration": 13,
    "start_time": "2023-09-21T03:59:52.788Z"
   },
   {
    "duration": 89,
    "start_time": "2023-09-21T03:59:52.803Z"
   },
   {
    "duration": 452,
    "start_time": "2023-09-21T03:59:52.909Z"
   },
   {
    "duration": 5164,
    "start_time": "2023-09-21T03:59:53.363Z"
   },
   {
    "duration": 6,
    "start_time": "2023-09-21T03:59:58.530Z"
   },
   {
    "duration": 7,
    "start_time": "2023-09-21T03:59:58.538Z"
   },
   {
    "duration": 9,
    "start_time": "2023-09-21T03:59:58.547Z"
   },
   {
    "duration": 14,
    "start_time": "2023-09-21T03:59:58.558Z"
   },
   {
    "duration": 17,
    "start_time": "2023-09-21T03:59:58.574Z"
   },
   {
    "duration": 1654,
    "start_time": "2023-09-21T04:03:00.757Z"
   },
   {
    "duration": 111,
    "start_time": "2023-09-21T04:03:02.413Z"
   },
   {
    "duration": 21,
    "start_time": "2023-09-21T04:03:02.531Z"
   },
   {
    "duration": 40,
    "start_time": "2023-09-21T04:03:02.555Z"
   },
   {
    "duration": 37,
    "start_time": "2023-09-21T04:03:02.597Z"
   },
   {
    "duration": 52,
    "start_time": "2023-09-21T04:03:02.636Z"
   },
   {
    "duration": 73,
    "start_time": "2023-09-21T04:03:02.690Z"
   },
   {
    "duration": 375,
    "start_time": "2023-09-21T04:03:02.765Z"
   },
   {
    "duration": 412,
    "start_time": "2023-09-21T04:03:03.142Z"
   },
   {
    "duration": 50,
    "start_time": "2023-09-21T04:03:03.555Z"
   },
   {
    "duration": 22,
    "start_time": "2023-09-21T04:03:03.607Z"
   },
   {
    "duration": 11,
    "start_time": "2023-09-21T04:03:03.631Z"
   },
   {
    "duration": 67,
    "start_time": "2023-09-21T04:03:03.644Z"
   },
   {
    "duration": 77,
    "start_time": "2023-09-21T04:03:03.718Z"
   },
   {
    "duration": 18,
    "start_time": "2023-09-21T04:03:03.797Z"
   },
   {
    "duration": 20,
    "start_time": "2023-09-21T04:03:03.816Z"
   },
   {
    "duration": 59,
    "start_time": "2023-09-21T04:03:03.838Z"
   },
   {
    "duration": 8,
    "start_time": "2023-09-21T04:03:03.899Z"
   },
   {
    "duration": 22,
    "start_time": "2023-09-21T04:03:03.909Z"
   },
   {
    "duration": 39,
    "start_time": "2023-09-21T04:03:03.933Z"
   },
   {
    "duration": 396,
    "start_time": "2023-09-21T04:03:03.975Z"
   },
   {
    "duration": 122,
    "start_time": "2023-09-21T04:03:04.373Z"
   },
   {
    "duration": 13,
    "start_time": "2023-09-21T04:03:04.498Z"
   },
   {
    "duration": 23,
    "start_time": "2023-09-21T04:03:04.518Z"
   },
   {
    "duration": 10,
    "start_time": "2023-09-21T04:03:04.543Z"
   },
   {
    "duration": 36,
    "start_time": "2023-09-21T04:03:04.555Z"
   },
   {
    "duration": 34,
    "start_time": "2023-09-21T04:03:04.593Z"
   },
   {
    "duration": 316,
    "start_time": "2023-09-21T04:03:04.629Z"
   },
   {
    "duration": 59,
    "start_time": "2023-09-21T04:03:04.947Z"
   },
   {
    "duration": 23,
    "start_time": "2023-09-21T04:03:05.008Z"
   },
   {
    "duration": 12,
    "start_time": "2023-09-21T04:03:05.033Z"
   },
   {
    "duration": 10,
    "start_time": "2023-09-21T04:03:05.047Z"
   },
   {
    "duration": 63,
    "start_time": "2023-09-21T04:03:05.059Z"
   },
   {
    "duration": 14,
    "start_time": "2023-09-21T04:03:05.128Z"
   },
   {
    "duration": 20,
    "start_time": "2023-09-21T04:03:05.144Z"
   },
   {
    "duration": 30,
    "start_time": "2023-09-21T04:03:05.166Z"
   },
   {
    "duration": 48,
    "start_time": "2023-09-21T04:03:05.198Z"
   },
   {
    "duration": 9,
    "start_time": "2023-09-21T04:03:05.248Z"
   },
   {
    "duration": 21,
    "start_time": "2023-09-21T04:03:05.260Z"
   },
   {
    "duration": 7,
    "start_time": "2023-09-21T04:03:05.283Z"
   },
   {
    "duration": 28,
    "start_time": "2023-09-21T04:03:05.297Z"
   },
   {
    "duration": 10,
    "start_time": "2023-09-21T04:03:05.330Z"
   },
   {
    "duration": 48,
    "start_time": "2023-09-21T04:03:05.342Z"
   },
   {
    "duration": 8,
    "start_time": "2023-09-21T04:03:05.392Z"
   },
   {
    "duration": 30,
    "start_time": "2023-09-21T04:03:05.402Z"
   },
   {
    "duration": 6,
    "start_time": "2023-09-21T04:03:05.439Z"
   },
   {
    "duration": 27,
    "start_time": "2023-09-21T04:03:05.448Z"
   },
   {
    "duration": 6,
    "start_time": "2023-09-21T04:03:05.477Z"
   },
   {
    "duration": 20,
    "start_time": "2023-09-21T04:03:05.484Z"
   },
   {
    "duration": 23,
    "start_time": "2023-09-21T04:03:05.506Z"
   },
   {
    "duration": 12,
    "start_time": "2023-09-21T04:03:05.532Z"
   },
   {
    "duration": 19,
    "start_time": "2023-09-21T04:03:05.546Z"
   },
   {
    "duration": 34,
    "start_time": "2023-09-21T04:03:05.567Z"
   },
   {
    "duration": 35,
    "start_time": "2023-09-21T04:03:05.603Z"
   },
   {
    "duration": 37,
    "start_time": "2023-09-21T04:03:05.641Z"
   },
   {
    "duration": 14,
    "start_time": "2023-09-21T04:03:05.680Z"
   },
   {
    "duration": 95,
    "start_time": "2023-09-21T04:03:05.696Z"
   },
   {
    "duration": 461,
    "start_time": "2023-09-21T04:03:05.793Z"
   },
   {
    "duration": 5131,
    "start_time": "2023-09-21T04:03:06.257Z"
   },
   {
    "duration": 7,
    "start_time": "2023-09-21T04:03:11.391Z"
   },
   {
    "duration": 31,
    "start_time": "2023-09-21T04:03:11.400Z"
   },
   {
    "duration": 9,
    "start_time": "2023-09-21T04:03:11.433Z"
   },
   {
    "duration": 16,
    "start_time": "2023-09-21T04:03:11.444Z"
   },
   {
    "duration": 19,
    "start_time": "2023-09-21T04:03:11.462Z"
   },
   {
    "duration": 306975,
    "start_time": "2023-09-21T04:03:11.483Z"
   },
   {
    "duration": 10,
    "start_time": "2023-09-21T04:08:18.461Z"
   },
   {
    "duration": 0,
    "start_time": "2023-09-21T04:08:18.473Z"
   },
   {
    "duration": 0,
    "start_time": "2023-09-21T04:08:18.474Z"
   },
   {
    "duration": 0,
    "start_time": "2023-09-21T04:08:18.475Z"
   },
   {
    "duration": 0,
    "start_time": "2023-09-21T04:08:18.476Z"
   },
   {
    "duration": 0,
    "start_time": "2023-09-21T04:08:18.477Z"
   },
   {
    "duration": 0,
    "start_time": "2023-09-21T04:08:18.479Z"
   },
   {
    "duration": 0,
    "start_time": "2023-09-21T04:08:18.480Z"
   },
   {
    "duration": 0,
    "start_time": "2023-09-21T04:08:18.481Z"
   },
   {
    "duration": 0,
    "start_time": "2023-09-21T04:08:18.483Z"
   },
   {
    "duration": 0,
    "start_time": "2023-09-21T04:08:18.484Z"
   },
   {
    "duration": 0,
    "start_time": "2023-09-21T04:08:18.485Z"
   },
   {
    "duration": 3557,
    "start_time": "2023-09-21T16:59:46.475Z"
   },
   {
    "duration": 2433,
    "start_time": "2023-09-21T17:08:00.785Z"
   },
   {
    "duration": 1938,
    "start_time": "2023-09-21T17:22:40.454Z"
   },
   {
    "duration": 1521,
    "start_time": "2023-09-21T17:22:46.740Z"
   },
   {
    "duration": 26,
    "start_time": "2023-09-21T17:22:48.598Z"
   },
   {
    "duration": 12,
    "start_time": "2023-09-21T17:23:46.101Z"
   },
   {
    "duration": 13,
    "start_time": "2023-09-21T17:23:49.768Z"
   },
   {
    "duration": 1857,
    "start_time": "2023-09-21T17:27:53.010Z"
   },
   {
    "duration": 1153,
    "start_time": "2023-09-21T17:27:54.870Z"
   },
   {
    "duration": 174,
    "start_time": "2023-09-21T17:27:56.025Z"
   },
   {
    "duration": 21,
    "start_time": "2023-09-21T17:27:56.201Z"
   },
   {
    "duration": 21,
    "start_time": "2023-09-21T17:27:56.224Z"
   },
   {
    "duration": 40,
    "start_time": "2023-09-21T17:27:56.246Z"
   },
   {
    "duration": 60,
    "start_time": "2023-09-21T17:27:56.287Z"
   },
   {
    "duration": 22,
    "start_time": "2023-09-21T17:27:56.349Z"
   },
   {
    "duration": 371,
    "start_time": "2023-09-21T17:27:56.373Z"
   },
   {
    "duration": 417,
    "start_time": "2023-09-21T17:27:56.746Z"
   },
   {
    "duration": 88,
    "start_time": "2023-09-21T17:27:57.164Z"
   },
   {
    "duration": 16,
    "start_time": "2023-09-21T17:27:57.254Z"
   },
   {
    "duration": 17,
    "start_time": "2023-09-21T17:27:57.272Z"
   },
   {
    "duration": 19,
    "start_time": "2023-09-21T17:27:57.292Z"
   },
   {
    "duration": 125,
    "start_time": "2023-09-21T17:27:57.314Z"
   },
   {
    "duration": 15,
    "start_time": "2023-09-21T17:27:57.440Z"
   },
   {
    "duration": 113,
    "start_time": "2023-09-21T17:27:57.457Z"
   },
   {
    "duration": 122,
    "start_time": "2023-09-21T17:27:57.572Z"
   },
   {
    "duration": 7,
    "start_time": "2023-09-21T17:27:57.696Z"
   },
   {
    "duration": 33,
    "start_time": "2023-09-21T17:27:57.705Z"
   },
   {
    "duration": 24,
    "start_time": "2023-09-21T17:27:57.740Z"
   },
   {
    "duration": 317,
    "start_time": "2023-09-21T17:27:57.765Z"
   },
   {
    "duration": 94,
    "start_time": "2023-09-21T17:27:58.084Z"
   },
   {
    "duration": 9,
    "start_time": "2023-09-21T17:27:58.180Z"
   },
   {
    "duration": 27,
    "start_time": "2023-09-21T17:27:58.191Z"
   },
   {
    "duration": 18,
    "start_time": "2023-09-21T17:27:58.220Z"
   },
   {
    "duration": 28,
    "start_time": "2023-09-21T17:27:58.240Z"
   },
   {
    "duration": 10,
    "start_time": "2023-09-21T17:27:58.270Z"
   },
   {
    "duration": 311,
    "start_time": "2023-09-21T17:27:58.282Z"
   },
   {
    "duration": 112,
    "start_time": "2023-09-21T17:27:58.595Z"
   },
   {
    "duration": 21,
    "start_time": "2023-09-21T17:27:58.709Z"
   },
   {
    "duration": 19,
    "start_time": "2023-09-21T17:27:58.732Z"
   },
   {
    "duration": 25,
    "start_time": "2023-09-21T17:27:58.753Z"
   },
   {
    "duration": 98,
    "start_time": "2023-09-21T17:27:58.780Z"
   },
   {
    "duration": 12,
    "start_time": "2023-09-21T17:27:58.881Z"
   },
   {
    "duration": 36,
    "start_time": "2023-09-21T17:27:58.895Z"
   },
   {
    "duration": 12,
    "start_time": "2023-09-21T17:27:58.932Z"
   },
   {
    "duration": 17,
    "start_time": "2023-09-21T17:27:58.946Z"
   },
   {
    "duration": 11,
    "start_time": "2023-09-21T17:27:58.965Z"
   },
   {
    "duration": 14,
    "start_time": "2023-09-21T17:27:58.978Z"
   },
   {
    "duration": 44,
    "start_time": "2023-09-21T17:27:58.996Z"
   },
   {
    "duration": 26,
    "start_time": "2023-09-21T17:27:59.042Z"
   },
   {
    "duration": 94,
    "start_time": "2023-09-21T17:27:59.069Z"
   },
   {
    "duration": 80,
    "start_time": "2023-09-21T17:27:59.164Z"
   },
   {
    "duration": 7,
    "start_time": "2023-09-21T17:27:59.246Z"
   },
   {
    "duration": 26,
    "start_time": "2023-09-21T17:27:59.254Z"
   },
   {
    "duration": 9,
    "start_time": "2023-09-21T17:27:59.282Z"
   },
   {
    "duration": 26,
    "start_time": "2023-09-21T17:27:59.293Z"
   },
   {
    "duration": 7,
    "start_time": "2023-09-21T17:27:59.321Z"
   },
   {
    "duration": 25,
    "start_time": "2023-09-21T17:27:59.330Z"
   },
   {
    "duration": 24,
    "start_time": "2023-09-21T17:27:59.357Z"
   },
   {
    "duration": 46,
    "start_time": "2023-09-21T17:27:59.383Z"
   },
   {
    "duration": 15,
    "start_time": "2023-09-21T17:27:59.432Z"
   },
   {
    "duration": 28,
    "start_time": "2023-09-21T17:27:59.449Z"
   },
   {
    "duration": 17,
    "start_time": "2023-09-21T17:27:59.479Z"
   },
   {
    "duration": 47,
    "start_time": "2023-09-21T17:27:59.498Z"
   },
   {
    "duration": 15,
    "start_time": "2023-09-21T17:27:59.546Z"
   },
   {
    "duration": 108,
    "start_time": "2023-09-21T17:27:59.563Z"
   },
   {
    "duration": 437,
    "start_time": "2023-09-21T17:27:59.673Z"
   },
   {
    "duration": 5068,
    "start_time": "2023-09-21T17:28:00.111Z"
   },
   {
    "duration": 7,
    "start_time": "2023-09-21T17:28:05.181Z"
   },
   {
    "duration": 62,
    "start_time": "2023-09-21T17:28:05.190Z"
   },
   {
    "duration": 28,
    "start_time": "2023-09-21T17:28:05.254Z"
   },
   {
    "duration": 41,
    "start_time": "2023-09-21T17:28:05.284Z"
   },
   {
    "duration": 34,
    "start_time": "2023-09-21T17:28:05.328Z"
   },
   {
    "duration": 840349,
    "start_time": "2023-09-21T17:28:05.364Z"
   },
   {
    "duration": 87,
    "start_time": "2023-09-21T17:42:05.715Z"
   },
   {
    "duration": 92637,
    "start_time": "2023-09-21T17:42:05.803Z"
   },
   {
    "duration": 5,
    "start_time": "2023-09-21T17:43:38.442Z"
   },
   {
    "duration": 658,
    "start_time": "2023-09-21T17:43:38.448Z"
   },
   {
    "duration": 4,
    "start_time": "2023-09-21T17:43:39.201Z"
   },
   {
    "duration": 27,
    "start_time": "2023-09-21T17:43:39.207Z"
   },
   {
    "duration": 37875,
    "start_time": "2023-09-21T17:43:39.236Z"
   },
   {
    "duration": 429,
    "start_time": "2023-09-21T17:44:17.113Z"
   },
   {
    "duration": 2,
    "start_time": "2023-09-21T17:44:17.544Z"
   },
   {
    "duration": 80,
    "start_time": "2023-09-21T17:44:17.547Z"
   },
   {
    "duration": 30,
    "start_time": "2023-09-21T17:44:17.629Z"
   },
   {
    "duration": 13,
    "start_time": "2023-09-21T17:44:17.661Z"
   },
   {
    "duration": 34,
    "start_time": "2023-09-21T17:44:17.676Z"
   },
   {
    "duration": 4175,
    "start_time": "2023-09-21T17:44:17.714Z"
   }
  ],
  "kernelspec": {
   "display_name": "Python 3 (ipykernel)",
   "language": "python",
   "name": "python3"
  },
  "language_info": {
   "codemirror_mode": {
    "name": "ipython",
    "version": 3
   },
   "file_extension": ".py",
   "mimetype": "text/x-python",
   "name": "python",
   "nbconvert_exporter": "python",
   "pygments_lexer": "ipython3",
   "version": "3.9.18"
  },
  "toc": {
   "base_numbering": 1,
   "nav_menu": {},
   "number_sections": true,
   "sideBar": true,
   "skip_h1_title": true,
   "title_cell": "Table of Contents",
   "title_sidebar": "Contents",
   "toc_cell": false,
   "toc_position": {},
   "toc_section_display": true,
   "toc_window_display": true
  }
 },
 "nbformat": 4,
 "nbformat_minor": 5
}
